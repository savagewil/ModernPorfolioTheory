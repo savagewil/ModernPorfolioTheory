{
 "cells": [
  {
   "cell_type": "code",
   "execution_count": 66,
   "outputs": [
    {
     "name": "stdout",
     "output_type": "stream",
     "text": [
      "C:\\Users\\William\\AppData\\Local\\Programs\\Python\\Python37\\python.exe\n"
     ]
    }
   ],
   "source": [
    "import sys\n",
    "print(sys.executable)"
   ],
   "metadata": {
    "collapsed": false,
    "pycharm": {
     "name": "#%%\n"
    }
   }
  },
  {
   "cell_type": "code",
   "execution_count": 67,
   "metadata": {
    "scrolled": true
   },
   "outputs": [],
   "source": [
    "## IMPORT NECESSARY LIBRARIES \n",
    "from matplotlib import pyplot as plt\n",
    "import pandas as pd\n",
    "import numpy as np\n",
    "import itertools"
   ]
  },
  {
   "cell_type": "code",
   "execution_count": 68,
   "metadata": {},
   "outputs": [],
   "source": [
    "import autograd.numpy as npg\n",
    "from autograd import grad, elementwise_grad as e_grad"
   ]
  },
  {
   "cell_type": "code",
   "execution_count": 69,
   "metadata": {},
   "outputs": [],
   "source": [
    "from bokeh.io import output_file, show, curdoc\n",
    "from bokeh.client import push_session\n",
    "from bokeh.models import ColumnDataSource, CrosshairTool, HoverTool, DataTable\n",
    "from bokeh.models import DatetimeTickFormatter, NumeralTickFormatter, Span, TableColumn\n",
    "from bokeh.plotting import figure\n",
    "from bokeh.layouts import column, row, gridplot, layout\n",
    "from bokeh.transform import cumsum\n",
    "from bokeh.colors import RGB"
   ]
  },
  {
   "cell_type": "code",
   "execution_count": 70,
   "metadata": {},
   "outputs": [],
   "source": [
    "import glob\n",
    "import os\n",
    "import sys\n",
    "import time\n",
    "from datetime import datetime,date\n",
    "import math\n",
    "import requests\n",
    "import json\n",
    "from typing import List, Tuple, Set"
   ]
  },
  {
   "cell_type": "code",
   "execution_count": 71,
   "metadata": {},
   "outputs": [],
   "source": [
    "import yfinance as yf\n",
    "import bankroll\n",
    "import colorsys\n",
    "# import cpi"
   ]
  },
  {
   "cell_type": "code",
   "execution_count": 72,
   "metadata": {},
   "outputs": [],
   "source": [
    "from scipy.optimize import minimize, minimize_scalar"
   ]
  },
  {
   "cell_type": "markdown",
   "metadata": {},
   "source": [
    "## Set constants"
   ]
  },
  {
   "cell_type": "code",
   "execution_count": 73,
   "metadata": {},
   "outputs": [],
   "source": [
    "stocks_read = pd.read_csv(\"configs/stocks.csv\", \"\\t\", index_col=0, header=None).loc[:,:2]\n",
    "stocks_limit = 100\n",
    "stocks = {}\n",
    "stocks[\"ticks\"] = list(stocks_read.loc[:,2])[:stocks_limit]\n",
    "stocks[\"names\"] = list(stocks_read.loc[:,1])[:stocks_limit]"
   ]
  },
  {
   "cell_type": "code",
   "execution_count": 74,
   "metadata": {},
   "outputs": [],
   "source": [
    "CASH_OVERIDE = 8058.68"
   ]
  },
  {
   "cell_type": "code",
   "execution_count": 75,
   "metadata": {},
   "outputs": [],
   "source": [
    "funds = {}\n",
    "funds[\"ticks\"], funds[\"names\"] = [list(l_) for l_ in zip(*[\n",
    "#     ('FFEBX', 'Fidelity Environmental Bond'),\n",
    "#     ('FLOWX', 'Fidelity Water Sustainability'),\n",
    "#     ('FSLEX', 'Fidelity Environment & Alternative Energy Fund'),\n",
    "#     ('FCAEX', 'Fidelity Climate Action Fund'),\n",
    "#     ('VFTAX', 'Vanguard FTSE Social Index Fund'),\n",
    "    ('FXAIX', 'Fidelity 500 Index Fund'),\n",
    "#     ('FFSFX', 'Fidelity Freedom 2065 Fund'),\n",
    "#     ('ACLTX', 'American Century NT Growth Fund G Class'),\n",
    "#     ('TRZBX', 'T. Rowe Price Blue Chip Growth Fund Z Class'),\n",
    "#     ('TILWX', 'TIAA-CREF Large Cap Growth Fund Class W'),\n",
    "    ('FITLX', 'Fidelity US Sustainability Index Fund'),\n",
    "    ('FNIDX', 'Fidelity International Sustainability Index Fd'),\n",
    "    ('FNDSX', 'Fidelity Sustainability Bond Index Fund'),\n",
    "    ('FSEBX', 'Fidelity Sustainable U.S. Equity Fund'),\n",
    "#     ('FWOMX', \"Fidelity Women's Leadership\")\n",
    "])]"
   ]
  },
  {
   "cell_type": "code",
   "execution_count": 76,
   "metadata": {},
   "outputs": [],
   "source": [
    "etfs = {}\n",
    "etfs[\"ticks\"], etfs[\"names\"] = [list(l_) for l_ in zip(*[\n",
    "    ('XLRE', 'The Real Estate Select Sector SPDR Fund'),\n",
    "    ('XLV', 'Health Care Select Sector SPDR Fund'),\n",
    "    ('FLSW', 'Franklin Templeton ETF Trust - Franklin FTSE Switzerland ETF'),\n",
    "    ('FCOM', 'Fidelity MSCI Communication Services Index ETF'),\n",
    "    ('SUSA', 'iShares Trust - iShares MSCI USA ESG Select ETF'),\n",
    "    ('IQSU', 'IQ Candriam ESG US Equity ETF'),\n",
    "    ('USSG', 'Xtrackers MSCI USA ESG Leaders Equity ETF'),\n",
    "    ('SUSB', 'iShares Trust - iShares ESG Aware 1-5 Year USD Corporate Bond ETF'),\n",
    "    ('SNPE', 'Xtrackers S&P 500 ESG ETF'),\n",
    "    ('SUSL', 'iShares Trust - iShares ESG MSCI USA Leaders ETF'),\n",
    "    ('EAGG', 'iShares Trust - iShares ESG Aware U.S. Aggregate Bond ETF')\n",
    "])]"
   ]
  },
  {
   "cell_type": "code",
   "execution_count": 77,
   "metadata": {},
   "outputs": [],
   "source": [
    "savings_rate = 0.0\n",
    "\n",
    "start_date = '2000-06-01 00:00:00'\n",
    "end_date = datetime.now().strftime(\"%Y-%m-%d %H:%M:%S\")\n",
    "\n",
    "plt.rcParams['figure.figsize'] = [15, 5]\n",
    "np.random.seed(42)"
   ]
  },
  {
   "cell_type": "code",
   "execution_count": 78,
   "metadata": {},
   "outputs": [],
   "source": [
    "MAX = 'MAX'\n",
    "MIN = 'MIN'"
   ]
  },
  {
   "cell_type": "code",
   "execution_count": 79,
   "metadata": {},
   "outputs": [],
   "source": [
    "\n",
    "profiles_names = [\n",
    "    \"IRA\",\n",
    "    \"Investment\",\n",
    "#     \"Amazon\",\n",
    "]\n",
    "profiles_targets:List[Tuple[float, float]] = [ \n",
    "    (0.20, MAX),\n",
    "    (0.50, MAX),\n",
    "#     (0.20, MAX),\n",
    "]\n",
    "profiles_options:List[Set[str]] = [ \n",
    "    set(funds[\"ticks\"]),\n",
    "    set(funds[\"ticks\"] + etfs[\"ticks\"] + stocks[\"ticks\"] + [\"CASH\"]),\n",
    "#     set(funds[\"ticks\"]),\n",
    "]\n"
   ]
  },
  {
   "cell_type": "markdown",
   "metadata": {},
   "source": [
    "### Define Ticks"
   ]
  },
  {
   "cell_type": "code",
   "execution_count": 80,
   "metadata": {},
   "outputs": [],
   "source": [
    "ticks = funds[\"ticks\"] + stocks[\"ticks\"] + etfs[\"ticks\"] + [\"CASH\"]\n",
    "\n",
    "tick_names = funds[\"names\"] + stocks[\"names\"] + etfs[\"names\"] + [\"CASH\"]"
   ]
  },
  {
   "cell_type": "code",
   "execution_count": 81,
   "metadata": {},
   "outputs": [],
   "source": [
    "ticks, tick_names = [list(l) for l in zip(*sorted(zip(ticks, tick_names)))]"
   ]
  },
  {
   "cell_type": "markdown",
   "metadata": {},
   "source": [
    "## Defining Functions"
   ]
  },
  {
   "cell_type": "code",
   "execution_count": 82,
   "metadata": {},
   "outputs": [],
   "source": [
    "def get_weights(wts):\n",
    "    wts = npg.maximum(0.0, wts)\n",
    "    if np.sum(wts) != 0:\n",
    "        wts = wts/np.sum(wts)\n",
    "    return wts"
   ]
  },
  {
   "cell_type": "code",
   "execution_count": 83,
   "metadata": {
    "scrolled": true
   },
   "outputs": [],
   "source": [
    "def filterTickers(ticks, tick_allowed):\n",
    "    return [tick for tick in ticks if tick in tick_allowed]\n",
    "\n",
    "def convertWTS(weights, options):\n",
    "#     print(\"Options\", options)\n",
    "#     print(\"Ticks\", ticks)\n",
    "    new_weights = np.zeros(len(ticks))\n",
    "    index = 0\n",
    "    for i in range(len(ticks)):\n",
    "        if ticks[i] in options:\n",
    "            new_weights[i] = weights[index]\n",
    "            index += 1\n",
    "        else:\n",
    "            new_weights[i] = 0.0\n",
    "    return get_weights(new_weights)\n",
    "#     return new_weights\n",
    "\n",
    "def options_to_matrix(options, ticks):\n",
    "    matrix = np.zeros((len(options), len(ticks)))\n",
    "    index = 0\n",
    "    for i in range(len(ticks)):\n",
    "        if ticks[i] in options:\n",
    "            matrix[index, i] = 1.0\n",
    "            index += 1\n",
    "    return matrix\n",
    "\n",
    "def ret_to_logret(ret):\n",
    "    log_ret = np.log(ret + 1)/252\n",
    "    return log_ret\n",
    "\n",
    "def logret_to_ret(log_ret):\n",
    "    return np.exp(log_ret * 252) - 1\n",
    "\n",
    "def get_return(wts, options):\n",
    "    wts = convertWTS(np.array(wts), options)\n",
    "#     wts = get_weights(wts)\n",
    "    port_ret = np.sum(log_ret_mean * wts)\n",
    "    port_ret = np.exp(port_ret*252) - 1\n",
    "    return port_ret\n",
    "\n",
    "def make_get_return(options, ticks):\n",
    "    matrix = options_to_matrix(options, ticks)\n",
    "    def get_return(wts, matrix=matrix):\n",
    "#         print(wts.shape)\n",
    "#         print(matrix.shape)\n",
    "#         wts = get_weights(wts @ matrix)\n",
    "        wts = wts @ matrix\n",
    "        port_ret = np.sum(log_ret_mean * wts)\n",
    "        port_ret = np.exp(port_ret*252) - 1\n",
    "        return port_ret\n",
    "    return get_return\n",
    "\n",
    "    \n",
    "def get_risk(wts, options):\n",
    "    wts = convertWTS(np.array(wts), options)\n",
    "    port_sd = npg.sqrt(npg.dot(wts.T, npg.dot(cov_mat, wts)))\n",
    "    return port_sd\n",
    "\n",
    "def make_get_risk(options, ticks):\n",
    "    matrix = options_to_matrix(options, ticks)\n",
    "    def get_risk(wts, matrix=matrix):\n",
    "#         print(wts.shape)\n",
    "#         print(matrix.shape)\n",
    "#         wts = get_weights(np.array(wts) @ matrix)\n",
    "        wts = wts @ matrix\n",
    "        port_sd = npg.sqrt(np.dot(wts.T, np.dot(cov_mat, wts)))\n",
    "        return port_sd\n",
    "    return get_risk\n",
    "\n",
    "def get_sharpe(wts, options):\n",
    "    port_ret = get_return(wts, options)\n",
    "    port_sd = get_risk(wts, options)\n",
    "    sr = port_ret / port_sd\n",
    "    return sr\n",
    "\n",
    "def make_get_sharpe(options, ticks):\n",
    "    get_risk = make_get_risk(options, ticks)\n",
    "    get_return = make_get_return(options, ticks)\n",
    "    def get_sharpe(wts, get_risk=get_risk, get_return=get_return):\n",
    "        port_ret = get_return(wts)\n",
    "        port_sd = get_risk(wts)\n",
    "        sr = port_ret / port_sd\n",
    "        return sr\n",
    "    return get_sharpe"
   ]
  },
  {
   "cell_type": "code",
   "execution_count": 84,
   "metadata": {},
   "outputs": [],
   "source": [
    "def get_weights_v(wts):\n",
    "    wts = npg.maximum(0.0, wts)\n",
    "    if npg.sum(wts) != 0:\n",
    "        wts = wts/npg.sum(wts, axis=1, keepdims=True)\n",
    "    return wts\n",
    "\n",
    "def convertWTS_v(weights, options):\n",
    "    new_weights = np.zeros((weights.shape[0], len(ticks)))\n",
    "    index = 0\n",
    "    for i in range(len(ticks)):\n",
    "        if ticks[i] in options:\n",
    "            new_weights[:, i] = weights[:, index]\n",
    "            index += 1\n",
    "        else:\n",
    "            new_weights[:, i] = 0.0\n",
    "    return get_weights_v(new_weights)\n",
    "\n",
    "def get_return_v(wts, options):\n",
    "#     print(wts.shape)\n",
    "    wts = convertWTS_v(wts, options)\n",
    "    port_ret = npg.sum(log_ret_mean * wts, axis=1)\n",
    "    port_ret = npg.exp(npg.multiply(port_ret, 252)) - 1\n",
    "    return port_ret\n",
    "    \n",
    "def get_risk_v(wts, options):\n",
    "    wts = convertWTS_v(wts, options)\n",
    "    port_sd = npg.sqrt(npg.sum(wts * npg.dot(wts, cov_mat.T), axis=1))\n",
    "    return port_sd\n",
    "\n",
    "def get_sharpe_v(wts, options):\n",
    "    port_ret = get_return_v(wts, options)\n",
    "    port_sd = get_risk_v(wts, options)\n",
    "    sr = port_ret / port_sd\n",
    "    return sr"
   ]
  },
  {
   "cell_type": "markdown",
   "metadata": {},
   "source": [
    "## For adding cash"
   ]
  },
  {
   "cell_type": "code",
   "execution_count": 85,
   "metadata": {},
   "outputs": [],
   "source": [
    "def get_weights_ratio(wts_1, wts_2, ratio):\n",
    "    wts_1 = np.array(wts_1)\n",
    "    wts_2 = np.array(wts_2)\n",
    "    wts = wts_1 * ratio + wts_2 * (1.0 - ratio)\n",
    "    wts = npg.maximum(0.0, wts)\n",
    "    if npg.sum(wts) != 0:\n",
    "        wts = wts/npg.sum(wts)\n",
    "    return wts"
   ]
  },
  {
   "cell_type": "code",
   "execution_count": 86,
   "metadata": {},
   "outputs": [],
   "source": [
    "def plot_risk_vs_return(risk, returns, risk_title=\"Risk\", return_title=\"Return\"):\n",
    "    fig, ax = plt.subplots(1,2)\n",
    "    ax[0].plot(risk.T)\n",
    "    ax[0].set_title(risk_title)\n",
    "    ax[1].plot(returns.T)\n",
    "    ax[1].set_title(return_title)\n",
    "    \n",
    "    ax[0].set_ylabel('Risk')\n",
    "    ax[0].set_xlabel('Iteration')\n",
    "    ax[1].set_ylabel('Return')\n",
    "    ax[1].set_xlabel('Iteration')\n",
    "    plt.show()\n",
    "\n",
    "    # Portfolio composition. Min variance, max SR, max return\n",
    "def plot_portfolio_composition(ticks, weights, plot_name, color_list, cash=None):\n",
    "    x = dict()\n",
    "    c = dict()\n",
    "    for i in range(len(ticks)):\n",
    "        if weights[i] >= 0.99:\n",
    "            if cash:\n",
    "                x[ticks[i]] = weights[i] * (cash)\n",
    "                c[ticks[i]] = color_list[i]\n",
    "                x[ticks[i]+\" \"] = weights[i] * (cash)\n",
    "                c[ticks[i]+\" \"] = color_list[i]\n",
    "            else:\n",
    "                x[ticks[i]] = weights[i]\n",
    "                c[ticks[i]] = color_list[i]\n",
    "                x[ticks[i]+\" \"] = weights[i]\n",
    "                c[ticks[i]+\" \"] = color_list[i]\n",
    "        elif weights[i] > 0.001:\n",
    "            if cash:\n",
    "                x[ticks[i]] = weights[i] * (cash)\n",
    "                c[ticks[i]] = color_list[i]\n",
    "            else:\n",
    "                x[ticks[i]] = weights[i]\n",
    "                c[ticks[i]] = color_list[i]\n",
    "\n",
    "    plot_data = pd.Series(x).reset_index(name='value').rename(columns={'index': 'stock'})\n",
    "    plot_data['angle'] = plot_data['value'] / plot_data['value'].sum() * 2 * math.pi\n",
    "    \n",
    "    plot_data['color'] = c.values()\n",
    "    \n",
    "    if cash:\n",
    "        p = figure(width=50, height=50, title=plot_name, toolbar_location=None,sizing_mode = \"scale_height\",\n",
    "                      tools=\"hover\", tooltips=\"@stock: $@value{0,0.00} \", x_range=(-0.5,0.5))\n",
    "    else:\n",
    "        p = figure(width=50, height=50, title=plot_name, toolbar_location=None,sizing_mode = \"scale_height\",\n",
    "                      tools=\"hover\", tooltips=\"@stock: @value{%0.1f}\", x_range=(-0.5,0.5))\n",
    "    p.title.align = 'center'\n",
    "    p.wedge(x=0, y=1, radius=0.4, start_angle=cumsum('angle', include_zero=True), end_angle=cumsum('angle'),\n",
    "                   line_color=\"white\", color='color', source=plot_data)\n",
    "    p.axis.axis_label = None\n",
    "    p.axis.visible = False\n",
    "    p.grid.grid_line_color = None\n",
    "    p.outline_line_color = None\n",
    "\n",
    "    return p"
   ]
  },
  {
   "cell_type": "markdown",
   "metadata": {},
   "source": [
    "## Define Accounts"
   ]
  },
  {
   "cell_type": "code",
   "execution_count": 87,
   "metadata": {},
   "outputs": [],
   "source": [
    "# path = \"./configs/profiles\"\n",
    "# FILE = open(path, 'r')\n",
    "# profiles = FILE.readlines()\n",
    "# FILE.close()\n",
    "# profiles = [profile.strip() for profile in profiles]\n"
   ]
  },
  {
   "cell_type": "code",
   "execution_count": 88,
   "metadata": {
    "scrolled": true
   },
   "outputs": [
    {
     "data": {
      "text/plain": "2.2250738585072014e-308"
     },
     "execution_count": 88,
     "metadata": {},
     "output_type": "execute_result"
    }
   ],
   "source": [
    "sys.float_info.min"
   ]
  },
  {
   "cell_type": "markdown",
   "metadata": {},
   "source": [
    "## Get the API Key"
   ]
  },
  {
   "cell_type": "code",
   "execution_count": 89,
   "metadata": {
    "scrolled": true
   },
   "outputs": [],
   "source": [
    "path = \"./configs/apikey\"\n",
    "FILE = open(path, 'r')\n",
    "api_key = FILE.readline()\n",
    "FILE.close()"
   ]
  },
  {
   "cell_type": "markdown",
   "metadata": {},
   "source": [
    "## Get the data"
   ]
  },
  {
   "cell_type": "code",
   "execution_count": 90,
   "metadata": {},
   "outputs": [],
   "source": [
    "if \"CASH\" in ticks: \n",
    "    ticks.remove(\"CASH\")\n",
    "if \"CASH\" in tick_names: \n",
    "    tick_names.remove(\"CASH\")"
   ]
  },
  {
   "cell_type": "code",
   "execution_count": 91,
   "metadata": {},
   "outputs": [
    {
     "name": "stdout",
     "output_type": "stream",
     "text": [
      "[*********************100%***********************]  114 of 114 completed\n",
      "[*********************100%***********************]  114 of 114 completed\n"
     ]
    }
   ],
   "source": [
    "yf_data = yf.download(\" \".join(ticks), period=\"5y\")"
   ]
  },
  {
   "cell_type": "code",
   "execution_count": 92,
   "metadata": {},
   "outputs": [],
   "source": [
    "price_data = yf_data[\"Close\"].copy()\n",
    "price_data['CASH'] = 1.0\n",
    "\n",
    "\n",
    "log_ret = np.log(price_data/price_data.shift(1))\n",
    "                \n",
    "cov_mat = np.array(np.exp(log_ret.cov()*252)-1)\n",
    "log_ret_mean = np.array(log_ret.mean(skipna=True))\n",
    "log_ret_mean[-1] = ret_to_logret(savings_rate)"
   ]
  },
  {
   "cell_type": "code",
   "execution_count": 93,
   "metadata": {},
   "outputs": [
    {
     "data": {
      "text/plain": "(50, 4.7144248534126494e-06)"
     },
     "execution_count": 37,
     "metadata": {},
     "output_type": "execute_result"
    },
    {
     "data": {
      "text/plain": "(50, 4.720481917232693e-06)"
     },
     "execution_count": 93,
     "metadata": {},
     "output_type": "execute_result"
    }
   ],
   "source": [
    "squared_diff = np.square(np.array(log_ret.mean(skipna=True)) - np.array(log_ret.median(skipna=True)))\n",
    "idx = np.argmax(squared_diff)\n",
    "idx, squared_diff[idx]"
   ]
  },
  {
   "cell_type": "code",
   "execution_count": 94,
   "metadata": {},
   "outputs": [],
   "source": [
    "ticks = ticks + [\"CASH\"]\n",
    "tick_names = tick_names + [\"CASH\"]"
   ]
  },
  {
   "cell_type": "markdown",
   "metadata": {},
   "source": [
    "## Load Profile Data"
   ]
  },
  {
   "cell_type": "code",
   "execution_count": 95,
   "metadata": {
    "scrolled": true
   },
   "outputs": [
    {
     "name": "stdout",
     "output_type": "stream",
     "text": [
      ".\\profiles\\Portfolio_Positions_Jun-23-2022.csv\n",
      ".\\profiles\\Portfolio_Positions_Jun-23-2022.csv\n"
     ]
    }
   ],
   "source": [
    "list_of_files = glob.glob('.\\profiles\\*.csv')\n",
    "latest_file = max(list_of_files, key=os.path.getctime)\n",
    "print(latest_file)\n",
    "df = pd.read_csv(latest_file)\n",
    "df = df[~df.Description.isna() | (df.Symbol == \"Pending Activity\")]\n",
    "df = df[['Account Number', 'Symbol', 'Current Value', 'Last Price Change']]"
   ]
  },
  {
   "cell_type": "code",
   "execution_count": 96,
   "metadata": {},
   "outputs": [
    {
     "data": {
      "text/plain": "             A  AAPL  ABG  ABT  ACN  ADBE  AFG  ALTR  AMAT  AMD  ...  WCC  \\\n230918210  0.0   0.0  0.0  0.0  0.0   0.0  0.0   0.0   0.0  0.0  ...  0.0   \nX91788377  0.0   0.0  0.0  0.0  0.0   0.0  0.0   0.0   0.0  0.0  ...  0.0   \n\n           WDAY  WFG   WM  XLRE  XLV  XYL  YUM  ZTS  CASH  \n230918210   0.0  0.0  0.0   0.0  0.0  0.0  0.0  0.0   0.0  \nX91788377   0.0  0.0  0.0   0.0  0.0  0.0  0.0  0.0   0.0  \n\n[2 rows x 115 columns]",
      "text/html": "<div>\n<style scoped>\n    .dataframe tbody tr th:only-of-type {\n        vertical-align: middle;\n    }\n\n    .dataframe tbody tr th {\n        vertical-align: top;\n    }\n\n    .dataframe thead th {\n        text-align: right;\n    }\n</style>\n<table border=\"1\" class=\"dataframe\">\n  <thead>\n    <tr style=\"text-align: right;\">\n      <th></th>\n      <th>A</th>\n      <th>AAPL</th>\n      <th>ABG</th>\n      <th>ABT</th>\n      <th>ACN</th>\n      <th>ADBE</th>\n      <th>AFG</th>\n      <th>ALTR</th>\n      <th>AMAT</th>\n      <th>AMD</th>\n      <th>...</th>\n      <th>WCC</th>\n      <th>WDAY</th>\n      <th>WFG</th>\n      <th>WM</th>\n      <th>XLRE</th>\n      <th>XLV</th>\n      <th>XYL</th>\n      <th>YUM</th>\n      <th>ZTS</th>\n      <th>CASH</th>\n    </tr>\n  </thead>\n  <tbody>\n    <tr>\n      <th>230918210</th>\n      <td>0.0</td>\n      <td>0.0</td>\n      <td>0.0</td>\n      <td>0.0</td>\n      <td>0.0</td>\n      <td>0.0</td>\n      <td>0.0</td>\n      <td>0.0</td>\n      <td>0.0</td>\n      <td>0.0</td>\n      <td>...</td>\n      <td>0.0</td>\n      <td>0.0</td>\n      <td>0.0</td>\n      <td>0.0</td>\n      <td>0.0</td>\n      <td>0.0</td>\n      <td>0.0</td>\n      <td>0.0</td>\n      <td>0.0</td>\n      <td>0.0</td>\n    </tr>\n    <tr>\n      <th>X91788377</th>\n      <td>0.0</td>\n      <td>0.0</td>\n      <td>0.0</td>\n      <td>0.0</td>\n      <td>0.0</td>\n      <td>0.0</td>\n      <td>0.0</td>\n      <td>0.0</td>\n      <td>0.0</td>\n      <td>0.0</td>\n      <td>...</td>\n      <td>0.0</td>\n      <td>0.0</td>\n      <td>0.0</td>\n      <td>0.0</td>\n      <td>0.0</td>\n      <td>0.0</td>\n      <td>0.0</td>\n      <td>0.0</td>\n      <td>0.0</td>\n      <td>0.0</td>\n    </tr>\n  </tbody>\n</table>\n<p>2 rows × 115 columns</p>\n</div>"
     },
     "execution_count": 40,
     "metadata": {},
     "output_type": "execute_result"
    },
    {
     "data": {
      "text/plain": "             A  AAPL  ABG  ABT  ACN  ADBE  AFG  ALTR  AMAT  AMD  ...  WCC  \\\n230918210  0.0   0.0  0.0  0.0  0.0   0.0  0.0   0.0   0.0  0.0  ...  0.0   \nX91788377  0.0   0.0  0.0  0.0  0.0   0.0  0.0   0.0   0.0  0.0  ...  0.0   \n\n           WDAY  WFG   WM  XLRE  XLV  XYL  YUM  ZTS  CASH  \n230918210   0.0  0.0  0.0   0.0  0.0  0.0  0.0  0.0   0.0  \nX91788377   0.0  0.0  0.0   0.0  0.0  0.0  0.0  0.0   0.0  \n\n[2 rows x 115 columns]",
      "text/html": "<div>\n<style scoped>\n    .dataframe tbody tr th:only-of-type {\n        vertical-align: middle;\n    }\n\n    .dataframe tbody tr th {\n        vertical-align: top;\n    }\n\n    .dataframe thead th {\n        text-align: right;\n    }\n</style>\n<table border=\"1\" class=\"dataframe\">\n  <thead>\n    <tr style=\"text-align: right;\">\n      <th></th>\n      <th>A</th>\n      <th>AAPL</th>\n      <th>ABG</th>\n      <th>ABT</th>\n      <th>ACN</th>\n      <th>ADBE</th>\n      <th>AFG</th>\n      <th>ALTR</th>\n      <th>AMAT</th>\n      <th>AMD</th>\n      <th>...</th>\n      <th>WCC</th>\n      <th>WDAY</th>\n      <th>WFG</th>\n      <th>WM</th>\n      <th>XLRE</th>\n      <th>XLV</th>\n      <th>XYL</th>\n      <th>YUM</th>\n      <th>ZTS</th>\n      <th>CASH</th>\n    </tr>\n  </thead>\n  <tbody>\n    <tr>\n      <th>230918210</th>\n      <td>0.0</td>\n      <td>0.0</td>\n      <td>0.0</td>\n      <td>0.0</td>\n      <td>0.0</td>\n      <td>0.0</td>\n      <td>0.0</td>\n      <td>0.0</td>\n      <td>0.0</td>\n      <td>0.0</td>\n      <td>...</td>\n      <td>0.0</td>\n      <td>0.0</td>\n      <td>0.0</td>\n      <td>0.0</td>\n      <td>0.0</td>\n      <td>0.0</td>\n      <td>0.0</td>\n      <td>0.0</td>\n      <td>0.0</td>\n      <td>0.0</td>\n    </tr>\n    <tr>\n      <th>X91788377</th>\n      <td>0.0</td>\n      <td>0.0</td>\n      <td>0.0</td>\n      <td>0.0</td>\n      <td>0.0</td>\n      <td>0.0</td>\n      <td>0.0</td>\n      <td>0.0</td>\n      <td>0.0</td>\n      <td>0.0</td>\n      <td>...</td>\n      <td>0.0</td>\n      <td>0.0</td>\n      <td>0.0</td>\n      <td>0.0</td>\n      <td>0.0</td>\n      <td>0.0</td>\n      <td>0.0</td>\n      <td>0.0</td>\n      <td>0.0</td>\n      <td>0.0</td>\n    </tr>\n  </tbody>\n</table>\n<p>2 rows × 115 columns</p>\n</div>"
     },
     "execution_count": 96,
     "metadata": {},
     "output_type": "execute_result"
    }
   ],
   "source": [
    "profile_makeup = pd.DataFrame(data = np.zeros((len(profiles), len(ticks))), \n",
    "                              index=profiles, \n",
    "                              columns=ticks)\n",
    "profile_makeup"
   ]
  },
  {
   "cell_type": "code",
   "execution_count": 97,
   "metadata": {},
   "outputs": [],
   "source": [
    "def clean(string):\n",
    "    for char in \"$,()\":\n",
    "        string = string.replace(char, \"\")\n",
    "    return string"
   ]
  },
  {
   "cell_type": "code",
   "execution_count": 98,
   "metadata": {},
   "outputs": [
    {
     "data": {
      "text/plain": "  Account Number     Symbol Current Value Last Price Change\n0      X91788377    FCASH**         $0.01             $0.00\n1      230918210    SPAXX**         $0.27             $0.00\n2      230918210      FITLX     $12583.70            +$0.02\n3      230918210      FNDSX       $623.92            +$0.08\n4      603447595  MA0000905       $194.28            +$0.04",
      "text/html": "<div>\n<style scoped>\n    .dataframe tbody tr th:only-of-type {\n        vertical-align: middle;\n    }\n\n    .dataframe tbody tr th {\n        vertical-align: top;\n    }\n\n    .dataframe thead th {\n        text-align: right;\n    }\n</style>\n<table border=\"1\" class=\"dataframe\">\n  <thead>\n    <tr style=\"text-align: right;\">\n      <th></th>\n      <th>Account Number</th>\n      <th>Symbol</th>\n      <th>Current Value</th>\n      <th>Last Price Change</th>\n    </tr>\n  </thead>\n  <tbody>\n    <tr>\n      <th>0</th>\n      <td>X91788377</td>\n      <td>FCASH**</td>\n      <td>$0.01</td>\n      <td>$0.00</td>\n    </tr>\n    <tr>\n      <th>1</th>\n      <td>230918210</td>\n      <td>SPAXX**</td>\n      <td>$0.27</td>\n      <td>$0.00</td>\n    </tr>\n    <tr>\n      <th>2</th>\n      <td>230918210</td>\n      <td>FITLX</td>\n      <td>$12583.70</td>\n      <td>+$0.02</td>\n    </tr>\n    <tr>\n      <th>3</th>\n      <td>230918210</td>\n      <td>FNDSX</td>\n      <td>$623.92</td>\n      <td>+$0.08</td>\n    </tr>\n    <tr>\n      <th>4</th>\n      <td>603447595</td>\n      <td>MA0000905</td>\n      <td>$194.28</td>\n      <td>+$0.04</td>\n    </tr>\n  </tbody>\n</table>\n</div>"
     },
     "execution_count": 42,
     "metadata": {},
     "output_type": "execute_result"
    },
    {
     "data": {
      "text/plain": "  Account Number     Symbol Current Value Last Price Change\n0      X91788377    FCASH**         $0.01             $0.00\n1      230918210    SPAXX**         $0.27             $0.00\n2      230918210      FITLX     $12583.70            +$0.02\n3      230918210      FNDSX       $623.92            +$0.08\n4      603447595  MA0000905       $194.28            +$0.04",
      "text/html": "<div>\n<style scoped>\n    .dataframe tbody tr th:only-of-type {\n        vertical-align: middle;\n    }\n\n    .dataframe tbody tr th {\n        vertical-align: top;\n    }\n\n    .dataframe thead th {\n        text-align: right;\n    }\n</style>\n<table border=\"1\" class=\"dataframe\">\n  <thead>\n    <tr style=\"text-align: right;\">\n      <th></th>\n      <th>Account Number</th>\n      <th>Symbol</th>\n      <th>Current Value</th>\n      <th>Last Price Change</th>\n    </tr>\n  </thead>\n  <tbody>\n    <tr>\n      <th>0</th>\n      <td>X91788377</td>\n      <td>FCASH**</td>\n      <td>$0.01</td>\n      <td>$0.00</td>\n    </tr>\n    <tr>\n      <th>1</th>\n      <td>230918210</td>\n      <td>SPAXX**</td>\n      <td>$0.27</td>\n      <td>$0.00</td>\n    </tr>\n    <tr>\n      <th>2</th>\n      <td>230918210</td>\n      <td>FITLX</td>\n      <td>$12583.70</td>\n      <td>+$0.02</td>\n    </tr>\n    <tr>\n      <th>3</th>\n      <td>230918210</td>\n      <td>FNDSX</td>\n      <td>$623.92</td>\n      <td>+$0.08</td>\n    </tr>\n    <tr>\n      <th>4</th>\n      <td>603447595</td>\n      <td>MA0000905</td>\n      <td>$194.28</td>\n      <td>+$0.04</td>\n    </tr>\n  </tbody>\n</table>\n</div>"
     },
     "execution_count": 98,
     "metadata": {},
     "output_type": "execute_result"
    }
   ],
   "source": [
    "df"
   ]
  },
  {
   "cell_type": "code",
   "execution_count": 99,
   "metadata": {},
   "outputs": [
    {
     "data": {
      "text/plain": "             A  AAPL  ABG  ABT  ACN  ADBE  AFG  ALTR  AMAT  AMD  ...  WCC  \\\n230918210  0.0   0.0  0.0  0.0  0.0   0.0  0.0   0.0   0.0  0.0  ...  0.0   \nX91788377  0.0   0.0  0.0  0.0  0.0   0.0  0.0   0.0   0.0  0.0  ...  0.0   \n\n           WDAY  WFG   WM  XLRE  XLV  XYL  YUM  ZTS  CASH  \n230918210   0.0  0.0  0.0   0.0  0.0  0.0  0.0  0.0  0.27  \nX91788377   0.0  0.0  0.0   0.0  0.0  0.0  0.0  0.0  0.01  \n\n[2 rows x 115 columns]",
      "text/html": "<div>\n<style scoped>\n    .dataframe tbody tr th:only-of-type {\n        vertical-align: middle;\n    }\n\n    .dataframe tbody tr th {\n        vertical-align: top;\n    }\n\n    .dataframe thead th {\n        text-align: right;\n    }\n</style>\n<table border=\"1\" class=\"dataframe\">\n  <thead>\n    <tr style=\"text-align: right;\">\n      <th></th>\n      <th>A</th>\n      <th>AAPL</th>\n      <th>ABG</th>\n      <th>ABT</th>\n      <th>ACN</th>\n      <th>ADBE</th>\n      <th>AFG</th>\n      <th>ALTR</th>\n      <th>AMAT</th>\n      <th>AMD</th>\n      <th>...</th>\n      <th>WCC</th>\n      <th>WDAY</th>\n      <th>WFG</th>\n      <th>WM</th>\n      <th>XLRE</th>\n      <th>XLV</th>\n      <th>XYL</th>\n      <th>YUM</th>\n      <th>ZTS</th>\n      <th>CASH</th>\n    </tr>\n  </thead>\n  <tbody>\n    <tr>\n      <th>230918210</th>\n      <td>0.0</td>\n      <td>0.0</td>\n      <td>0.0</td>\n      <td>0.0</td>\n      <td>0.0</td>\n      <td>0.0</td>\n      <td>0.0</td>\n      <td>0.0</td>\n      <td>0.0</td>\n      <td>0.0</td>\n      <td>...</td>\n      <td>0.0</td>\n      <td>0.0</td>\n      <td>0.0</td>\n      <td>0.0</td>\n      <td>0.0</td>\n      <td>0.0</td>\n      <td>0.0</td>\n      <td>0.0</td>\n      <td>0.0</td>\n      <td>0.27</td>\n    </tr>\n    <tr>\n      <th>X91788377</th>\n      <td>0.0</td>\n      <td>0.0</td>\n      <td>0.0</td>\n      <td>0.0</td>\n      <td>0.0</td>\n      <td>0.0</td>\n      <td>0.0</td>\n      <td>0.0</td>\n      <td>0.0</td>\n      <td>0.0</td>\n      <td>...</td>\n      <td>0.0</td>\n      <td>0.0</td>\n      <td>0.0</td>\n      <td>0.0</td>\n      <td>0.0</td>\n      <td>0.0</td>\n      <td>0.0</td>\n      <td>0.0</td>\n      <td>0.0</td>\n      <td>0.01</td>\n    </tr>\n  </tbody>\n</table>\n<p>2 rows × 115 columns</p>\n</div>"
     },
     "execution_count": 43,
     "metadata": {},
     "output_type": "execute_result"
    },
    {
     "data": {
      "text/plain": "             A  AAPL  ABG  ABT  ACN  ADBE  AFG  ALTR  AMAT  AMD  ...  WCC  \\\n230918210  0.0   0.0  0.0  0.0  0.0   0.0  0.0   0.0   0.0  0.0  ...  0.0   \nX91788377  0.0   0.0  0.0  0.0  0.0   0.0  0.0   0.0   0.0  0.0  ...  0.0   \n\n           WDAY  WFG   WM  XLRE  XLV  XYL  YUM  ZTS  CASH  \n230918210   0.0  0.0  0.0   0.0  0.0  0.0  0.0  0.0  0.27  \nX91788377   0.0  0.0  0.0   0.0  0.0  0.0  0.0  0.0  0.01  \n\n[2 rows x 115 columns]",
      "text/html": "<div>\n<style scoped>\n    .dataframe tbody tr th:only-of-type {\n        vertical-align: middle;\n    }\n\n    .dataframe tbody tr th {\n        vertical-align: top;\n    }\n\n    .dataframe thead th {\n        text-align: right;\n    }\n</style>\n<table border=\"1\" class=\"dataframe\">\n  <thead>\n    <tr style=\"text-align: right;\">\n      <th></th>\n      <th>A</th>\n      <th>AAPL</th>\n      <th>ABG</th>\n      <th>ABT</th>\n      <th>ACN</th>\n      <th>ADBE</th>\n      <th>AFG</th>\n      <th>ALTR</th>\n      <th>AMAT</th>\n      <th>AMD</th>\n      <th>...</th>\n      <th>WCC</th>\n      <th>WDAY</th>\n      <th>WFG</th>\n      <th>WM</th>\n      <th>XLRE</th>\n      <th>XLV</th>\n      <th>XYL</th>\n      <th>YUM</th>\n      <th>ZTS</th>\n      <th>CASH</th>\n    </tr>\n  </thead>\n  <tbody>\n    <tr>\n      <th>230918210</th>\n      <td>0.0</td>\n      <td>0.0</td>\n      <td>0.0</td>\n      <td>0.0</td>\n      <td>0.0</td>\n      <td>0.0</td>\n      <td>0.0</td>\n      <td>0.0</td>\n      <td>0.0</td>\n      <td>0.0</td>\n      <td>...</td>\n      <td>0.0</td>\n      <td>0.0</td>\n      <td>0.0</td>\n      <td>0.0</td>\n      <td>0.0</td>\n      <td>0.0</td>\n      <td>0.0</td>\n      <td>0.0</td>\n      <td>0.0</td>\n      <td>0.27</td>\n    </tr>\n    <tr>\n      <th>X91788377</th>\n      <td>0.0</td>\n      <td>0.0</td>\n      <td>0.0</td>\n      <td>0.0</td>\n      <td>0.0</td>\n      <td>0.0</td>\n      <td>0.0</td>\n      <td>0.0</td>\n      <td>0.0</td>\n      <td>0.0</td>\n      <td>...</td>\n      <td>0.0</td>\n      <td>0.0</td>\n      <td>0.0</td>\n      <td>0.0</td>\n      <td>0.0</td>\n      <td>0.0</td>\n      <td>0.0</td>\n      <td>0.0</td>\n      <td>0.0</td>\n      <td>0.01</td>\n    </tr>\n  </tbody>\n</table>\n<p>2 rows × 115 columns</p>\n</div>"
     },
     "execution_count": 99,
     "metadata": {},
     "output_type": "execute_result"
    }
   ],
   "source": [
    "for row_ in df.iterrows():\n",
    "#     print(row_)\n",
    "    if row_[1][\"Symbol\"] in ticks and  row_[1][\"Account Number\"] in profiles:\n",
    "        profile_makeup.loc[row_[1][\"Account Number\"], row_[1][\"Symbol\"]] = float(clean(row_[1][\"Current Value\"]))\n",
    "    elif row_[1][\"Account Number\"] in profiles:\n",
    "        if math.isnan(float(clean(str(row_[1][\"Current Value\"])))) and row_[1][\"Symbol\"] == \"Pending Activity\": \n",
    "#             print(\"Last Price Change\", row_[1])\n",
    "            profile_makeup.loc[row_[1][\"Account Number\"], \"CASH\"] += float(clean(str(row_[1][\"Last Price Change\"])))\n",
    "        else:\n",
    "            profile_makeup.loc[row_[1][\"Account Number\"], \"CASH\"] += float(clean(str(row_[1][\"Current Value\"])))\n",
    "#             print(\"Current Value\", row_[1])\n",
    "profile_makeup"
   ]
  },
  {
   "cell_type": "markdown",
   "metadata": {},
   "source": [
    "## Get Inflation Data"
   ]
  },
  {
   "cell_type": "code",
   "execution_count": 100,
   "metadata": {},
   "outputs": [],
   "source": [
    "headers = {'Content-type': 'application/json'}\n",
    "data = json.dumps({\"seriesid\": ['CUUR0000SA0'],\"startyear\":\"2020\", \"endyear\":\"2021\"})\n",
    "p = requests.post('https://api.bls.gov/publicAPI/v2/timeseries/data/', data=data, headers=headers)\n",
    "json_data = json.loads(p.text)\n"
   ]
  },
  {
   "cell_type": "code",
   "execution_count": 101,
   "metadata": {},
   "outputs": [],
   "source": [
    "df = pd.DataFrame.from_dict(json_data['Results']['series'][0]['data'])\n",
    "df.head()\n",
    "values = df[\"value\"].to_numpy().astype(float)\n",
    "inflations = (values[:-12] - values[12:])/values[12:]  \n",
    "current_inflation = inflations[0]\n",
    "avg_inflation = inflations.mean()"
   ]
  },
  {
   "cell_type": "markdown",
   "metadata": {},
   "source": [
    "## Get Limits"
   ]
  },
  {
   "cell_type": "markdown",
   "metadata": {},
   "source": [
    "### Get Max Sharpe"
   ]
  },
  {
   "cell_type": "code",
   "execution_count": 102,
   "metadata": {},
   "outputs": [
    {
     "name": "stdout",
     "output_type": "stream",
     "text": [
      "0.485581767285945\n",
      "1.4007101682926806\n",
      "0.485581767285945\n",
      "1.4010738217608574\n"
     ]
    }
   ],
   "source": [
    "# loss = lambda x: -get_sharpe(x, set(ticks))\n",
    "best_sharpe_weights = []\n",
    "for p_ in range(len(profiles_names)):\n",
    "#     get_return_local = make_get_return(profiles_options[p_], ticks)\n",
    "#     get_risk_local = make_get_risk(profiles_options[p_], ticks)\n",
    "    get_sharpe_local = make_get_sharpe(profiles_options[p_], ticks)\n",
    "    best_sharpe_weights.append(\n",
    "        minimize(\n",
    "            lambda x: -get_sharpe_local(x),\n",
    "            np.random.random(len(profiles_options[p_])),\n",
    "            constraints=[\n",
    "                {'type': 'eq', 'fun': lambda w: np.sum(w) - 1.},\n",
    "            ],\n",
    "            bounds=[(0., 1.) for i in range(len(profiles_options[p_]))]\n",
    "    ).x)\n",
    "    print(get_sharpe(best_sharpe_weights[p_], profiles_options[p_]))"
   ]
  },
  {
   "cell_type": "markdown",
   "metadata": {},
   "source": [
    "### Get Risk Limits"
   ]
  },
  {
   "cell_type": "code",
   "execution_count": 103,
   "metadata": {},
   "outputs": [
    {
     "name": "stdout",
     "output_type": "stream",
     "text": [
      "0.04085102780558994\n",
      "1.6051290648985494e-15\n",
      "0.04085102780558994\n",
      "8.305356759070658e-16\n"
     ]
    }
   ],
   "source": [
    "min_risk_weights = []\n",
    "\n",
    "for p_ in range(len(profiles_names)):\n",
    "    \n",
    "    get_return_local = make_get_return(profiles_options[p_], ticks)\n",
    "    get_risk_local =  make_get_risk(profiles_options[p_], ticks)\n",
    "    get_sharpe_local = make_get_sharpe(profiles_options[p_], ticks)\n",
    "    \n",
    "    loss = make_get_risk(profiles_options[p_], ticks)\n",
    "    \n",
    "    min_risk_weights.append(minimize(\n",
    "        loss,\n",
    "        np.random.random(len(profiles_options[p_])),\n",
    "        constraints=[\n",
    "            {'type': 'eq', 'fun': lambda w: np.sum(w) - 1.},\n",
    "        ],\n",
    "        bounds=[(0., 1.) for i in range(len(profiles_options[p_]))]\n",
    "    ).x)\n",
    "    print(get_risk(min_risk_weights[p_], profiles_options[p_]))\n",
    "    \n",
    "    "
   ]
  },
  {
   "cell_type": "code",
   "execution_count": 104,
   "metadata": {},
   "outputs": [
    {
     "name": "stdout",
     "output_type": "stream",
     "text": [
      "0.21172028453554007\n",
      "0.5666162580003756\n",
      "0.21172028453554007\n",
      "0.5666162580003832\n"
     ]
    }
   ],
   "source": [
    "max_risk_weights = []\n",
    "\n",
    "for p_ in range(len(profiles_names)):\n",
    "    \n",
    "    get_return_local = make_get_return(profiles_options[p_], ticks)\n",
    "    get_risk_local =  make_get_risk(profiles_options[p_], ticks)\n",
    "    get_sharpe_local = make_get_sharpe(profiles_options[p_], ticks)\n",
    "\n",
    "    loss = lambda x: -get_risk_local(x)\n",
    "    \n",
    "    max_risk_weights.append(minimize(\n",
    "        loss,\n",
    "        np.random.random(len(profiles_options[p_])),\n",
    "        constraints=[\n",
    "            {'type': 'eq', 'fun': lambda w: np.sum(w) - 1.},\n",
    "        ],\n",
    "        bounds=[(0., 1.) for i in range(len(profiles_options[p_]))]\n",
    "    ).x)\n",
    "    print(get_risk(max_risk_weights[p_], profiles_options[p_]))"
   ]
  },
  {
   "cell_type": "markdown",
   "metadata": {},
   "source": [
    "### Get Return Range"
   ]
  },
  {
   "cell_type": "code",
   "execution_count": 105,
   "metadata": {},
   "outputs": [
    {
     "name": "stdout",
     "output_type": "stream",
     "text": [
      "-0.14239018900894695\n",
      "-0.1423900635706411\n",
      "-0.14239018900894695\n",
      "-0.14239014881269252\n"
     ]
    }
   ],
   "source": [
    "min_return_weights = []\n",
    "\n",
    "for p_ in range(len(profiles_names)):\n",
    "    get_return_local = make_get_return(profiles_options[p_], ticks)\n",
    "    get_risk_local =  make_get_risk(profiles_options[p_], ticks)\n",
    "    get_sharpe_local = make_get_sharpe(profiles_options[p_], ticks)\n",
    "\n",
    "    loss = get_return_local   \n",
    "    min_return_weights.append(minimize(\n",
    "        loss,\n",
    "        np.random.random(len(profiles_options[p_])),\n",
    "        constraints=[\n",
    "            {'type': 'eq', 'fun': lambda w: np.sum(w) - 1.},\n",
    "        ],\n",
    "        bounds=[(0., 1.) for i in range(len(profiles_options[p_]))]\n",
    "    ).x)\n",
    "    print(get_return(min_return_weights[p_], profiles_options[p_]))"
   ]
  },
  {
   "cell_type": "code",
   "execution_count": 106,
   "metadata": {},
   "outputs": [
    {
     "name": "stdout",
     "output_type": "stream",
     "text": [
      "0.10280750993505094\n",
      "0.4245602775647641\n",
      "0.10280750993505094\n",
      "0.42445884526638844\n"
     ]
    }
   ],
   "source": [
    "max_return_weights = []\n",
    "\n",
    "for p_ in range(len(profiles_names)):\n",
    "    get_return_local = make_get_return(profiles_options[p_], ticks)\n",
    "    get_risk_local =  make_get_risk(profiles_options[p_], ticks)\n",
    "    get_sharpe_local = make_get_sharpe(profiles_options[p_], ticks)\n",
    "\n",
    "\n",
    "    loss = lambda x: -get_return_local(x)    \n",
    "    max_return_weights.append(minimize(\n",
    "        loss,\n",
    "        np.random.random(len(profiles_options[p_])),\n",
    "        constraints=[\n",
    "            {'type': 'eq', 'fun': lambda w: np.sum(w) - 1.},\n",
    "        ],\n",
    "        bounds=[(0., 1.) for i in range(len(profiles_options[p_]))]\n",
    "    ).x)\n",
    "    print(get_return(max_return_weights[p_], profiles_options[p_]))"
   ]
  },
  {
   "cell_type": "markdown",
   "metadata": {},
   "source": [
    "## Get List of Max Returns for Spread of risks"
   ]
  },
  {
   "cell_type": "code",
   "execution_count": 107,
   "metadata": {},
   "outputs": [],
   "source": [
    "risk_mins = [get_risk(min_risk_weights[p_], profiles_options[p_]) for p_ in range(len(profiles_names))]\n",
    "risk_maxs = [get_risk(max_return_weights[p_], profiles_options[p_]) for p_ in range(len(profiles_names))]\n",
    "risks_count = 50\n",
    "risks_bot = [np.linspace(risk_min, risk_max, risks_count, True) for risk_min, risk_max in zip(risk_mins, risk_maxs)]"
   ]
  },
  {
   "cell_type": "markdown",
   "metadata": {},
   "source": [
    "### Max Sharpe Spreads"
   ]
  },
  {
   "cell_type": "code",
   "execution_count": 108,
   "metadata": {
    "scrolled": true
   },
   "outputs": [
    {
     "name": "stdout",
     "output_type": "stream",
     "text": [
      "Running Profile IRA\n",
      "Optimization terminated successfully\n",
      "--- 0.06249809265136719 seconds ---\n",
      "Optimization terminated successfully\n",
      "--- 0.09389424324035645 seconds ---\n",
      "Optimization terminated successfully\n",
      "--- 0.10937094688415527 seconds ---\n",
      "Optimization terminated successfully\n",
      "--- 0.12499523162841797 seconds ---\n",
      "Optimization terminated successfully\n",
      "--- 0.15624499320983887 seconds ---\n",
      "Optimization terminated successfully\n",
      "--- 0.18749308586120605 seconds ---\n",
      "Optimization terminated successfully\n",
      "--- 0.20311903953552246 seconds ---\n",
      "Optimization terminated successfully\n",
      "--- 0.21874380111694336 seconds ---\n",
      "Optimization terminated successfully\n",
      "--- 0.24999308586120605 seconds ---\n",
      "Optimization terminated successfully\n",
      "--- 0.26561570167541504 seconds ---\n",
      "Optimization terminated successfully\n",
      "--- 0.29686617851257324 seconds ---\n",
      "Optimization terminated successfully\n",
      "--- 0.31249070167541504 seconds ---\n",
      "Optimization terminated successfully\n",
      "--- 0.3281843662261963 seconds ---\n",
      "Optimization terminated successfully\n",
      "--- 0.3593626022338867 seconds ---\n",
      "Optimization terminated successfully\n",
      "--- 0.3749885559082031 seconds ---\n",
      "Optimization terminated successfully\n",
      "--- 0.3906123638153076 seconds ---\n",
      "Optimization terminated successfully\n",
      "--- 0.42186403274536133 seconds ---\n",
      "Optimization terminated successfully\n",
      "--- 0.4531097412109375 seconds ---\n",
      "Optimization terminated successfully\n",
      "--- 0.4843602180480957 seconds ---\n",
      "Optimization terminated successfully\n",
      "--- 0.499985933303833 seconds ---\n",
      "Optimization terminated successfully\n",
      "--- 0.5156080722808838 seconds ---\n",
      "Optimization terminated successfully\n",
      "--- 0.5312333106994629 seconds ---\n",
      "Optimization terminated successfully\n",
      "--- 0.5624818801879883 seconds ---\n",
      "Optimization terminated successfully\n",
      "--- 0.5781071186065674 seconds ---\n",
      "Optimization terminated successfully\n",
      "--- 0.6093571186065674 seconds ---\n",
      "Optimization terminated successfully\n",
      "--- 0.64060378074646 seconds ---\n",
      "Optimization terminated successfully\n",
      "--- 0.6562306880950928 seconds ---\n",
      "Optimization terminated successfully\n",
      "--- 0.6874792575836182 seconds ---\n",
      "Optimization terminated successfully\n",
      "--- 0.7187268733978271 seconds ---\n",
      "Optimization terminated successfully\n",
      "--- 0.7343533039093018 seconds ---\n",
      "Optimization terminated successfully\n",
      "--- 0.749976634979248 seconds ---\n",
      "Optimization terminated successfully\n",
      "--- 0.7812244892120361 seconds ---\n",
      "Optimization terminated successfully\n",
      "--- 0.796851396560669 seconds ---\n",
      "Optimization terminated successfully\n",
      "--- 0.8280980587005615 seconds ---\n",
      "Optimization terminated successfully\n",
      "--- 0.8593494892120361 seconds ---\n",
      "Optimization terminated successfully\n",
      "--- 0.8905971050262451 seconds ---\n",
      "Optimization terminated successfully\n",
      "--- 0.9062213897705078 seconds ---\n",
      "Optimization terminated successfully\n",
      "--- 0.9374721050262451 seconds ---\n",
      "Optimization terminated successfully\n",
      "--- 0.953094482421875 seconds ---\n",
      "Optimization terminated successfully\n",
      "--- 0.9843432903289795 seconds ---\n",
      "Optimization terminated successfully\n",
      "--- 1.015592336654663 seconds ---\n",
      "Optimization terminated successfully\n",
      "--- 1.0312178134918213 seconds ---\n",
      "Optimization terminated successfully\n",
      "--- 1.0624663829803467 seconds ---\n",
      "Optimization terminated successfully\n",
      "--- 1.0780925750732422 seconds ---\n",
      "Optimization terminated successfully\n",
      "--- 1.1249639987945557 seconds ---\n",
      "Optimization terminated successfully\n",
      "--- 1.1405889987945557 seconds ---\n",
      "Optimization terminated successfully\n",
      "--- 1.1718382835388184 seconds ---\n",
      "Optimization terminated successfully\n",
      "--- 1.2030878067016602 seconds ---\n",
      "Optimization terminated successfully\n",
      "--- 1.2187118530273438 seconds ---\n",
      "Optimization terminated successfully\n",
      "--- 1.234337329864502 seconds ---\n",
      "Running Profile Investment\n",
      "Optimization terminated successfully\n",
      "--- 1.468703031539917 seconds ---\n",
      "Optimization terminated successfully\n",
      "--- 2.4686737060546875 seconds ---\n",
      "Optimization terminated successfully\n",
      "--- 3.796757698059082 seconds ---\n",
      "Optimization terminated successfully\n",
      "--- 4.874849557876587 seconds ---\n",
      "Optimization terminated successfully\n",
      "--- 5.92169189453125 seconds ---\n",
      "Optimization terminated successfully\n",
      "--- 6.909127712249756 seconds ---\n",
      "Optimization terminated successfully\n",
      "--- 7.862224102020264 seconds ---\n",
      "Optimization terminated successfully\n",
      "--- 8.784071445465088 seconds ---\n",
      "Optimization terminated successfully\n",
      "--- 9.643418312072754 seconds ---\n",
      "Optimization terminated successfully\n",
      "--- 10.690262079238892 seconds ---\n",
      "Optimization terminated successfully\n",
      "--- 11.5496084690094 seconds ---\n",
      "Optimization terminated successfully\n",
      "--- 12.377709865570068 seconds ---\n",
      "Optimization terminated successfully\n",
      "--- 13.283932447433472 seconds ---\n",
      "Optimization terminated successfully\n",
      "--- 13.830787420272827 seconds ---\n",
      "Optimization terminated successfully\n",
      "--- 14.487019777297974 seconds ---\n",
      "Optimization terminated successfully\n",
      "--- 15.018254041671753 seconds ---\n",
      "Optimization terminated successfully\n",
      "--- 15.54948616027832 seconds ---\n",
      "Optimization terminated successfully\n",
      "--- 16.14321756362915 seconds ---\n",
      "Optimization terminated successfully\n",
      "--- 16.747402667999268 seconds ---\n",
      "Optimization terminated successfully\n",
      "--- 17.39024543762207 seconds ---\n",
      "Optimization terminated successfully\n",
      "--- 18.04964303970337 seconds ---\n",
      "Optimization terminated successfully\n",
      "--- 18.6902437210083 seconds ---\n",
      "Optimization terminated successfully\n",
      "--- 19.362097024917603 seconds ---\n",
      "Optimization terminated successfully\n",
      "--- 20.050883769989014 seconds ---\n",
      "Optimization terminated successfully\n",
      "--- 20.70711350440979 seconds ---\n",
      "Optimization terminated successfully\n",
      "--- 21.5195894241333 seconds ---\n",
      "Optimization terminated successfully\n",
      "--- 22.238314628601074 seconds ---\n",
      "Optimization terminated successfully\n",
      "--- 23.019542694091797 seconds ---\n",
      "Optimization terminated successfully\n",
      "--- 23.613271713256836 seconds ---\n",
      "Optimization terminated successfully\n",
      "--- 24.207003593444824 seconds ---\n",
      "Optimization terminated successfully\n",
      "--- 24.831985235214233 seconds ---\n",
      "Optimization terminated successfully\n",
      "--- 25.64446187019348 seconds ---\n",
      "Optimization terminated successfully\n",
      "--- 26.456933736801147 seconds ---\n",
      "Optimization terminated successfully\n",
      "--- 27.175662755966187 seconds ---\n",
      "Optimization terminated successfully\n",
      "--- 27.7381489276886 seconds ---\n",
      "Optimization terminated successfully\n",
      "--- 28.331878185272217 seconds ---\n",
      "Optimization terminated successfully\n",
      "--- 28.925610303878784 seconds ---\n",
      "Optimization terminated successfully\n",
      "--- 29.519341230392456 seconds ---\n",
      "Optimization terminated successfully\n",
      "--- 30.066197395324707 seconds ---\n",
      "Optimization terminated successfully\n",
      "--- 30.67555522918701 seconds ---\n",
      "Optimization terminated successfully\n",
      "--- 31.238038063049316 seconds ---\n",
      "Optimization terminated successfully\n",
      "--- 31.7536461353302 seconds ---\n",
      "Optimization terminated successfully\n",
      "--- 32.20675444602966 seconds ---\n",
      "Optimization terminated successfully\n",
      "--- 32.6598687171936 seconds ---\n",
      "Optimization terminated successfully\n",
      "--- 33.097352743148804 seconds ---\n",
      "Optimization terminated successfully\n",
      "--- 33.50358843803406 seconds ---\n",
      "Optimization terminated successfully\n",
      "--- 33.94107627868652 seconds ---\n",
      "Optimization terminated successfully\n",
      "--- 34.300440549850464 seconds ---\n",
      "Optimization terminated successfully\n",
      "--- 34.62855529785156 seconds ---\n",
      "Optimization terminated successfully\n",
      "--- 34.73793148994446 seconds ---\n",
      "Running Profile IRA\n",
      "Optimization terminated successfully\n",
      "--- 0.06249070167541504 seconds ---\n",
      "Optimization terminated successfully\n",
      "--- 0.07811522483825684 seconds ---\n",
      "Optimization terminated successfully\n",
      "--- 0.09373950958251953 seconds ---\n",
      "Optimization terminated successfully\n",
      "--- 0.10936450958251953 seconds ---\n",
      "Optimization terminated successfully\n",
      "--- 0.12498760223388672 seconds ---\n",
      "Optimization terminated successfully\n",
      "--- 0.1562366485595703 seconds ---\n",
      "Optimization terminated successfully\n",
      "--- 0.1718616485595703 seconds ---\n",
      "Optimization terminated successfully\n",
      "--- 0.1874861717224121 seconds ---\n",
      "Optimization terminated successfully\n",
      "--- 0.2031102180480957 seconds ---\n",
      "Optimization terminated successfully\n",
      "--- 0.2343587875366211 seconds ---\n",
      "Optimization terminated successfully\n",
      "--- 0.2656080722808838 seconds ---\n",
      "Optimization terminated successfully\n",
      "--- 0.2812325954437256 seconds ---\n",
      "Optimization terminated successfully\n",
      "--- 0.2968599796295166 seconds ---\n",
      "Optimization terminated successfully\n",
      "--- 0.3124837875366211 seconds ---\n",
      "Optimization terminated successfully\n",
      "--- 0.3437309265136719 seconds ---\n",
      "Optimization terminated successfully\n",
      "--- 0.35935449600219727 seconds ---\n",
      "Optimization terminated successfully\n",
      "--- 0.37497949600219727 seconds ---\n",
      "Optimization terminated successfully\n",
      "--- 0.39061641693115234 seconds ---\n",
      "Optimization terminated successfully\n",
      "--- 0.4218559265136719 seconds ---\n",
      "Optimization terminated successfully\n",
      "--- 0.4374806880950928 seconds ---\n",
      "Optimization terminated successfully\n",
      "--- 0.45310306549072266 seconds ---\n",
      "Optimization terminated successfully\n",
      "--- 0.48435187339782715 seconds ---\n",
      "Optimization terminated successfully\n",
      "--- 0.5156021118164062 seconds ---\n",
      "Optimization terminated successfully\n",
      "--- 0.5312254428863525 seconds ---\n",
      "Optimization terminated successfully\n",
      "--- 0.562476634979248 seconds ---\n",
      "Optimization terminated successfully\n",
      "--- 0.5781011581420898 seconds ---\n",
      "Optimization terminated successfully\n",
      "--- 0.6093480587005615 seconds ---\n",
      "Optimization terminated successfully\n",
      "--- 0.6249725818634033 seconds ---\n",
      "Optimization terminated successfully\n",
      "--- 0.6562209129333496 seconds ---\n",
      "Optimization terminated successfully\n",
      "--- 0.6718463897705078 seconds ---\n",
      "Optimization terminated successfully\n",
      "--- 0.6874706745147705 seconds ---\n",
      "Optimization terminated successfully\n",
      "--- 0.7187204360961914 seconds ---\n",
      "Optimization terminated successfully\n",
      "--- 0.7343449592590332 seconds ---\n",
      "Optimization terminated successfully\n",
      "--- 0.7600243091583252 seconds ---\n",
      "Optimization terminated successfully\n",
      "--- 0.7912733554840088 seconds ---\n",
      "Optimization terminated successfully\n",
      "--- 0.8068995475769043 seconds ---\n",
      "Optimization terminated successfully\n",
      "--- 0.8381478786468506 seconds ---\n",
      "Optimization terminated successfully\n",
      "--- 0.8693976402282715 seconds ---\n",
      "Optimization terminated successfully\n",
      "--- 0.8850202560424805 seconds ---\n",
      "Optimization terminated successfully\n",
      "--- 0.9006447792053223 seconds ---\n",
      "Optimization terminated successfully\n",
      "--- 0.9318947792053223 seconds ---\n",
      "Optimization terminated successfully\n",
      "--- 0.947519063949585 seconds ---\n",
      "Optimization terminated successfully\n",
      "--- 0.9787685871124268 seconds ---\n",
      "Optimization terminated successfully\n",
      "--- 1.0100176334381104 seconds ---\n",
      "Optimization terminated successfully\n",
      "--- 1.041266918182373 seconds ---\n",
      "Optimization terminated successfully\n",
      "--- 1.0568904876708984 seconds ---\n",
      "Optimization terminated successfully\n",
      "--- 1.0725154876708984 seconds ---\n",
      "Optimization terminated successfully\n",
      "--- 1.088139533996582 seconds ---\n",
      "Optimization terminated successfully\n",
      "--- 1.1193878650665283 seconds ---\n",
      "Optimization terminated successfully\n",
      "--- 1.1506378650665283 seconds ---\n",
      "Running Profile Investment\n",
      "Optimization terminated successfully\n",
      "--- 1.369379997253418 seconds ---\n",
      "Optimization terminated successfully\n",
      "--- 2.321951150894165 seconds ---\n",
      "Optimization terminated successfully\n",
      "--- 3.1456668376922607 seconds ---\n",
      "Optimization terminated successfully\n",
      "--- 4.135037660598755 seconds ---\n",
      "Optimization terminated successfully\n",
      "--- 5.0256335735321045 seconds ---\n",
      "Optimization terminated successfully\n",
      "--- 5.900607109069824 seconds ---\n",
      "Optimization terminated successfully\n",
      "--- 6.807884216308594 seconds ---\n",
      "Optimization terminated successfully\n",
      "--- 7.698479175567627 seconds ---\n",
      "Optimization terminated successfully\n",
      "--- 8.526580333709717 seconds ---\n",
      "Optimization terminated successfully\n",
      "--- 9.510925054550171 seconds ---\n",
      "Optimization terminated successfully\n",
      "--- 10.307775735855103 seconds ---\n",
      "Optimization terminated successfully\n",
      "--- 11.042128801345825 seconds ---\n",
      "Optimization terminated successfully\n",
      "--- 11.838976860046387 seconds ---\n",
      "Optimization terminated successfully\n",
      "--- 12.370209217071533 seconds ---\n",
      "Optimization terminated successfully\n",
      "--- 12.98940920829773 seconds ---\n",
      "Optimization terminated successfully\n",
      "--- 13.458494901657104 seconds ---\n",
      "Optimization terminated successfully\n",
      "--- 13.95867109298706 seconds ---\n",
      "Optimization terminated successfully\n",
      "--- 14.458654642105103 seconds ---\n",
      "Optimization terminated successfully\n",
      "--- 14.974262714385986 seconds ---\n",
      "Optimization terminated successfully\n",
      "--- 15.583620071411133 seconds ---\n",
      "Optimization terminated successfully\n",
      "--- 16.208604335784912 seconds ---\n",
      "Optimization terminated successfully\n",
      "--- 16.864830017089844 seconds ---\n",
      "Optimization terminated successfully\n",
      "--- 17.5210599899292 seconds ---\n",
      "Optimization terminated successfully\n",
      "--- 18.168362855911255 seconds ---\n",
      "Optimization terminated successfully\n",
      "--- 18.80896520614624 seconds ---\n",
      "Optimization terminated successfully\n",
      "--- 19.512068510055542 seconds ---\n",
      "Optimization terminated successfully\n",
      "--- 20.168301820755005 seconds ---\n",
      "Optimization terminated successfully\n",
      "--- 20.87277913093567 seconds ---\n",
      "Optimization terminated successfully\n",
      "--- 21.45088481903076 seconds ---\n",
      "Optimization terminated successfully\n",
      "--- 22.060241222381592 seconds ---\n",
      "Optimization terminated successfully\n",
      "--- 22.638354778289795 seconds ---\n",
      "Optimization terminated successfully\n",
      "--- 23.263327598571777 seconds ---\n",
      "Optimization terminated successfully\n",
      "--- 23.955710649490356 seconds ---\n",
      "Optimization terminated successfully\n",
      "--- 24.564717292785645 seconds ---\n",
      "Optimization terminated successfully\n",
      "--- 25.03648805618286 seconds ---\n",
      "Optimization terminated successfully\n",
      "--- 25.598973274230957 seconds ---\n",
      "Optimization terminated successfully\n",
      "--- 26.167247772216797 seconds ---\n",
      "Optimization terminated successfully\n",
      "--- 26.682856798171997 seconds ---\n",
      "Optimization terminated successfully\n",
      "--- 27.20085072517395 seconds ---\n",
      "Optimization terminated successfully\n",
      "--- 27.721990823745728 seconds ---\n",
      "Optimization terminated successfully\n",
      "--- 28.20634913444519 seconds ---\n",
      "Optimization terminated successfully\n",
      "--- 28.69675040245056 seconds ---\n",
      "Optimization terminated successfully\n",
      "--- 29.12720561027527 seconds ---\n",
      "Optimization terminated successfully\n",
      "--- 29.565728187561035 seconds ---\n",
      "Optimization terminated successfully\n",
      "--- 29.990102529525757 seconds ---\n",
      "Optimization terminated successfully\n",
      "--- 30.365091800689697 seconds ---\n",
      "Optimization terminated successfully\n",
      "--- 30.75570583343506 seconds ---\n",
      "Optimization terminated successfully\n",
      "--- 31.099443674087524 seconds ---\n",
      "Optimization terminated successfully\n",
      "--- 31.349436044692993 seconds ---\n",
      "Optimization terminated successfully\n",
      "--- 31.44318461418152 seconds ---\n"
     ]
    }
   ],
   "source": [
    "best_weights_range = [np.random.random(size=(risks_count, len(profiles_options[p_]))) \n",
    "                      for p_ in range(len(profiles_names))]\n",
    "start_time = time.time()\n",
    "for p_ in range(len(profiles_names)):\n",
    "    print(\"Running Profile {}\".format(profiles_names[p_]))\n",
    "    get_return_local = make_get_return(profiles_options[p_], ticks)\n",
    "    get_risk_local = make_get_risk(profiles_options[p_], ticks)\n",
    "    for r in range(risks_count):\n",
    "        loss = lambda x: -get_return_local(x)\n",
    "        rts = minimize(\n",
    "              loss,\n",
    "              np.random.random(len(profiles_options[p_])),\n",
    "              constraints=[\n",
    "                {'type': 'eq', 'fun': lambda w: np.sum(w) - 1.},\n",
    "                {'type': 'ineq', 'fun': lambda w, risk=risks_bot[p_][r]: -(get_risk_local(w) - risk)},\n",
    "              ],\n",
    "              bounds=[(0., 1.) for i in range(len(profiles_options[p_]))]\n",
    "            )\n",
    "        best_weights_range[p_][r, :] = rts.x\n",
    "        print(rts.message)\n",
    "\n",
    "        print(\"--- %s seconds ---\" % (time.time() - start_time))\n",
    "#         print(rts)"
   ]
  },
  {
   "cell_type": "markdown",
   "metadata": {},
   "source": [
    "## Build Profiles"
   ]
  },
  {
   "cell_type": "code",
   "execution_count": 109,
   "metadata": {},
   "outputs": [
    {
     "name": "stdout",
     "output_type": "stream",
     "text": [
      "0.2 MAX\n",
      "0.2\n",
      "0.5 MAX\n",
      "0.5\n",
      "0.2 MAX\n",
      "0.2\n",
      "0.5 MAX\n",
      "0.5\n"
     ]
    }
   ],
   "source": [
    "profiles_constraints = []\n",
    "profiles_losses = []\n",
    "for target, options in zip(profiles_targets, profiles_options):\n",
    "    get_return_local = make_get_return(options, ticks)\n",
    "    get_risk_local =  make_get_risk(options, ticks)\n",
    "    get_sharpe_local = make_get_sharpe(options, ticks)\n",
    "    \n",
    "    if target is None:\n",
    "        profiles_constraints.append(None)\n",
    "        profiles_losses.append(None)\n",
    "    else:\n",
    "        risk_t, return_t = target\n",
    "        print(risk_t, return_t)\n",
    "        if (risk_t == MAX or risk_t == MIN) and (return_t == MAX or return_t == MIN):\n",
    "            profiles_constraints.append(None)\n",
    "            if (risk_t == MAX) and (return_t == MAX):\n",
    "                profiles_losses.append(lambda x,\n",
    "                                       get_return_local=get_return_local,\n",
    "                                       get_risk_local=get_risk_local,\n",
    "                                       get_sharpe_local=get_sharpe_local:-(get_return_local(x) * get_risk_local(x)))\n",
    "            elif (risk_t == MAX) and (return_t == MIN):\n",
    "                profiles_losses.append(lambda x, \n",
    "                                       get_return_local=get_return_local,\n",
    "                                       get_risk_local=get_risk_local,\n",
    "                                       get_sharpe_local=get_sharpe_local: get_sharpe_local(x))\n",
    "            elif (risk_t == MIN) and (return_t == MAX):\n",
    "                profiles_losses.append(lambda x, \n",
    "                                       get_return_local=get_return_local,\n",
    "                                       get_risk_local=get_risk_local,\n",
    "                                       get_sharpe_local=get_sharpe_local: -get_sharpe_local(x))\n",
    "            elif (risk_t == MIN) and (return_t == MIN):\n",
    "                profiles_losses.append(lambda x, \n",
    "                                       get_return_local=get_return_local,\n",
    "                                       get_risk_local=get_risk_local,\n",
    "                                       get_sharpe_local=get_sharpe_local: get_return_local(x) * get_risk_local(x))\n",
    "        elif (risk_t == MAX or risk_t == MIN):\n",
    "            print(return_t)\n",
    "            profiles_constraints.append({'type': 'eq', 'fun': lambda x, \n",
    "                                       get_return_local=get_return_local,\n",
    "                                       get_risk_local=get_risk_local,\n",
    "                                       get_sharpe_local=get_sharpe_local,\n",
    "                                       return_t=return_t: (get_return_local(x) - return_t)}),\n",
    "            if risk_t == MAX:\n",
    "                profiles_losses.append(lambda x,\n",
    "                                       get_return_local=get_return_local,\n",
    "                                       get_risk_local=get_risk_local,\n",
    "                                       get_sharpe_local=get_sharpe_local: -get_risk_local(x))\n",
    "            elif risk_t == MIN:\n",
    "                profiles_losses.append(lambda x, \n",
    "                                       get_return_local=get_return_local,\n",
    "                                       get_risk_local=get_risk_local,\n",
    "                                       get_sharpe_local=get_sharpe_local: get_risk_local(x))\n",
    "        elif (return_t == MAX or return_t == MIN):\n",
    "            print(risk_t)\n",
    "            profiles_constraints.append({'type': 'ineq', 'fun': lambda x, \n",
    "                                         get_return_local=get_return_local,\n",
    "                                         get_risk_local=get_risk_local,\n",
    "                                         get_sharpe_local=get_sharpe_local,\n",
    "                                         risk_t=risk_t: -(get_risk_local(x) - risk_t)}),\n",
    "            if return_t == MAX:\n",
    "                profiles_losses.append(lambda x, \n",
    "                                       get_return_local=get_return_local,\n",
    "                                       get_risk_local=get_risk_local,\n",
    "                                       get_sharpe_local=get_sharpe_local: -get_return_local(x))\n",
    "            elif return_t == MIN:\n",
    "                profiles_losses.append(lambda x, \n",
    "                                       get_return_local=get_return_local,\n",
    "                                       get_risk_local=get_risk_local,\n",
    "                                       get_sharpe_local=get_sharpe_local: get_return_local(x))   \n",
    "        else:\n",
    "            profiles_constraints.append(None)\n",
    "            profiles_losses.append(lambda x,\n",
    "                                   get_return_local=get_return_local,\n",
    "                                   get_risk_local=get_risk_local,\n",
    "                                   get_sharpe_local=get_sharpe_local,\n",
    "                                   return_t=return_t,\n",
    "                                   risk_t=risk_t: \n",
    "                                   np.abs(risk_t - get_risk_local(x)) * np.abs(return_t - get_return_local(x)))"
   ]
  },
  {
   "cell_type": "code",
   "execution_count": 110,
   "metadata": {
    "scrolled": false
   },
   "outputs": [
    {
     "name": "stdout",
     "output_type": "stream",
     "text": [
      "0\n",
      "{'type': 'ineq', 'fun': <function <lambda> at 0x00000211ADAD0828>}\n",
      "True\n",
      "(5,)\n",
      "49\n",
      "0.1\n",
      "0.20000002324966268\n",
      "0.09616630379603275\n",
      "--- 0.03125190734863281 seconds ---\n",
      "1\n",
      "{'type': 'ineq', 'fun': <function <lambda> at 0x00000211ADAD0048>}\n",
      "True\n",
      "(115,)\n",
      "49\n",
      "0.1\n",
      "0.5000002738184868\n",
      "0.4022256700130207\n",
      "--- 0.5156118869781494 seconds ---\n",
      "0\n",
      "{'type': 'ineq', 'fun': <function <lambda> at 0x00000211AD8D81F8>}\n",
      "True\n",
      "(5,)\n",
      "49\n",
      "0.1\n",
      "0.20000002324966268\n",
      "0.09616630379603275\n",
      "--- 0.0312497615814209 seconds ---\n",
      "1\n",
      "{'type': 'ineq', 'fun': <function <lambda> at 0x00000211AD8DD708>}\n",
      "True\n",
      "(115,)\n",
      "49\n",
      "0.1\n",
      "0.5000002825507895\n",
      "0.40222676917688727\n",
      "--- 0.4843604564666748 seconds ---\n"
     ]
    }
   ],
   "source": [
    "b = 1000\n",
    "i = 1000\n",
    "lr = 0.015\n",
    "batch = [b]*len(profiles)\n",
    "iterations = [i]*len(profiles)\n",
    "LR=[lr]*len(profiles)\n",
    "\n",
    "# LR[2]=0.005\n",
    "target_weights = []\n",
    "\n",
    "for i in range(len(profiles)):\n",
    "    print(i)\n",
    "    if profiles_targets[i] is not None:\n",
    "        \n",
    "        loss = profiles_losses[i]\n",
    "        start_time = time.time()\n",
    "        print(profiles_constraints[i])\n",
    "        rts = minimize(\n",
    "              loss,\n",
    "              np.random.random(len(profiles_options[i])),\n",
    "              constraints=[\n",
    "                {'type': 'eq', 'fun': lambda w: np.sum(w) - 1.},\n",
    "                profiles_constraints[i],\n",
    "              ] if profiles_constraints[i] is not None else [\n",
    "                {'type': 'eq', 'fun': lambda w: np.sum(w) - 1.},],\n",
    "              bounds=[(0., 1.) for tick in range(len(profiles_options[i]))]\n",
    "            )\n",
    "\n",
    "        print(rts.success)\n",
    "        target_weights.append(rts.x,)\n",
    "        print(rts.x.shape)\n",
    "        print(r)\n",
    "        if profiles_constraints[i] is not None:\n",
    "            print(0.1)\n",
    "        print(get_risk(rts.x, profiles_options[i]))\n",
    "        print(get_return(rts.x, profiles_options[i]))\n",
    "\n",
    "        print(\"--- %s seconds ---\" % (time.time() - start_time))\n",
    "        \n",
    "    else:\n",
    "        \n",
    "        wts = profile_makeup.loc[profiles[i]].to_numpy()\n",
    "        target_weights.append(wts)\n"
   ]
  },
  {
   "cell_type": "code",
   "execution_count": 111,
   "metadata": {},
   "outputs": [],
   "source": [
    "target_weights = [convertWTS(target, option) for target, option in zip(target_weights, profiles_options)]"
   ]
  },
  {
   "cell_type": "code",
   "execution_count": 112,
   "metadata": {},
   "outputs": [],
   "source": [
    "# target_weights"
   ]
  },
  {
   "cell_type": "markdown",
   "metadata": {},
   "source": [
    "## Build Buys"
   ]
  },
  {
   "cell_type": "markdown",
   "metadata": {},
   "source": [
    "## Rebalancing"
   ]
  },
  {
   "cell_type": "code",
   "execution_count": 113,
   "metadata": {
    "scrolled": true
   },
   "outputs": [],
   "source": [
    "profile_changes = []\n",
    "for i in range(len(profiles)):\n",
    "    profile_sum = np.sum(profile_makeup.loc[profiles[i]].to_numpy())\n",
    "    target_sum = np.sum(target_weights[i])\n",
    "    changes = target_weights[i] * (profile_sum/target_sum) - profile_makeup.loc[profiles[i]].to_numpy()\n",
    "    profile_changes.append(changes)"
   ]
  },
  {
   "cell_type": "code",
   "execution_count": 114,
   "metadata": {},
   "outputs": [],
   "source": [
    "# profile_changes"
   ]
  },
  {
   "cell_type": "markdown",
   "metadata": {},
   "source": [
    "## Display Graphs"
   ]
  },
  {
   "cell_type": "code",
   "execution_count": 115,
   "metadata": {},
   "outputs": [],
   "source": [
    "SAT = 0.5\n",
    "LUM = 0.5"
   ]
  },
  {
   "cell_type": "code",
   "execution_count": 116,
   "metadata": {},
   "outputs": [],
   "source": [
    "color_list = [colorsys.hls_to_rgb(h, LUM, SAT) for h in np.linspace(0.0, 1.0, len(ticks), endpoint=False)]\n",
    "color_list = [RGB(r*255,g*255,d*255) for r,g,d in color_list]\n",
    "color_list_accounts = [colorsys.hls_to_rgb(h, LUM, SAT) for h in np.linspace(0.0, 1.0, len(profiles), endpoint=False)]\n",
    "color_list_accounts = [RGB(r*255,g*255,d*255) for r,g,d in color_list_accounts]"
   ]
  },
  {
   "cell_type": "code",
   "execution_count": 116,
   "metadata": {},
   "outputs": [],
   "source": []
  },
  {
   "cell_type": "markdown",
   "metadata": {},
   "source": [
    "## Filter Ticks"
   ]
  },
  {
   "cell_type": "code",
   "execution_count": 117,
   "metadata": {},
   "outputs": [],
   "source": [
    "tick_filter = np.zeros((len(ticks),))\n",
    "for i in range(len(profiles)):\n",
    "    tick_filter += profile_makeup.loc[profiles[i]].to_numpy()\n",
    "    tick_filter += target_weights[i]\n",
    "tick_filter = tick_filter > 0.001\n"
   ]
  },
  {
   "cell_type": "code",
   "execution_count": 118,
   "metadata": {},
   "outputs": [
    {
     "data": {
      "text/plain": "[('A', False),\n ('AAPL', False),\n ('ABG', False),\n ('ABT', False),\n ('ACN', False),\n ('ADBE', False),\n ('AFG', False),\n ('ALTR', False),\n ('AMAT', False),\n ('AMD', True),\n ('AMP', False),\n ('AMT', False),\n ('ANET', False),\n ('APAM', False),\n ('ARE', False),\n ('ASGN', False),\n ('ASIX', False),\n ('ASML', False),\n ('AVY', False),\n ('BCO', False),\n ('BLL', False),\n ('CBT', False),\n ('CC', False),\n ('CCK', False),\n ('CDNS', True),\n ('CMG', False),\n ('CNHI', False),\n ('COST', False),\n ('CR', False),\n ('CRM', False),\n ('CSR', False),\n ('DAR', True),\n ('DE', False),\n ('DHR', False),\n ('DOV', False),\n ('EAGG', False),\n ('EBAY', False),\n ('ETN', False),\n ('EXPO', False),\n ('FB', False),\n ('FCOM', False),\n ('FITLX', True),\n ('FIVE', False),\n ('FLEX', False),\n ('FLSW', False),\n ('FN', False),\n ('FNDSX', True),\n ('FNIDX', False),\n ('FR', False),\n ('FSEBX', False),\n ('FTNT', False),\n ('FXAIX', False),\n ('GIL', False),\n ('GOOGL', False),\n ('GS', False),\n ('HOLX', False),\n ('HPE', False),\n ('IQSU', False),\n ('IT', False),\n ('JBHT', False),\n ('JBL', False),\n ('KEYS', False),\n ('KIM', False),\n ('LIN', False),\n ('LLY', False),\n ('LRCX', False),\n ('MAT', False),\n ('MATX', False),\n ('MC', False),\n ('MCB', False),\n ('MHK', False),\n ('MSFT', False),\n ('MSI', False),\n ('MT', False),\n ('NKE', False),\n ('NOG', False),\n ('NTAP', False),\n ('NVDA', False),\n ('OC', False),\n ('ON', False),\n ('ORCL', False),\n ('QCOM', False),\n ('QGEN', False),\n ('ROG', False),\n ('SHW', False),\n ('SMTC', False),\n ('SNPE', False),\n ('SPG', False),\n ('STLA', False),\n ('STLD', False),\n ('STM', False),\n ('SUI', False),\n ('SUSA', False),\n ('SUSB', False),\n ('SUSL', False),\n ('TEL', False),\n ('THRM', False),\n ('TMO', False),\n ('TSCO', False),\n ('TW', False),\n ('TX', False),\n ('TXN', False),\n ('TXT', False),\n ('USSG', False),\n ('VSTO', False),\n ('WCC', False),\n ('WDAY', False),\n ('WFG', False),\n ('WM', False),\n ('XLRE', False),\n ('XLV', False),\n ('XYL', False),\n ('YUM', False),\n ('ZTS', False),\n ('CASH', True)]"
     },
     "execution_count": 62,
     "metadata": {},
     "output_type": "execute_result"
    },
    {
     "data": {
      "text/plain": "[('A', False),\n ('AAPL', False),\n ('ABG', False),\n ('ABT', False),\n ('ACN', False),\n ('ADBE', False),\n ('AFG', False),\n ('ALTR', False),\n ('AMAT', False),\n ('AMD', True),\n ('AMP', False),\n ('AMT', False),\n ('ANET', False),\n ('APAM', False),\n ('ARE', False),\n ('ASGN', False),\n ('ASIX', False),\n ('ASML', False),\n ('AVY', False),\n ('BCO', False),\n ('BLL', False),\n ('CBT', False),\n ('CC', False),\n ('CCK', False),\n ('CDNS', True),\n ('CMG', False),\n ('CNHI', False),\n ('COST', False),\n ('CR', False),\n ('CRM', False),\n ('CSR', False),\n ('DAR', True),\n ('DE', False),\n ('DHR', False),\n ('DOV', False),\n ('EAGG', False),\n ('EBAY', False),\n ('ETN', False),\n ('EXPO', False),\n ('FB', False),\n ('FCOM', False),\n ('FITLX', True),\n ('FIVE', False),\n ('FLEX', False),\n ('FLSW', False),\n ('FN', False),\n ('FNDSX', True),\n ('FNIDX', False),\n ('FR', False),\n ('FSEBX', False),\n ('FTNT', False),\n ('FXAIX', False),\n ('GIL', False),\n ('GOOGL', False),\n ('GS', False),\n ('HOLX', False),\n ('HPE', False),\n ('IQSU', False),\n ('IT', False),\n ('JBHT', False),\n ('JBL', False),\n ('KEYS', False),\n ('KIM', False),\n ('LIN', False),\n ('LLY', False),\n ('LRCX', False),\n ('MAT', False),\n ('MATX', False),\n ('MC', False),\n ('MCB', False),\n ('MHK', False),\n ('MSFT', False),\n ('MSI', False),\n ('MT', False),\n ('NKE', False),\n ('NOG', False),\n ('NTAP', False),\n ('NVDA', False),\n ('OC', False),\n ('ON', False),\n ('ORCL', False),\n ('QCOM', False),\n ('QGEN', False),\n ('ROG', False),\n ('SHW', False),\n ('SMTC', False),\n ('SNPE', False),\n ('SPG', False),\n ('STLA', False),\n ('STLD', False),\n ('STM', False),\n ('SUI', False),\n ('SUSA', False),\n ('SUSB', False),\n ('SUSL', False),\n ('TEL', False),\n ('THRM', False),\n ('TMO', False),\n ('TSCO', False),\n ('TW', False),\n ('TX', False),\n ('TXN', False),\n ('TXT', False),\n ('USSG', False),\n ('VSTO', False),\n ('WCC', False),\n ('WDAY', False),\n ('WFG', False),\n ('WM', False),\n ('XLRE', False),\n ('XLV', False),\n ('XYL', False),\n ('YUM', False),\n ('ZTS', False),\n ('CASH', True)]"
     },
     "execution_count": 118,
     "metadata": {},
     "output_type": "execute_result"
    }
   ],
   "source": [
    "list(zip(ticks, tick_filter))"
   ]
  },
  {
   "cell_type": "markdown",
   "metadata": {},
   "source": [
    "# Plotting"
   ]
  },
  {
   "cell_type": "code",
   "execution_count": 119,
   "metadata": {},
   "outputs": [],
   "source": [
    "SAT = 0.5\n",
    "LUM = 0.5"
   ]
  },
  {
   "cell_type": "code",
   "execution_count": 120,
   "metadata": {},
   "outputs": [],
   "source": [
    "color_list = [colorsys.hls_to_rgb(h, LUM, SAT) for h in np.linspace(0.0, 1.0, len(ticks), endpoint=False)]\n",
    "color_list = [RGB(r*255,g*255,d*255) for r,g,d in color_list]\n",
    "color_list_accounts = [colorsys.hls_to_rgb(h, LUM, SAT) for h in np.linspace(0.0, 1.0, len(profiles), endpoint=False)]\n",
    "color_list_accounts = [RGB(r*255,g*255,d*255) for r,g,d in color_list_accounts]"
   ]
  },
  {
   "cell_type": "code",
   "execution_count": 121,
   "metadata": {
    "scrolled": false
   },
   "outputs": [
    {
     "name": "stdout",
     "output_type": "stream",
     "text": [
      "88.4752282402181\n",
      "0.010000000000000004\n",
      "[Figure(id='1277', ...), Figure(id='1308', ...)]\n",
      "[Figure(id='1339', ...), Figure(id='1370', ...)]\n",
      "===== Render Existing Profile Pie Charts ====\n",
      "[0.00000000e+00 0.00000000e+00 0.00000000e+00 0.00000000e+00\n",
      " 0.00000000e+00 0.00000000e+00 0.00000000e+00 0.00000000e+00\n",
      " 0.00000000e+00 0.00000000e+00 0.00000000e+00 0.00000000e+00\n",
      " 0.00000000e+00 0.00000000e+00 0.00000000e+00 0.00000000e+00\n",
      " 0.00000000e+00 0.00000000e+00 0.00000000e+00 0.00000000e+00\n",
      " 0.00000000e+00 0.00000000e+00 0.00000000e+00 0.00000000e+00\n",
      " 0.00000000e+00 0.00000000e+00 0.00000000e+00 0.00000000e+00\n",
      " 0.00000000e+00 0.00000000e+00 0.00000000e+00 0.00000000e+00\n",
      " 0.00000000e+00 0.00000000e+00 0.00000000e+00 0.00000000e+00\n",
      " 0.00000000e+00 0.00000000e+00 0.00000000e+00 0.00000000e+00\n",
      " 0.00000000e+00 9.52741127e-01 0.00000000e+00 0.00000000e+00\n",
      " 0.00000000e+00 0.00000000e+00 4.72384310e-02 0.00000000e+00\n",
      " 0.00000000e+00 0.00000000e+00 0.00000000e+00 0.00000000e+00\n",
      " 0.00000000e+00 0.00000000e+00 0.00000000e+00 0.00000000e+00\n",
      " 0.00000000e+00 0.00000000e+00 0.00000000e+00 0.00000000e+00\n",
      " 0.00000000e+00 0.00000000e+00 0.00000000e+00 0.00000000e+00\n",
      " 0.00000000e+00 0.00000000e+00 0.00000000e+00 0.00000000e+00\n",
      " 0.00000000e+00 0.00000000e+00 0.00000000e+00 0.00000000e+00\n",
      " 0.00000000e+00 0.00000000e+00 0.00000000e+00 0.00000000e+00\n",
      " 0.00000000e+00 0.00000000e+00 0.00000000e+00 0.00000000e+00\n",
      " 0.00000000e+00 0.00000000e+00 0.00000000e+00 0.00000000e+00\n",
      " 0.00000000e+00 0.00000000e+00 0.00000000e+00 0.00000000e+00\n",
      " 0.00000000e+00 0.00000000e+00 0.00000000e+00 0.00000000e+00\n",
      " 0.00000000e+00 0.00000000e+00 0.00000000e+00 0.00000000e+00\n",
      " 0.00000000e+00 0.00000000e+00 0.00000000e+00 0.00000000e+00\n",
      " 0.00000000e+00 0.00000000e+00 0.00000000e+00 0.00000000e+00\n",
      " 0.00000000e+00 0.00000000e+00 0.00000000e+00 0.00000000e+00\n",
      " 0.00000000e+00 0.00000000e+00 0.00000000e+00 0.00000000e+00\n",
      " 0.00000000e+00 0.00000000e+00 2.04423265e-05]\n",
      "[0. 0. 0. 0. 0. 0. 0. 0. 0. 0. 0. 0. 0. 0. 0. 0. 0. 0. 0. 0. 0. 0. 0. 0.\n",
      " 0. 0. 0. 0. 0. 0. 0. 0. 0. 0. 0. 0. 0. 0. 0. 0. 0. 0. 0. 0. 0. 0. 0. 0.\n",
      " 0. 0. 0. 0. 0. 0. 0. 0. 0. 0. 0. 0. 0. 0. 0. 0. 0. 0. 0. 0. 0. 0. 0. 0.\n",
      " 0. 0. 0. 0. 0. 0. 0. 0. 0. 0. 0. 0. 0. 0. 0. 0. 0. 0. 0. 0. 0. 0. 0. 0.\n",
      " 0. 0. 0. 0. 0. 0. 0. 0. 0. 0. 0. 0. 0. 0. 0. 0. 0. 0. 1.]\n",
      "[Figure(id='1516', ...), Figure(id='1576', ...)]\n",
      "funds [(0.6029626976092302, 0.4245604244425789), (0.3592069066567515, 0.34288950621746483), (0.4157228781024052, 0.3212894678389191), (0.21172028453554062, 0.10280750993505094), (0.04340529830057715, -0.014029236530804456), (0.0, 0.0)]\n",
      "88.4752282402181\n",
      "0.01\n",
      "[Figure(id='3000', ...), Figure(id='3031', ...)]\n",
      "[Figure(id='3062', ...), Figure(id='3093', ...)]\n",
      "===== Render Existing Profile Pie Charts ====\n",
      "[0.00000000e+00 0.00000000e+00 0.00000000e+00 0.00000000e+00\n",
      " 0.00000000e+00 0.00000000e+00 0.00000000e+00 0.00000000e+00\n",
      " 0.00000000e+00 0.00000000e+00 0.00000000e+00 0.00000000e+00\n",
      " 0.00000000e+00 0.00000000e+00 0.00000000e+00 0.00000000e+00\n",
      " 0.00000000e+00 0.00000000e+00 0.00000000e+00 0.00000000e+00\n",
      " 0.00000000e+00 0.00000000e+00 0.00000000e+00 0.00000000e+00\n",
      " 0.00000000e+00 0.00000000e+00 0.00000000e+00 0.00000000e+00\n",
      " 0.00000000e+00 0.00000000e+00 0.00000000e+00 0.00000000e+00\n",
      " 0.00000000e+00 0.00000000e+00 0.00000000e+00 0.00000000e+00\n",
      " 0.00000000e+00 0.00000000e+00 0.00000000e+00 0.00000000e+00\n",
      " 0.00000000e+00 9.52741127e-01 0.00000000e+00 0.00000000e+00\n",
      " 0.00000000e+00 0.00000000e+00 4.72384310e-02 0.00000000e+00\n",
      " 0.00000000e+00 0.00000000e+00 0.00000000e+00 0.00000000e+00\n",
      " 0.00000000e+00 0.00000000e+00 0.00000000e+00 0.00000000e+00\n",
      " 0.00000000e+00 0.00000000e+00 0.00000000e+00 0.00000000e+00\n",
      " 0.00000000e+00 0.00000000e+00 0.00000000e+00 0.00000000e+00\n",
      " 0.00000000e+00 0.00000000e+00 0.00000000e+00 0.00000000e+00\n",
      " 0.00000000e+00 0.00000000e+00 0.00000000e+00 0.00000000e+00\n",
      " 0.00000000e+00 0.00000000e+00 0.00000000e+00 0.00000000e+00\n",
      " 0.00000000e+00 0.00000000e+00 0.00000000e+00 0.00000000e+00\n",
      " 0.00000000e+00 0.00000000e+00 0.00000000e+00 0.00000000e+00\n",
      " 0.00000000e+00 0.00000000e+00 0.00000000e+00 0.00000000e+00\n",
      " 0.00000000e+00 0.00000000e+00 0.00000000e+00 0.00000000e+00\n",
      " 0.00000000e+00 0.00000000e+00 0.00000000e+00 0.00000000e+00\n",
      " 0.00000000e+00 0.00000000e+00 0.00000000e+00 0.00000000e+00\n",
      " 0.00000000e+00 0.00000000e+00 0.00000000e+00 0.00000000e+00\n",
      " 0.00000000e+00 0.00000000e+00 0.00000000e+00 0.00000000e+00\n",
      " 0.00000000e+00 0.00000000e+00 0.00000000e+00 0.00000000e+00\n",
      " 0.00000000e+00 0.00000000e+00 2.04423265e-05]\n",
      "[0. 0. 0. 0. 0. 0. 0. 0. 0. 0. 0. 0. 0. 0. 0. 0. 0. 0. 0. 0. 0. 0. 0. 0.\n",
      " 0. 0. 0. 0. 0. 0. 0. 0. 0. 0. 0. 0. 0. 0. 0. 0. 0. 0. 0. 0. 0. 0. 0. 0.\n",
      " 0. 0. 0. 0. 0. 0. 0. 0. 0. 0. 0. 0. 0. 0. 0. 0. 0. 0. 0. 0. 0. 0. 0. 0.\n",
      " 0. 0. 0. 0. 0. 0. 0. 0. 0. 0. 0. 0. 0. 0. 0. 0. 0. 0. 0. 0. 0. 0. 0. 0.\n",
      " 0. 0. 0. 0. 0. 0. 0. 0. 0. 0. 0. 0. 0. 0. 0. 0. 0. 0. 1.]\n",
      "[Figure(id='3239', ...), Figure(id='3299', ...)]\n",
      "funds [(0.6029645991171969, 0.42445885284349405), (0.3592206749655054, 0.34315970712350885), (0.4157102616907549, 0.32159907590717496), (0.21172028453554062, 0.10280750993505094), (0.04340529830057715, -0.014029236530804456), (0.0, 0.0)]\n"
     ]
    }
   ],
   "source": [
    "source = ColumnDataSource(price_data)\n",
    "# ===== Setup Plot ====\n",
    "p = figure(\n",
    "    sizing_mode = \"stretch_both\", \n",
    "    title=\"Efficient frontier.\",\n",
    "    tools='box_zoom,wheel_zoom,reset', \n",
    "    toolbar_location='right',\n",
    "    x_range=(-0.25,1.0)\n",
    ")\n",
    "p.add_tools(CrosshairTool(line_alpha=1, line_color='lightgray', line_width=1))\n",
    "p.add_tools(HoverTool(tooltips=None))\n",
    "\n",
    "p.xaxis.axis_label = 'Volatility, or risk (standard deviation)'\n",
    "p.yaxis.axis_label = 'Annual return'\n",
    "p.xaxis[0].formatter = NumeralTickFormatter(format=\"0.0%\")\n",
    "p.yaxis[0].formatter = NumeralTickFormatter(format=\"0.0%\")\n",
    "# ===== Render Boundries ====\n",
    "risk_boundry = Span(location=np.min([get_risk(min_risk_wts, options)for min_risk_wts, options in zip(min_risk_weights,profiles_options)]),\n",
    "                    dimension='height', line_color='#3A5311',\n",
    "                    line_width=1)\n",
    "return_boundry = Span(location=np.max([get_return(max_return_wts, options)for max_return_wts, options in zip(max_return_weights,profiles_options)]), \n",
    "                      dimension='width', line_color='#3A5311',\n",
    "                      line_width=1)\n",
    "current_inf_boundry = Span(location=current_inflation, \n",
    "                      dimension='width', line_color='#03C04A',\n",
    "                           line_width=1)\n",
    "average_inf_boundry = Span(location=avg_inflation, \n",
    "                      dimension='width', line_color='#607D3B',\n",
    "                           line_width=1)\n",
    "p.renderers.extend([risk_boundry, return_boundry, current_inf_boundry, average_inf_boundry])\n",
    "# ===== Render Best Sharpe Line ====\n",
    "for p_ in range(len(profiles_names)):\n",
    "#     if p_ == 1: continue\n",
    "    boundry = best_weights_range[p_]\n",
    "\n",
    "    l = p.line(\n",
    "        get_risk_v(boundry, profiles_options[p_]),\n",
    "        get_return_v(boundry, profiles_options[p_]), \n",
    "        color=\"purple\",\n",
    "    #     legend_label=\"Max Sharpe Line?\",\n",
    "        line_width=1)\n",
    "\n",
    "    p.add_tools(HoverTool(renderers=[l], tooltips=[\n",
    "        ('Name', \"Max Sharpe Line {}\".format(profiles_names[p_]))\n",
    "    ]))\n",
    "# ===== Render Sharpe Lines ====\n",
    "max_ret = np.max([get_return(max_return_wts, options)for max_return_wts, options in zip(max_return_weights,profiles_options)])\n",
    "p.line([0,max_ret],\n",
    "       [0,max_ret],\n",
    "#        legend_label=\"Sharpe Of 1\",\n",
    "       color=\"#00B7EB\",line_width=1)\n",
    "p.line([0,0.5*max_ret],\n",
    "       [0,max_ret],\n",
    "#        legend_label=\"Sharpe Of 2\",\n",
    "       color=\"#6495ED\",line_width=1)\n",
    "p.line([0,(1.0/3.0)*max_ret],\n",
    "       [0,max_ret],\n",
    "#        legend_label=\"Sharpe Of 3\",\n",
    "       color=\"#007FFF\",line_width=1)\n",
    "# ====== Render Prices ======\n",
    "t = figure(\n",
    "    sizing_mode = \"stretch_both\", \n",
    "    title=\"Distance from Mean Over Time\",\n",
    "    tools='box_zoom,wheel_zoom,reset', \n",
    "    toolbar_location='right',\n",
    "    x_axis_type='datetime'\n",
    "#     x_range=(-0.25,1.0)\n",
    ")\n",
    "# timestamp_start = (datetime.combine(datepicker_start.value, datetime.min.time())\n",
    "#                         - datetime(1970, 1, 1)) / timedelta(seconds=1)\n",
    "# timestamp_end = (datetime.combine(datepicker_end.value, datetime.min.time())\n",
    "#                     - datetime(1970, 1, 1)) / timedelta(seconds=1)\n",
    "visible_range=30\n",
    "range_ = 365*1\n",
    "t.x_range.start = (datetime.now().timestamp() - visible_range*24*60*60) * 1000  # Multiply by 1e3 as JS timestamp is in milliseconds\n",
    "t.x_range.end   = datetime.now().timestamp() * 1000  # Multiply by 1e3 as JS timestamp is in milliseconds\n",
    "adjusted_prices = (price_data-price_data[-range_:].mean())/price_data[-range_:].std()\n",
    "t.y_range.start = adjusted_prices[-visible_range:].min().min() \n",
    "t.y_range.end = adjusted_prices[-visible_range:].max().max()\n",
    "\n",
    "t.add_tools(CrosshairTool(line_alpha=1, line_color='lightgray', line_width=1))\n",
    "t.add_tools(HoverTool(tooltips=None))\n",
    "\n",
    "t.xaxis.axis_label = 'Date'\n",
    "t.yaxis.axis_label = 'STD'\n",
    "t.xaxis[0].formatter = DatetimeTickFormatter(days=[\"%b %d, %Y\"])\n",
    "t.yaxis[0].formatter = NumeralTickFormatter(format=\"0.0\")\n",
    "\n",
    "# ===== Plot prices =====\n",
    "\n",
    "source = ColumnDataSource(adjusted_prices)\n",
    "# source = ColumnDataSource((price_data))\n",
    "renderers=[]\n",
    "tooltips = []\n",
    "for i in range(len(ticks)):\n",
    "    if tick_filter[i]:\n",
    "        l = t.line(x = \"Date\", y=ticks[i],\n",
    "                 source=source,\n",
    "                 legend_label=ticks[i], \n",
    "                 name=ticks[i], \n",
    "                 color=color_list[i])\n",
    "        renderers.append(l)        \n",
    "tooltips.append(('Ticker', \"$name\"))\n",
    "t.add_tools(HoverTool(renderers=renderers, tooltips=tooltips))\n",
    "\n",
    "# ===== Render Rebalance Buy Charts ====\n",
    "fidelity_buy_values = []\n",
    "fidelity_buy_pies = []\n",
    "for i in range(len(profiles)):\n",
    "    \n",
    "    if profiles_targets[i] is not None:\n",
    "        wts = get_weights(profile_changes[i] * (profile_changes[i] > 0))\n",
    "        cash = np.sum(profile_changes[i] * (profile_changes[i] > 0))\n",
    "    else:\n",
    "        wts = get_weights(profile_makeup.loc[profiles[i]].to_numpy())\n",
    "        cash = np.sum(profile_makeup.loc[profiles[i]].to_numpy())\n",
    "    if CASH_OVERIDE is not None:\n",
    "        print(cash)\n",
    "        cash = min(cash, CASH_OVERIDE)\n",
    "\n",
    "    fidelity_buy_pies.append(\n",
    "        plot_portfolio_composition(ticks,\n",
    "                                   wts,\n",
    "                                   profiles_names[i] + \" Buy $%d\"%(cash),\n",
    "                                   color_list,\n",
    "                                   cash = cash))\n",
    "    fidelity_buy_values.append(wts * cash)\n",
    "\n",
    "print(fidelity_buy_pies)\n",
    "# ===== Render Rebalance Sell Pie Charts ====\n",
    "fidelity_sell_values = []\n",
    "fidelity_sell_pies = []\n",
    "for i in range(len(profiles)):\n",
    "    \n",
    "    if profiles_targets[i] is not None:\n",
    "        wts = get_weights(-profile_changes[i] * (profile_changes[i] < 0))\n",
    "        cash = np.sum(-profile_changes[i] * (profile_changes[i] < 0))\n",
    "        \n",
    "    else:\n",
    "        wts = get_weights(profile_makeup.loc[profiles[i]].to_numpy())\n",
    "        cash = np.sum(profile_makeup.loc[profiles[i]].to_numpy())\n",
    "    if CASH_OVERIDE is not None:\n",
    "        cash = min(cash, CASH_OVERIDE)\n",
    "    \n",
    "\n",
    "                            \n",
    "    fidelity_sell_pies.append(\n",
    "        plot_portfolio_composition(ticks,\n",
    "                                   wts,\n",
    "                                   profiles_names[i] + \" Sell $%d\"%(cash),\n",
    "                                   color_list,\n",
    "                                   cash = cash))\n",
    "    fidelity_sell_values.append(wts * cash)\n",
    "\n",
    "print(fidelity_sell_pies)\n",
    "# ===== Render Target Profile Pie Charts ====\n",
    "fidelity_targets = []\n",
    "renderers = []\n",
    "\n",
    "for i in range(len(target_weights)):\n",
    "    fidelity_targets.append(\n",
    "        plot_portfolio_composition(\n",
    "            (ticks if len(target_weights[i]) > len(ticks) else ticks),\n",
    "            get_weights(target_weights[i]),\n",
    "            profiles_names[i] + \" Target\",\n",
    "            color_list\n",
    "        ))\n",
    "    if np.sum(target_weights[i]) != 0.0:\n",
    "        c = p.circle(get_risk(get_weights(target_weights[i]), set(ticks)),\n",
    "                     get_return(get_weights(target_weights[i]), set(ticks)),\n",
    "                     color=color_list_accounts[i],\n",
    "                     alpha=0.6,\n",
    "                     name=profiles_names[i] + \" Target\",\n",
    "                     legend_label=profiles_names[i] + \" Target\",\n",
    "                     size=15)\n",
    "        renderers.append(c)\n",
    "# ===== Render Existing Profile Pie Charts ====\n",
    "print(\"===== Render Existing Profile Pie Charts ====\")\n",
    "fidelity_pies = []\n",
    "tooltips = []\n",
    "for i in range(len(profiles)):\n",
    "    wts = get_weights(profile_makeup.loc[profiles[i]].to_numpy())\n",
    "    print(wts)\n",
    "\n",
    "    fidelity_pies.append(\n",
    "        plot_portfolio_composition(ticks,\n",
    "                                   wts,\n",
    "                                   profiles_names[i],\n",
    "                                   color_list))\n",
    "    if np.sum(wts) != 0.0:\n",
    "        c = p.circle(get_risk(wts, set(ticks)), \n",
    "                     get_return(wts, set(ticks)), \n",
    "                     color=color_list_accounts[i], \n",
    "                     name=profiles_names[i],\n",
    "                     legend_label=profiles_names[i],\n",
    "                     size=15)\n",
    "        renderers.append(c)        \n",
    "print(fidelity_pies)\n",
    "tooltips.append(('Profile', \"$name\"))\n",
    "p.add_tools(HoverTool(renderers=renderers, tooltips=tooltips))\n",
    "# ===== Render Funds ====\n",
    "wts = np.eye(len(ticks))\n",
    "risks_ = get_risk_v(wts, ticks)\n",
    "returns_ = get_return_v(wts, ticks)\n",
    "colors = color_list\n",
    "print(\"funds\", list(zip(list(itertools.compress(risks_,tick_filter)), list(itertools.compress(returns_,tick_filter)))))\n",
    "funds_source = ColumnDataSource(dict(\n",
    "    risks=list(itertools.compress(risks_,tick_filter)),\n",
    "    returns=list(itertools.compress(returns_,tick_filter)),\n",
    "    color=list(itertools.compress(color_list,tick_filter)),\n",
    "    ticks=list(itertools.compress(ticks,tick_filter)),\n",
    "    tick_names=list(itertools.compress(tick_names,tick_filter)) \n",
    "))\n",
    "renderers = []\n",
    "\n",
    "renderers.append(p.circle( x='risks', y='returns', color='color', name='ticks', legend_field='ticks', size=10, alpha=0.8, source=funds_source))\n",
    "p.add_tools(HoverTool(renderers=renderers, tooltips=[\n",
    "    ('Tick', \"@ticks\"),('Tick Name', \"@tick_names\")\n",
    "]))\n",
    "\n",
    "# ===== Adjusting Legend ====\n",
    "p.legend.location = \"top_left\"\n",
    "# p.legend.visible = False\n",
    "p.legend.click_policy=\"hide\"\n",
    "p.legend.__setattr__('label_text_font_size', '8pt')\n",
    "\n",
    "\n",
    "t.legend.location = \"top_left\"\n",
    "# t.legend.visible = False\n",
    "t.legend.click_policy=\"hide\"\n",
    "t.legend.__setattr__('label_text_font_size', '8pt')\n",
    "# ===== Create dashboard and open new window to show results ====\n",
    "names = [name + \" Sell\" for name in profiles_names]+[name + \" Buy\" for name in profiles_names]\n",
    "names_alt = [None]*(2*len(profiles_names))\n",
    "names_alt[::2] = [name + \" Sell\" for name in profiles_names]\n",
    "names_alt[1::2] = [name + \" Buy\" for name in profiles_names]\n",
    "DF = pd.DataFrame({\n",
    "    name:[round(val, 2) for val in vals] \n",
    "    for name,vals in zip(names,fidelity_sell_values+fidelity_buy_values)\n",
    "}, index=ticks)\n",
    "DF = DF[DF.sum(axis=1) > 0]\n",
    "cols = list(DF[DF.sum(axis=1) > 0].columns)\n",
    "buy_sells_table = {col:list(DF[col]) for col in cols}\n",
    "buy_sells_table[\"Ticks\"] = list(DF.index)\n",
    "\n",
    "buy_self_source = ColumnDataSource(buy_sells_table)\n",
    "layout_ = row([ \n",
    "        column([\n",
    "            p,\n",
    "            t,\n",
    "        ], sizing_mode = \"stretch_both\"),\n",
    "    column([\n",
    "        row(fidelity_pies,\n",
    "               sizing_mode = \"stretch_height\"), \n",
    "        row(fidelity_targets\n",
    "               , sizing_mode = \"stretch_height\"),\n",
    "        \n",
    "        DataTable(columns=[TableColumn(title=\"Ticks\", field=\"Ticks\")] + [TableColumn(title=name, field=name) for name in names_alt], \n",
    "                  index_position=None,\n",
    "                  source=buy_self_source,\n",
    "                  editable=True,\n",
    "                  \n",
    "                  sizing_mode = \"stretch_both\")\n",
    "    ])\n",
    "    ],\n",
    "#     width=1500,\n",
    "    sizing_mode = \"stretch_both\")\n",
    "    \n",
    "show(layout_)"
   ]
  },
  {
   "cell_type": "code",
   "execution_count": 121,
   "metadata": {},
   "outputs": [],
   "source": []
  },
  {
   "cell_type": "code",
   "execution_count": 121,
   "metadata": {},
   "outputs": [],
   "source": []
  }
 ],
 "metadata": {
  "kernelspec": {
   "name": "python3",
   "language": "python",
   "display_name": "Python 3.7"
  },
  "language_info": {
   "codemirror_mode": {
    "name": "ipython",
    "version": 3
   },
   "file_extension": ".py",
   "mimetype": "text/x-python",
   "name": "python",
   "nbconvert_exporter": "python",
   "pygments_lexer": "ipython3",
   "version": "3.6.6"
  }
 },
 "nbformat": 4,
 "nbformat_minor": 4
}
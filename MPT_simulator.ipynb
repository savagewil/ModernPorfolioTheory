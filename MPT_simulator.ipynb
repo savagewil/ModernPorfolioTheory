{
 "cells": [
  {
   "cell_type": "code",
   "execution_count": 1,
   "metadata": {
    "pycharm": {
     "is_executing": true
    },
    "scrolled": true
   },
   "outputs": [],
   "source": [
    "## IMPORT NECESSARY LIBRARIES \n",
    "from matplotlib import pyplot as plt\n",
    "import pandas as pd\n",
    "import numpy as np\n",
    "import itertools"
   ]
  },
  {
   "cell_type": "code",
   "execution_count": 2,
   "metadata": {},
   "outputs": [],
   "source": [
    "import autograd.numpy as npg\n",
    "from autograd import grad, elementwise_grad as e_grad"
   ]
  },
  {
   "cell_type": "code",
   "execution_count": 3,
   "metadata": {},
   "outputs": [],
   "source": [
    "from bokeh.io import output_file, show, curdoc\n",
    "from bokeh.client import push_session\n",
    "from bokeh.models import ColumnDataSource, CrosshairTool, HoverTool, DataTable\n",
    "from bokeh.models import DatetimeTickFormatter, NumeralTickFormatter, Span, TableColumn\n",
    "from bokeh.plotting import figure\n",
    "from bokeh.layouts import column, row, gridplot, layout\n",
    "from bokeh.transform import cumsum\n",
    "from bokeh.colors import RGB"
   ]
  },
  {
   "cell_type": "code",
   "execution_count": 4,
   "metadata": {},
   "outputs": [],
   "source": [
    "import glob\n",
    "import os\n",
    "import sys\n",
    "import time\n",
    "from datetime import datetime,date\n",
    "import math\n",
    "import requests\n",
    "import json\n",
    "from typing import List, Tuple, Set"
   ]
  },
  {
   "cell_type": "code",
   "execution_count": 5,
   "metadata": {},
   "outputs": [],
   "source": [
    "import yfinance as yf\n",
    "import bankroll\n",
    "import colorsys\n",
    "# import cpi"
   ]
  },
  {
   "cell_type": "code",
   "execution_count": 6,
   "metadata": {},
   "outputs": [],
   "source": [
    "from scipy.optimize import minimize, minimize_scalar"
   ]
  },
  {
   "cell_type": "markdown",
   "metadata": {},
   "source": [
    "## Set constants"
   ]
  },
  {
   "cell_type": "code",
   "execution_count": 7,
   "metadata": {},
   "outputs": [],
   "source": [
    "stocks_read = pd.read_csv(\"configs/stocks.csv\", \"\\t\", index_col=0, header=None).loc[:,:2]\n",
    "stocks_limit = 100\n",
    "stocks = {}\n",
    "stocks[\"ticks\"] = list(stocks_read.loc[:,2])[:stocks_limit]\n",
    "stocks[\"names\"] = list(stocks_read.loc[:,1])[:stocks_limit]"
   ]
  },
  {
   "cell_type": "code",
   "execution_count": 134,
   "metadata": {},
   "outputs": [],
   "source": [
    "CASH_OVERIDE = 8058.68"
   ]
  },
  {
   "cell_type": "code",
   "execution_count": 86,
   "metadata": {},
   "outputs": [],
   "source": [
    "funds = {}\n",
    "funds[\"ticks\"], funds[\"names\"] = [list(l_) for l_ in zip(*[\n",
    "#     ('FFEBX', 'Fidelity Environmental Bond'),\n",
    "#     ('FLOWX', 'Fidelity Water Sustainability'),\n",
    "#     ('FSLEX', 'Fidelity Environment & Alternative Energy Fund'),\n",
    "#     ('FCAEX', 'Fidelity Climate Action Fund'),\n",
    "#     ('VFTAX', 'Vanguard FTSE Social Index Fund'),\n",
    "    ('FXAIX', 'Fidelity 500 Index Fund'),\n",
    "#     ('FFSFX', 'Fidelity Freedom 2065 Fund'),\n",
    "#     ('ACLTX', 'American Century NT Growth Fund G Class'),\n",
    "#     ('TRZBX', 'T. Rowe Price Blue Chip Growth Fund Z Class'),\n",
    "#     ('TILWX', 'TIAA-CREF Large Cap Growth Fund Class W'),\n",
    "    ('FITLX', 'Fidelity US Sustainability Index Fund'),\n",
    "    ('FNIDX', 'Fidelity International Sustainability Index Fd'),\n",
    "    ('FNDSX', 'Fidelity Sustainability Bond Index Fund'),\n",
    "    ('FSEBX', 'Fidelity Sustainable U.S. Equity Fund'),\n",
    "#     ('FWOMX', \"Fidelity Women's Leadership\")\n",
    "])]"
   ]
  },
  {
   "cell_type": "code",
   "execution_count": 87,
   "metadata": {},
   "outputs": [],
   "source": [
    "etfs = {}\n",
    "etfs[\"ticks\"], etfs[\"names\"] = [list(l_) for l_ in zip(*[\n",
    "    ('XLRE', 'The Real Estate Select Sector SPDR Fund'),\n",
    "    ('XLV', 'Health Care Select Sector SPDR Fund'),\n",
    "    ('FLSW', 'Franklin Templeton ETF Trust - Franklin FTSE Switzerland ETF'),\n",
    "    ('FCOM', 'Fidelity MSCI Communication Services Index ETF'),\n",
    "    ('SUSA', 'iShares Trust - iShares MSCI USA ESG Select ETF'),\n",
    "    ('IQSU', 'IQ Candriam ESG US Equity ETF'),\n",
    "    ('USSG', 'Xtrackers MSCI USA ESG Leaders Equity ETF'),\n",
    "    ('SUSB', 'iShares Trust - iShares ESG Aware 1-5 Year USD Corporate Bond ETF'),\n",
    "    ('SNPE', 'Xtrackers S&P 500 ESG ETF'),\n",
    "    ('SUSL', 'iShares Trust - iShares ESG MSCI USA Leaders ETF'),\n",
    "    ('EAGG', 'iShares Trust - iShares ESG Aware U.S. Aggregate Bond ETF')\n",
    "])]"
   ]
  },
  {
   "cell_type": "code",
   "execution_count": 88,
   "metadata": {},
   "outputs": [],
   "source": [
    "savings_rate = 0.0\n",
    "\n",
    "start_date = '2000-06-01 00:00:00'\n",
    "end_date = datetime.now().strftime(\"%Y-%m-%d %H:%M:%S\")\n",
    "\n",
    "plt.rcParams['figure.figsize'] = [15, 5]\n",
    "np.random.seed(42)"
   ]
  },
  {
   "cell_type": "code",
   "execution_count": 89,
   "metadata": {},
   "outputs": [],
   "source": [
    "MAX = 'MAX'\n",
    "MIN = 'MIN'"
   ]
  },
  {
   "cell_type": "code",
   "execution_count": 90,
   "metadata": {},
   "outputs": [],
   "source": [
    "profiles = [\n",
    "    \"***REMOVED***\",\n",
    "    \"***REMOVED***\",\n",
    "#     \"***REMOVED***\"\n",
    "]\n",
    "profiles_names = [\n",
    "    \"IRA\",\n",
    "    \"Investment\",\n",
    "#     \"Amazon\",\n",
    "]\n",
    "profiles_targets:List[Tuple[float, float]] = [ \n",
    "    (0.20, MAX),\n",
    "    (0.50, MAX),\n",
    "#     (0.20, MAX),\n",
    "]\n",
    "profiles_options:List[Set[str]] = [ \n",
    "    set(funds[\"ticks\"]),\n",
    "    set(funds[\"ticks\"] + etfs[\"ticks\"] + stocks[\"ticks\"] + [\"CASH\"]),\n",
    "#     set(funds[\"ticks\"]),\n",
    "]\n"
   ]
  },
  {
   "cell_type": "markdown",
   "metadata": {},
   "source": [
    "### Define Ticks"
   ]
  },
  {
   "cell_type": "code",
   "execution_count": 91,
   "metadata": {},
   "outputs": [],
   "source": [
    "ticks = funds[\"ticks\"] + stocks[\"ticks\"] + etfs[\"ticks\"] + [\"CASH\"]\n",
    "\n",
    "tick_names = funds[\"names\"] + stocks[\"names\"] + etfs[\"names\"] + [\"CASH\"]"
   ]
  },
  {
   "cell_type": "code",
   "execution_count": 92,
   "metadata": {},
   "outputs": [],
   "source": [
    "ticks, tick_names = [list(l) for l in zip(*sorted(zip(ticks, tick_names)))]"
   ]
  },
  {
   "cell_type": "markdown",
   "metadata": {},
   "source": [
    "## Defining Functions"
   ]
  },
  {
   "cell_type": "code",
   "execution_count": 93,
   "metadata": {
    "pycharm": {
     "is_executing": true
    }
   },
   "outputs": [],
   "source": [
    "def get_weights(wts):\n",
    "    wts = npg.maximum(0.0, wts)\n",
    "    if np.sum(wts) != 0:\n",
    "        wts = wts/np.sum(wts)\n",
    "    return wts"
   ]
  },
  {
   "cell_type": "code",
   "execution_count": 94,
   "metadata": {
    "pycharm": {
     "is_executing": true
    },
    "scrolled": true
   },
   "outputs": [],
   "source": [
    "def filterTickers(ticks, tick_allowed):\n",
    "    return [tick for tick in ticks if tick in tick_allowed]\n",
    "\n",
    "def convertWTS(weights, options):\n",
    "#     print(\"Options\", options)\n",
    "#     print(\"Ticks\", ticks)\n",
    "    new_weights = np.zeros(len(ticks))\n",
    "    index = 0\n",
    "    for i in range(len(ticks)):\n",
    "        if ticks[i] in options:\n",
    "            new_weights[i] = weights[index]\n",
    "            index += 1\n",
    "        else:\n",
    "            new_weights[i] = 0.0\n",
    "    return get_weights(new_weights)\n",
    "#     return new_weights\n",
    "\n",
    "def options_to_matrix(options, ticks):\n",
    "    matrix = np.zeros((len(options), len(ticks)))\n",
    "    index = 0\n",
    "    for i in range(len(ticks)):\n",
    "        if ticks[i] in options:\n",
    "            matrix[index, i] = 1.0\n",
    "            index += 1\n",
    "    return matrix\n",
    "\n",
    "def ret_to_logret(ret):\n",
    "    log_ret = np.log(ret + 1)/252\n",
    "    return log_ret\n",
    "\n",
    "def logret_to_ret(log_ret):\n",
    "    return np.exp(log_ret * 252) - 1\n",
    "\n",
    "def get_return(wts, options):\n",
    "    wts = convertWTS(np.array(wts), options)\n",
    "#     wts = get_weights(wts)\n",
    "    port_ret = np.sum(log_ret_mean * wts)\n",
    "    port_ret = np.exp(port_ret*252) - 1\n",
    "    return port_ret\n",
    "\n",
    "def make_get_return(options, ticks):\n",
    "    matrix = options_to_matrix(options, ticks)\n",
    "    def get_return(wts, matrix=matrix):\n",
    "#         print(wts.shape)\n",
    "#         print(matrix.shape)\n",
    "#         wts = get_weights(wts @ matrix)\n",
    "        wts = wts @ matrix\n",
    "        port_ret = np.sum(log_ret_mean * wts)\n",
    "        port_ret = np.exp(port_ret*252) - 1\n",
    "        return port_ret\n",
    "    return get_return\n",
    "\n",
    "    \n",
    "def get_risk(wts, options):\n",
    "    wts = convertWTS(np.array(wts), options)\n",
    "    port_sd = npg.sqrt(npg.dot(wts.T, npg.dot(cov_mat, wts)))\n",
    "    return port_sd\n",
    "\n",
    "def make_get_risk(options, ticks):\n",
    "    matrix = options_to_matrix(options, ticks)\n",
    "    def get_risk(wts, matrix=matrix):\n",
    "#         print(wts.shape)\n",
    "#         print(matrix.shape)\n",
    "#         wts = get_weights(np.array(wts) @ matrix)\n",
    "        wts = wts @ matrix\n",
    "        port_sd = npg.sqrt(np.dot(wts.T, np.dot(cov_mat, wts)))\n",
    "        return port_sd\n",
    "    return get_risk\n",
    "\n",
    "def get_sharpe(wts, options):\n",
    "    port_ret = get_return(wts, options)\n",
    "    port_sd = get_risk(wts, options)\n",
    "    sr = port_ret / port_sd\n",
    "    return sr\n",
    "\n",
    "def make_get_sharpe(options, ticks):\n",
    "    get_risk = make_get_risk(options, ticks)\n",
    "    get_return = make_get_return(options, ticks)\n",
    "    def get_sharpe(wts, get_risk=get_risk, get_return=get_return):\n",
    "        port_ret = get_return(wts)\n",
    "        port_sd = get_risk(wts)\n",
    "        sr = port_ret / port_sd\n",
    "        return sr\n",
    "    return get_sharpe"
   ]
  },
  {
   "cell_type": "code",
   "execution_count": 95,
   "metadata": {},
   "outputs": [],
   "source": [
    "def get_weights_v(wts):\n",
    "    wts = npg.maximum(0.0, wts)\n",
    "    if npg.sum(wts) != 0:\n",
    "        wts = wts/npg.sum(wts, axis=1, keepdims=True)\n",
    "    return wts\n",
    "\n",
    "def convertWTS_v(weights, options):\n",
    "    new_weights = np.zeros((weights.shape[0], len(ticks)))\n",
    "    index = 0\n",
    "    for i in range(len(ticks)):\n",
    "        if ticks[i] in options:\n",
    "            new_weights[:, i] = weights[:, index]\n",
    "            index += 1\n",
    "        else:\n",
    "            new_weights[:, i] = 0.0\n",
    "    return get_weights_v(new_weights)\n",
    "\n",
    "def get_return_v(wts, options):\n",
    "#     print(wts.shape)\n",
    "    wts = convertWTS_v(wts, options)\n",
    "    port_ret = npg.sum(log_ret_mean * wts, axis=1)\n",
    "    port_ret = npg.exp(npg.multiply(port_ret, 252)) - 1\n",
    "    return port_ret\n",
    "    \n",
    "def get_risk_v(wts, options):\n",
    "    wts = convertWTS_v(wts, options)\n",
    "    port_sd = npg.sqrt(npg.sum(wts * npg.dot(wts, cov_mat.T), axis=1))\n",
    "    return port_sd\n",
    "\n",
    "def get_sharpe_v(wts, options):\n",
    "    port_ret = get_return_v(wts, options)\n",
    "    port_sd = get_risk_v(wts, options)\n",
    "    sr = port_ret / port_sd\n",
    "    return sr"
   ]
  },
  {
   "cell_type": "markdown",
   "metadata": {},
   "source": [
    "## For adding cash"
   ]
  },
  {
   "cell_type": "code",
   "execution_count": 96,
   "metadata": {},
   "outputs": [],
   "source": [
    "def get_weights_ratio(wts_1, wts_2, ratio):\n",
    "    wts_1 = np.array(wts_1)\n",
    "    wts_2 = np.array(wts_2)\n",
    "    wts = wts_1 * ratio + wts_2 * (1.0 - ratio)\n",
    "    wts = npg.maximum(0.0, wts)\n",
    "    if npg.sum(wts) != 0:\n",
    "        wts = wts/npg.sum(wts)\n",
    "    return wts"
   ]
  },
  {
   "cell_type": "code",
   "execution_count": 97,
   "metadata": {},
   "outputs": [],
   "source": [
    "def plot_risk_vs_return(risk, returns, risk_title=\"Risk\", return_title=\"Return\"):\n",
    "    fig, ax = plt.subplots(1,2)\n",
    "    ax[0].plot(risk.T)\n",
    "    ax[0].set_title(risk_title)\n",
    "    ax[1].plot(returns.T)\n",
    "    ax[1].set_title(return_title)\n",
    "    \n",
    "    ax[0].set_ylabel('Risk')\n",
    "    ax[0].set_xlabel('Iteration')\n",
    "    ax[1].set_ylabel('Return')\n",
    "    ax[1].set_xlabel('Iteration')\n",
    "    plt.show()\n",
    "\n",
    "    # Portfolio composition. Min variance, max SR, max return\n",
    "def plot_portfolio_composition(ticks, weights, plot_name, color_list, cash=None):\n",
    "    x = dict()\n",
    "    c = dict()\n",
    "    for i in range(len(ticks)):\n",
    "        if weights[i] >= 0.99:\n",
    "            if cash:\n",
    "                x[ticks[i]] = weights[i] * (cash)\n",
    "                c[ticks[i]] = color_list[i]\n",
    "                x[ticks[i]+\" \"] = weights[i] * (cash)\n",
    "                c[ticks[i]+\" \"] = color_list[i]\n",
    "            else:\n",
    "                x[ticks[i]] = weights[i]\n",
    "                c[ticks[i]] = color_list[i]\n",
    "                x[ticks[i]+\" \"] = weights[i]\n",
    "                c[ticks[i]+\" \"] = color_list[i]\n",
    "        elif weights[i] > 0.001:\n",
    "            if cash:\n",
    "                x[ticks[i]] = weights[i] * (cash)\n",
    "                c[ticks[i]] = color_list[i]\n",
    "            else:\n",
    "                x[ticks[i]] = weights[i]\n",
    "                c[ticks[i]] = color_list[i]\n",
    "\n",
    "    plot_data = pd.Series(x).reset_index(name='value').rename(columns={'index': 'stock'})\n",
    "    plot_data['angle'] = plot_data['value'] / plot_data['value'].sum() * 2 * math.pi\n",
    "    \n",
    "    plot_data['color'] = c.values()\n",
    "    \n",
    "    if cash:\n",
    "        p = figure(width=50, height=50, title=plot_name, toolbar_location=None,sizing_mode = \"scale_height\",\n",
    "                      tools=\"hover\", tooltips=\"@stock: $@value{0,0.00} \", x_range=(-0.5,0.5))\n",
    "    else:\n",
    "        p = figure(width=50, height=50, title=plot_name, toolbar_location=None,sizing_mode = \"scale_height\",\n",
    "                      tools=\"hover\", tooltips=\"@stock: @value{%0.1f}\", x_range=(-0.5,0.5))\n",
    "    p.title.align = 'center'\n",
    "    p.wedge(x=0, y=1, radius=0.4, start_angle=cumsum('angle', include_zero=True), end_angle=cumsum('angle'),\n",
    "                   line_color=\"white\", color='color', source=plot_data)\n",
    "    p.axis.axis_label = None\n",
    "    p.axis.visible = False\n",
    "    p.grid.grid_line_color = None\n",
    "    p.outline_line_color = None\n",
    "\n",
    "    return p"
   ]
  },
  {
   "cell_type": "markdown",
   "metadata": {},
   "source": [
    "## Define Accounts"
   ]
  },
  {
   "cell_type": "code",
   "execution_count": 98,
   "metadata": {},
   "outputs": [],
   "source": [
    "# path = \"./configs/profiles\"\n",
    "# FILE = open(path, 'r')\n",
    "# profiles = FILE.readlines()\n",
    "# FILE.close()\n",
    "# profiles = [profile.strip() for profile in profiles]\n"
   ]
  },
  {
   "cell_type": "code",
   "execution_count": 99,
   "metadata": {
    "scrolled": true
   },
   "outputs": [
    {
     "data": {
      "text/plain": [
       "2.2250738585072014e-308"
      ]
     },
     "execution_count": 99,
     "metadata": {},
     "output_type": "execute_result"
    }
   ],
   "source": [
    "sys.float_info.min"
   ]
  },
  {
   "cell_type": "markdown",
   "metadata": {},
   "source": [
    "## Get the API Key"
   ]
  },
  {
   "cell_type": "code",
   "execution_count": 100,
   "metadata": {
    "scrolled": true
   },
   "outputs": [],
   "source": [
    "path = \"./configs/apikey\"\n",
    "FILE = open(path, 'r')\n",
    "api_key = FILE.readline()\n",
    "FILE.close()"
   ]
  },
  {
   "cell_type": "markdown",
   "metadata": {},
   "source": [
    "## Get the data"
   ]
  },
  {
   "cell_type": "code",
   "execution_count": 101,
   "metadata": {},
   "outputs": [],
   "source": [
    "if \"CASH\" in ticks: \n",
    "    ticks.remove(\"CASH\")\n",
    "if \"CASH\" in tick_names: \n",
    "    tick_names.remove(\"CASH\")"
   ]
  },
  {
   "cell_type": "code",
   "execution_count": 102,
   "metadata": {},
   "outputs": [
    {
     "name": "stdout",
     "output_type": "stream",
     "text": [
      "[*********************100%***********************]  114 of 114 completed\n"
     ]
    }
   ],
   "source": [
    "yf_data = yf.download(\" \".join(ticks), period=\"5y\")"
   ]
  },
  {
   "cell_type": "code",
   "execution_count": 103,
   "metadata": {},
   "outputs": [],
   "source": [
    "price_data = yf_data[\"Close\"].copy()\n",
    "price_data['CASH'] = 1.0\n",
    "\n",
    "\n",
    "log_ret = np.log(price_data/price_data.shift(1))\n",
    "                \n",
    "cov_mat = np.array(np.exp(log_ret.cov()*252)-1)\n",
    "log_ret_mean = np.array(log_ret.mean(skipna=True))\n",
    "log_ret_mean[-1] = ret_to_logret(savings_rate)"
   ]
  },
  {
   "cell_type": "code",
   "execution_count": 104,
   "metadata": {},
   "outputs": [
    {
     "data": {
      "text/plain": [
       "(56, 2.8677648051348095e-06)"
      ]
     },
     "execution_count": 104,
     "metadata": {},
     "output_type": "execute_result"
    }
   ],
   "source": [
    "squared_diff = np.square(np.array(log_ret.mean(skipna=True)) - np.array(log_ret.median(skipna=True)))\n",
    "idx = np.argmax(squared_diff)\n",
    "idx, squared_diff[idx]"
   ]
  },
  {
   "cell_type": "code",
   "execution_count": 105,
   "metadata": {},
   "outputs": [],
   "source": [
    "ticks = ticks + [\"CASH\"]\n",
    "tick_names = tick_names + [\"CASH\"]"
   ]
  },
  {
   "cell_type": "markdown",
   "metadata": {},
   "source": [
    "## Load Profile Data"
   ]
  },
  {
   "cell_type": "code",
   "execution_count": 106,
   "metadata": {
    "scrolled": true
   },
   "outputs": [
    {
     "name": "stdout",
     "output_type": "stream",
     "text": [
      ".\\profiles\\Portfolio_Positions_Jun-09-2022 (1).csv\n"
     ]
    }
   ],
   "source": [
    "list_of_files = glob.glob('.\\profiles\\*.csv')\n",
    "latest_file = max(list_of_files, key=os.path.getctime)\n",
    "print(latest_file)\n",
    "df = pd.read_csv(latest_file)\n",
    "df = df[~df.Description.isna() | (df.Symbol == \"Pending Activity\")]\n",
    "df = df[['Account Number', 'Symbol', 'Current Value', 'Last Price Change']]"
   ]
  },
  {
   "cell_type": "code",
   "execution_count": 107,
   "metadata": {},
   "outputs": [
    {
     "data": {
      "text/html": [
       "<div>\n",
       "<style scoped>\n",
       "    .dataframe tbody tr th:only-of-type {\n",
       "        vertical-align: middle;\n",
       "    }\n",
       "\n",
       "    .dataframe tbody tr th {\n",
       "        vertical-align: top;\n",
       "    }\n",
       "\n",
       "    .dataframe thead th {\n",
       "        text-align: right;\n",
       "    }\n",
       "</style>\n",
       "<table border=\"1\" class=\"dataframe\">\n",
       "  <thead>\n",
       "    <tr style=\"text-align: right;\">\n",
       "      <th></th>\n",
       "      <th>A</th>\n",
       "      <th>AAPL</th>\n",
       "      <th>ABG</th>\n",
       "      <th>ABT</th>\n",
       "      <th>ACN</th>\n",
       "      <th>ADBE</th>\n",
       "      <th>AFG</th>\n",
       "      <th>ALTR</th>\n",
       "      <th>AMAT</th>\n",
       "      <th>AMD</th>\n",
       "      <th>...</th>\n",
       "      <th>WCC</th>\n",
       "      <th>WDAY</th>\n",
       "      <th>WFG</th>\n",
       "      <th>WM</th>\n",
       "      <th>XLRE</th>\n",
       "      <th>XLV</th>\n",
       "      <th>XYL</th>\n",
       "      <th>YUM</th>\n",
       "      <th>ZTS</th>\n",
       "      <th>CASH</th>\n",
       "    </tr>\n",
       "  </thead>\n",
       "  <tbody>\n",
       "    <tr>\n",
       "      <th>***REMOVED***</th>\n",
       "      <td>0.0</td>\n",
       "      <td>0.0</td>\n",
       "      <td>0.0</td>\n",
       "      <td>0.0</td>\n",
       "      <td>0.0</td>\n",
       "      <td>0.0</td>\n",
       "      <td>0.0</td>\n",
       "      <td>0.0</td>\n",
       "      <td>0.0</td>\n",
       "      <td>0.0</td>\n",
       "      <td>...</td>\n",
       "      <td>0.0</td>\n",
       "      <td>0.0</td>\n",
       "      <td>0.0</td>\n",
       "      <td>0.0</td>\n",
       "      <td>0.0</td>\n",
       "      <td>0.0</td>\n",
       "      <td>0.0</td>\n",
       "      <td>0.0</td>\n",
       "      <td>0.0</td>\n",
       "      <td>0.0</td>\n",
       "    </tr>\n",
       "    <tr>\n",
       "      <th>***REMOVED***</th>\n",
       "      <td>0.0</td>\n",
       "      <td>0.0</td>\n",
       "      <td>0.0</td>\n",
       "      <td>0.0</td>\n",
       "      <td>0.0</td>\n",
       "      <td>0.0</td>\n",
       "      <td>0.0</td>\n",
       "      <td>0.0</td>\n",
       "      <td>0.0</td>\n",
       "      <td>0.0</td>\n",
       "      <td>...</td>\n",
       "      <td>0.0</td>\n",
       "      <td>0.0</td>\n",
       "      <td>0.0</td>\n",
       "      <td>0.0</td>\n",
       "      <td>0.0</td>\n",
       "      <td>0.0</td>\n",
       "      <td>0.0</td>\n",
       "      <td>0.0</td>\n",
       "      <td>0.0</td>\n",
       "      <td>0.0</td>\n",
       "    </tr>\n",
       "  </tbody>\n",
       "</table>\n",
       "<p>2 rows × 115 columns</p>\n",
       "</div>"
      ],
      "text/plain": [
       "             A  AAPL  ABG  ABT  ACN  ADBE  AFG  ALTR  AMAT  AMD  ...  WCC  \\\n",
       "***REMOVED***  0.0   0.0  0.0  0.0  0.0   0.0  0.0   0.0   0.0  0.0  ...  0.0   \n",
       "***REMOVED***  0.0   0.0  0.0  0.0  0.0   0.0  0.0   0.0   0.0  0.0  ...  0.0   \n",
       "\n",
       "           WDAY  WFG   WM  XLRE  XLV  XYL  YUM  ZTS  CASH  \n",
       "***REMOVED***   0.0  0.0  0.0   0.0  0.0  0.0  0.0  0.0   0.0  \n",
       "***REMOVED***   0.0  0.0  0.0   0.0  0.0  0.0  0.0  0.0   0.0  \n",
       "\n",
       "[2 rows x 115 columns]"
      ]
     },
     "execution_count": 107,
     "metadata": {},
     "output_type": "execute_result"
    }
   ],
   "source": [
    "profile_makeup = pd.DataFrame(data = np.zeros((len(profiles), len(ticks))), \n",
    "                              index=profiles, \n",
    "                              columns=ticks)\n",
    "profile_makeup"
   ]
  },
  {
   "cell_type": "code",
   "execution_count": 108,
   "metadata": {},
   "outputs": [],
   "source": [
    "def clean(string):\n",
    "    for char in \"$,()\":\n",
    "        string = string.replace(char, \"\")\n",
    "    return string"
   ]
  },
  {
   "cell_type": "code",
   "execution_count": 109,
   "metadata": {},
   "outputs": [
    {
     "data": {
      "text/html": [
       "<div>\n",
       "<style scoped>\n",
       "    .dataframe tbody tr th:only-of-type {\n",
       "        vertical-align: middle;\n",
       "    }\n",
       "\n",
       "    .dataframe tbody tr th {\n",
       "        vertical-align: top;\n",
       "    }\n",
       "\n",
       "    .dataframe thead th {\n",
       "        text-align: right;\n",
       "    }\n",
       "</style>\n",
       "<table border=\"1\" class=\"dataframe\">\n",
       "  <thead>\n",
       "    <tr style=\"text-align: right;\">\n",
       "      <th></th>\n",
       "      <th>Account Number</th>\n",
       "      <th>Symbol</th>\n",
       "      <th>Current Value</th>\n",
       "      <th>Last Price Change</th>\n",
       "    </tr>\n",
       "  </thead>\n",
       "  <tbody>\n",
       "    <tr>\n",
       "      <th>0</th>\n",
       "      <td>***REMOVED***</td>\n",
       "      <td>FCASH**</td>\n",
       "      <td>$0.01</td>\n",
       "      <td>$0.00</td>\n",
       "    </tr>\n",
       "    <tr>\n",
       "      <th>1</th>\n",
       "      <td>***REMOVED***</td>\n",
       "      <td>SPAXX**</td>\n",
       "      <td>$8058.68</td>\n",
       "      <td>$0.00</td>\n",
       "    </tr>\n",
       "    <tr>\n",
       "      <th>2</th>\n",
       "      <td>***REMOVED***</td>\n",
       "      <td>FITLX</td>\n",
       "      <td>$4842.91</td>\n",
       "      <td>-$0.19</td>\n",
       "    </tr>\n",
       "    <tr>\n",
       "      <th>3</th>\n",
       "      <td>***REMOVED***</td>\n",
       "      <td>FNDSX</td>\n",
       "      <td>$103.92</td>\n",
       "      <td>-$0.03</td>\n",
       "    </tr>\n",
       "    <tr>\n",
       "      <th>4</th>\n",
       "      <td>***REMOVED***</td>\n",
       "      <td>Pending Activity</td>\n",
       "      <td>$968.78</td>\n",
       "      <td>NaN</td>\n",
       "    </tr>\n",
       "    <tr>\n",
       "      <th>5</th>\n",
       "      <td>603447595</td>\n",
       "      <td>MA0000905</td>\n",
       "      <td>$199.25</td>\n",
       "      <td>-$0.04</td>\n",
       "    </tr>\n",
       "  </tbody>\n",
       "</table>\n",
       "</div>"
      ],
      "text/plain": [
       "  Account Number            Symbol Current Value Last Price Change\n",
       "0      ***REMOVED***           FCASH**         $0.01             $0.00\n",
       "1      ***REMOVED***           SPAXX**      $8058.68             $0.00\n",
       "2      ***REMOVED***             FITLX      $4842.91            -$0.19\n",
       "3      ***REMOVED***             FNDSX       $103.92            -$0.03\n",
       "4      ***REMOVED***  Pending Activity       $968.78               NaN\n",
       "5      603447595         MA0000905       $199.25            -$0.04"
      ]
     },
     "execution_count": 109,
     "metadata": {},
     "output_type": "execute_result"
    }
   ],
   "source": [
    "df"
   ]
  },
  {
   "cell_type": "code",
   "execution_count": 110,
   "metadata": {},
   "outputs": [
    {
     "data": {
      "text/html": [
       "<div>\n",
       "<style scoped>\n",
       "    .dataframe tbody tr th:only-of-type {\n",
       "        vertical-align: middle;\n",
       "    }\n",
       "\n",
       "    .dataframe tbody tr th {\n",
       "        vertical-align: top;\n",
       "    }\n",
       "\n",
       "    .dataframe thead th {\n",
       "        text-align: right;\n",
       "    }\n",
       "</style>\n",
       "<table border=\"1\" class=\"dataframe\">\n",
       "  <thead>\n",
       "    <tr style=\"text-align: right;\">\n",
       "      <th></th>\n",
       "      <th>A</th>\n",
       "      <th>AAPL</th>\n",
       "      <th>ABG</th>\n",
       "      <th>ABT</th>\n",
       "      <th>ACN</th>\n",
       "      <th>ADBE</th>\n",
       "      <th>AFG</th>\n",
       "      <th>ALTR</th>\n",
       "      <th>AMAT</th>\n",
       "      <th>AMD</th>\n",
       "      <th>...</th>\n",
       "      <th>WCC</th>\n",
       "      <th>WDAY</th>\n",
       "      <th>WFG</th>\n",
       "      <th>WM</th>\n",
       "      <th>XLRE</th>\n",
       "      <th>XLV</th>\n",
       "      <th>XYL</th>\n",
       "      <th>YUM</th>\n",
       "      <th>ZTS</th>\n",
       "      <th>CASH</th>\n",
       "    </tr>\n",
       "  </thead>\n",
       "  <tbody>\n",
       "    <tr>\n",
       "      <th>***REMOVED***</th>\n",
       "      <td>0.0</td>\n",
       "      <td>0.0</td>\n",
       "      <td>0.0</td>\n",
       "      <td>0.0</td>\n",
       "      <td>0.0</td>\n",
       "      <td>0.0</td>\n",
       "      <td>0.0</td>\n",
       "      <td>0.0</td>\n",
       "      <td>0.0</td>\n",
       "      <td>0.0</td>\n",
       "      <td>...</td>\n",
       "      <td>0.0</td>\n",
       "      <td>0.0</td>\n",
       "      <td>0.0</td>\n",
       "      <td>0.0</td>\n",
       "      <td>0.0</td>\n",
       "      <td>0.0</td>\n",
       "      <td>0.0</td>\n",
       "      <td>0.0</td>\n",
       "      <td>0.0</td>\n",
       "      <td>9027.46</td>\n",
       "    </tr>\n",
       "    <tr>\n",
       "      <th>***REMOVED***</th>\n",
       "      <td>0.0</td>\n",
       "      <td>0.0</td>\n",
       "      <td>0.0</td>\n",
       "      <td>0.0</td>\n",
       "      <td>0.0</td>\n",
       "      <td>0.0</td>\n",
       "      <td>0.0</td>\n",
       "      <td>0.0</td>\n",
       "      <td>0.0</td>\n",
       "      <td>0.0</td>\n",
       "      <td>...</td>\n",
       "      <td>0.0</td>\n",
       "      <td>0.0</td>\n",
       "      <td>0.0</td>\n",
       "      <td>0.0</td>\n",
       "      <td>0.0</td>\n",
       "      <td>0.0</td>\n",
       "      <td>0.0</td>\n",
       "      <td>0.0</td>\n",
       "      <td>0.0</td>\n",
       "      <td>0.01</td>\n",
       "    </tr>\n",
       "  </tbody>\n",
       "</table>\n",
       "<p>2 rows × 115 columns</p>\n",
       "</div>"
      ],
      "text/plain": [
       "             A  AAPL  ABG  ABT  ACN  ADBE  AFG  ALTR  AMAT  AMD  ...  WCC  \\\n",
       "***REMOVED***  0.0   0.0  0.0  0.0  0.0   0.0  0.0   0.0   0.0  0.0  ...  0.0   \n",
       "***REMOVED***  0.0   0.0  0.0  0.0  0.0   0.0  0.0   0.0   0.0  0.0  ...  0.0   \n",
       "\n",
       "           WDAY  WFG   WM  XLRE  XLV  XYL  YUM  ZTS     CASH  \n",
       "***REMOVED***   0.0  0.0  0.0   0.0  0.0  0.0  0.0  0.0  9027.46  \n",
       "***REMOVED***   0.0  0.0  0.0   0.0  0.0  0.0  0.0  0.0     0.01  \n",
       "\n",
       "[2 rows x 115 columns]"
      ]
     },
     "execution_count": 110,
     "metadata": {},
     "output_type": "execute_result"
    }
   ],
   "source": [
    "for row_ in df.iterrows():\n",
    "#     print(row_)\n",
    "    if row_[1][\"Symbol\"] in ticks and  row_[1][\"Account Number\"] in profiles:\n",
    "        profile_makeup.loc[row_[1][\"Account Number\"], row_[1][\"Symbol\"]] = float(clean(row_[1][\"Current Value\"]))\n",
    "    elif row_[1][\"Account Number\"] in profiles:\n",
    "        if math.isnan(float(clean(str(row_[1][\"Current Value\"])))) and row_[1][\"Symbol\"] == \"Pending Activity\": \n",
    "#             print(\"Last Price Change\", row_[1])\n",
    "            profile_makeup.loc[row_[1][\"Account Number\"], \"CASH\"] += float(clean(str(row_[1][\"Last Price Change\"])))\n",
    "        else:\n",
    "            profile_makeup.loc[row_[1][\"Account Number\"], \"CASH\"] += float(clean(str(row_[1][\"Current Value\"])))\n",
    "#             print(\"Current Value\", row_[1])\n",
    "profile_makeup"
   ]
  },
  {
   "cell_type": "markdown",
   "metadata": {},
   "source": [
    "## Get Inflation Data"
   ]
  },
  {
   "cell_type": "code",
   "execution_count": 111,
   "metadata": {},
   "outputs": [],
   "source": [
    "headers = {'Content-type': 'application/json'}\n",
    "data = json.dumps({\"seriesid\": ['CUUR0000SA0'],\"startyear\":\"2020\", \"endyear\":\"2021\"})\n",
    "p = requests.post('https://api.bls.gov/publicAPI/v2/timeseries/data/', data=data, headers=headers)\n",
    "json_data = json.loads(p.text)\n"
   ]
  },
  {
   "cell_type": "code",
   "execution_count": 112,
   "metadata": {},
   "outputs": [],
   "source": [
    "df = pd.DataFrame.from_dict(json_data['Results']['series'][0]['data'])\n",
    "df.head()\n",
    "values = df[\"value\"].to_numpy().astype(float)\n",
    "inflations = (values[:-12] - values[12:])/values[12:]  \n",
    "current_inflation = inflations[0]\n",
    "avg_inflation = inflations.mean()"
   ]
  },
  {
   "cell_type": "markdown",
   "metadata": {},
   "source": [
    "## Get Limits"
   ]
  },
  {
   "cell_type": "markdown",
   "metadata": {},
   "source": [
    "### Get Max Sharpe"
   ]
  },
  {
   "cell_type": "code",
   "execution_count": 113,
   "metadata": {},
   "outputs": [
    {
     "name": "stdout",
     "output_type": "stream",
     "text": [
      "0.579037955865568\n",
      "1.5404813268844337\n"
     ]
    }
   ],
   "source": [
    "# loss = lambda x: -get_sharpe(x, set(ticks))\n",
    "best_sharpe_weights = []\n",
    "for p_ in range(len(profiles_names)):\n",
    "#     get_return_local = make_get_return(profiles_options[p_], ticks)\n",
    "#     get_risk_local = make_get_risk(profiles_options[p_], ticks)\n",
    "    get_sharpe_local = make_get_sharpe(profiles_options[p_], ticks)\n",
    "    best_sharpe_weights.append(\n",
    "        minimize(\n",
    "            lambda x: -get_sharpe_local(x),\n",
    "            np.random.random(len(profiles_options[p_])),\n",
    "            constraints=[\n",
    "                {'type': 'eq', 'fun': lambda w: np.sum(w) - 1.},\n",
    "            ],\n",
    "            bounds=[(0., 1.) for i in range(len(profiles_options[p_]))]\n",
    "    ).x)\n",
    "    print(get_sharpe(best_sharpe_weights[p_], profiles_options[p_]))"
   ]
  },
  {
   "cell_type": "markdown",
   "metadata": {},
   "source": [
    "### Get Risk Limits"
   ]
  },
  {
   "cell_type": "code",
   "execution_count": 114,
   "metadata": {},
   "outputs": [
    {
     "name": "stdout",
     "output_type": "stream",
     "text": [
      "0.03896509515907116\n",
      "4.1312612751739234e-16\n"
     ]
    }
   ],
   "source": [
    "min_risk_weights = []\n",
    "\n",
    "for p_ in range(len(profiles_names)):\n",
    "    \n",
    "    get_return_local = make_get_return(profiles_options[p_], ticks)\n",
    "    get_risk_local =  make_get_risk(profiles_options[p_], ticks)\n",
    "    get_sharpe_local = make_get_sharpe(profiles_options[p_], ticks)\n",
    "    \n",
    "    loss = make_get_risk(profiles_options[p_], ticks)\n",
    "    \n",
    "    min_risk_weights.append(minimize(\n",
    "        loss,\n",
    "        np.random.random(len(profiles_options[p_])),\n",
    "        constraints=[\n",
    "            {'type': 'eq', 'fun': lambda w: np.sum(w) - 1.},\n",
    "        ],\n",
    "        bounds=[(0., 1.) for i in range(len(profiles_options[p_]))]\n",
    "    ).x)\n",
    "    print(get_risk(min_risk_weights[p_], profiles_options[p_]))\n",
    "    \n",
    "    "
   ]
  },
  {
   "cell_type": "code",
   "execution_count": 115,
   "metadata": {},
   "outputs": [
    {
     "name": "stdout",
     "output_type": "stream",
     "text": [
      "0.2093495487504649\n",
      "0.5635212736628091\n"
     ]
    }
   ],
   "source": [
    "max_risk_weights = []\n",
    "\n",
    "for p_ in range(len(profiles_names)):\n",
    "    \n",
    "    get_return_local = make_get_return(profiles_options[p_], ticks)\n",
    "    get_risk_local =  make_get_risk(profiles_options[p_], ticks)\n",
    "    get_sharpe_local = make_get_sharpe(profiles_options[p_], ticks)\n",
    "\n",
    "    loss = lambda x: -get_risk_local(x)\n",
    "    \n",
    "    max_risk_weights.append(minimize(\n",
    "        loss,\n",
    "        np.random.random(len(profiles_options[p_])),\n",
    "        constraints=[\n",
    "            {'type': 'eq', 'fun': lambda w: np.sum(w) - 1.},\n",
    "        ],\n",
    "        bounds=[(0., 1.) for i in range(len(profiles_options[p_]))]\n",
    "    ).x)\n",
    "    print(get_risk(max_risk_weights[p_], profiles_options[p_]))"
   ]
  },
  {
   "cell_type": "markdown",
   "metadata": {},
   "source": [
    "### Get Return Range"
   ]
  },
  {
   "cell_type": "code",
   "execution_count": 116,
   "metadata": {},
   "outputs": [
    {
     "name": "stdout",
     "output_type": "stream",
     "text": [
      "-0.05383138203459692\n",
      "-0.10053569846356447\n"
     ]
    }
   ],
   "source": [
    "min_return_weights = []\n",
    "\n",
    "for p_ in range(len(profiles_names)):\n",
    "    get_return_local = make_get_return(profiles_options[p_], ticks)\n",
    "    get_risk_local =  make_get_risk(profiles_options[p_], ticks)\n",
    "    get_sharpe_local = make_get_sharpe(profiles_options[p_], ticks)\n",
    "\n",
    "    loss = get_return_local   \n",
    "    min_return_weights.append(minimize(\n",
    "        loss,\n",
    "        np.random.random(len(profiles_options[p_])),\n",
    "        constraints=[\n",
    "            {'type': 'eq', 'fun': lambda w: np.sum(w) - 1.},\n",
    "        ],\n",
    "        bounds=[(0., 1.) for i in range(len(profiles_options[p_]))]\n",
    "    ).x)\n",
    "    print(get_return(min_return_weights[p_], profiles_options[p_]))"
   ]
  },
  {
   "cell_type": "code",
   "execution_count": 117,
   "metadata": {},
   "outputs": [
    {
     "name": "stdout",
     "output_type": "stream",
     "text": [
      "0.12122133476984831\n",
      "0.5219375900211392\n"
     ]
    }
   ],
   "source": [
    "max_return_weights = []\n",
    "\n",
    "for p_ in range(len(profiles_names)):\n",
    "    get_return_local = make_get_return(profiles_options[p_], ticks)\n",
    "    get_risk_local =  make_get_risk(profiles_options[p_], ticks)\n",
    "    get_sharpe_local = make_get_sharpe(profiles_options[p_], ticks)\n",
    "\n",
    "\n",
    "    loss = lambda x: -get_return_local(x)    \n",
    "    max_return_weights.append(minimize(\n",
    "        loss,\n",
    "        np.random.random(len(profiles_options[p_])),\n",
    "        constraints=[\n",
    "            {'type': 'eq', 'fun': lambda w: np.sum(w) - 1.},\n",
    "        ],\n",
    "        bounds=[(0., 1.) for i in range(len(profiles_options[p_]))]\n",
    "    ).x)\n",
    "    print(get_return(max_return_weights[p_], profiles_options[p_]))"
   ]
  },
  {
   "cell_type": "markdown",
   "metadata": {},
   "source": [
    "## Get List of Max Returns for Spread of risks"
   ]
  },
  {
   "cell_type": "code",
   "execution_count": 118,
   "metadata": {},
   "outputs": [],
   "source": [
    "risk_mins = [get_risk(min_risk_weights[p_], profiles_options[p_]) for p_ in range(len(profiles_names))]\n",
    "risk_maxs = [get_risk(max_return_weights[p_], profiles_options[p_]) for p_ in range(len(profiles_names))]\n",
    "risks_count = 50\n",
    "risks_bot = [np.linspace(risk_min, risk_max, risks_count, True) for risk_min, risk_max in zip(risk_mins, risk_maxs)]"
   ]
  },
  {
   "cell_type": "markdown",
   "metadata": {},
   "source": [
    "### Max Sharpe Spreads"
   ]
  },
  {
   "cell_type": "code",
   "execution_count": 119,
   "metadata": {
    "scrolled": true
   },
   "outputs": [
    {
     "name": "stdout",
     "output_type": "stream",
     "text": [
      "Running Profile IRA\n",
      "Optimization terminated successfully\n",
      "--- 0.04099917411804199 seconds ---\n",
      "Optimization terminated successfully\n",
      "--- 0.0559992790222168 seconds ---\n",
      "Optimization terminated successfully\n",
      "--- 0.06599879264831543 seconds ---\n",
      "Optimization terminated successfully\n",
      "--- 0.07899880409240723 seconds ---\n",
      "Optimization terminated successfully\n",
      "--- 0.09400224685668945 seconds ---\n",
      "Optimization terminated successfully\n",
      "--- 0.11099934577941895 seconds ---\n",
      "Optimization terminated successfully\n",
      "--- 0.1269993782043457 seconds ---\n",
      "Optimization terminated successfully\n",
      "--- 0.1419987678527832 seconds ---\n",
      "Optimization terminated successfully\n",
      "--- 0.15700030326843262 seconds ---\n",
      "Optimization terminated successfully\n",
      "--- 0.17299985885620117 seconds ---\n",
      "Optimization terminated successfully\n",
      "--- 0.19199872016906738 seconds ---\n",
      "Optimization terminated successfully\n",
      "--- 0.2049999237060547 seconds ---\n",
      "Optimization terminated successfully\n",
      "--- 0.2199993133544922 seconds ---\n",
      "Optimization terminated successfully\n",
      "--- 0.23599886894226074 seconds ---\n",
      "Optimization terminated successfully\n",
      "--- 0.25099825859069824 seconds ---\n",
      "Optimization terminated successfully\n",
      "--- 0.2630016803741455 seconds ---\n",
      "Optimization terminated successfully\n",
      "--- 0.28099894523620605 seconds ---\n",
      "Optimization terminated successfully\n",
      "--- 0.2989988327026367 seconds ---\n",
      "Optimization terminated successfully\n",
      "--- 0.3169989585876465 seconds ---\n",
      "Optimization terminated successfully\n",
      "--- 0.33100318908691406 seconds ---\n",
      "Optimization terminated successfully\n",
      "--- 0.34600114822387695 seconds ---\n",
      "Optimization terminated successfully\n",
      "--- 0.3619999885559082 seconds ---\n",
      "Optimization terminated successfully\n",
      "--- 0.3809995651245117 seconds ---\n",
      "Optimization terminated successfully\n",
      "--- 0.3969995975494385 seconds ---\n",
      "Optimization terminated successfully\n",
      "--- 0.41499996185302734 seconds ---\n",
      "Optimization terminated successfully\n",
      "--- 0.43399977684020996 seconds ---\n",
      "Optimization terminated successfully\n",
      "--- 0.4519996643066406 seconds ---\n",
      "Optimization terminated successfully\n",
      "--- 0.4659996032714844 seconds ---\n",
      "Optimization terminated successfully\n",
      "--- 0.48699951171875 seconds ---\n",
      "Optimization terminated successfully\n",
      "--- 0.5039987564086914 seconds ---\n",
      "Optimization terminated successfully\n",
      "--- 0.5219988822937012 seconds ---\n",
      "Optimization terminated successfully\n",
      "--- 0.5399982929229736 seconds ---\n",
      "Optimization terminated successfully\n",
      "--- 0.5559992790222168 seconds ---\n",
      "Optimization terminated successfully\n",
      "--- 0.5729990005493164 seconds ---\n",
      "Optimization terminated successfully\n",
      "--- 0.5930030345916748 seconds ---\n",
      "Optimization terminated successfully\n",
      "--- 0.6119985580444336 seconds ---\n",
      "Optimization terminated successfully\n",
      "--- 0.628002405166626 seconds ---\n",
      "Optimization terminated successfully\n",
      "--- 0.6489982604980469 seconds ---\n",
      "Optimization terminated successfully\n",
      "--- 0.665001392364502 seconds ---\n",
      "Optimization terminated successfully\n",
      "--- 0.6849989891052246 seconds ---\n",
      "Optimization terminated successfully\n",
      "--- 0.7039999961853027 seconds ---\n",
      "Optimization terminated successfully\n",
      "--- 0.718998908996582 seconds ---\n",
      "Optimization terminated successfully\n",
      "--- 0.7360005378723145 seconds ---\n",
      "Optimization terminated successfully\n",
      "--- 0.7589993476867676 seconds ---\n",
      "Optimization terminated successfully\n",
      "--- 0.7809982299804688 seconds ---\n",
      "Optimization terminated successfully\n",
      "--- 0.7970004081726074 seconds ---\n",
      "Optimization terminated successfully\n",
      "--- 0.8139989376068115 seconds ---\n",
      "Optimization terminated successfully\n",
      "--- 0.8319993019104004 seconds ---\n",
      "Optimization terminated successfully\n",
      "--- 0.8459982872009277 seconds ---\n",
      "Optimization terminated successfully\n",
      "--- 0.8649985790252686 seconds ---\n",
      "Running Profile Investment\n",
      "Optimization terminated successfully\n",
      "--- 1.1489999294281006 seconds ---\n",
      "Optimization terminated successfully\n",
      "--- 2.9929983615875244 seconds ---\n",
      "Optimization terminated successfully\n",
      "--- 4.261001825332642 seconds ---\n",
      "Optimization terminated successfully\n",
      "--- 5.621999979019165 seconds ---\n",
      "Optimization terminated successfully\n",
      "--- 6.960999250411987 seconds ---\n",
      "Optimization terminated successfully\n",
      "--- 8.236255645751953 seconds ---\n",
      "Optimization terminated successfully\n",
      "--- 9.643257141113281 seconds ---\n",
      "Optimization terminated successfully\n",
      "--- 11.069255590438843 seconds ---\n",
      "Optimization terminated successfully\n",
      "--- 12.640254497528076 seconds ---\n",
      "Optimization terminated successfully\n",
      "--- 14.332255363464355 seconds ---\n",
      "Optimization terminated successfully\n",
      "--- 15.97525668144226 seconds ---\n",
      "Optimization terminated successfully\n",
      "--- 17.451254844665527 seconds ---\n",
      "Optimization terminated successfully\n",
      "--- 19.319255590438843 seconds ---\n",
      "Optimization terminated successfully\n",
      "--- 21.067254781723022 seconds ---\n",
      "Optimization terminated successfully\n",
      "--- 22.46525478363037 seconds ---\n",
      "Optimization terminated successfully\n",
      "--- 24.060254335403442 seconds ---\n",
      "Optimization terminated successfully\n",
      "--- 25.698254108428955 seconds ---\n",
      "Optimization terminated successfully\n",
      "--- 27.81025505065918 seconds ---\n",
      "Optimization terminated successfully\n",
      "--- 29.248254776000977 seconds ---\n",
      "Optimization terminated successfully\n",
      "--- 31.06025767326355 seconds ---\n",
      "Optimization terminated successfully\n",
      "--- 32.51125407218933 seconds ---\n",
      "Optimization terminated successfully\n",
      "--- 34.168253898620605 seconds ---\n",
      "Optimization terminated successfully\n",
      "--- 35.571256160736084 seconds ---\n",
      "Optimization terminated successfully\n",
      "--- 36.81725549697876 seconds ---\n",
      "Optimization terminated successfully\n",
      "--- 38.08525562286377 seconds ---\n",
      "Optimization terminated successfully\n",
      "--- 39.23025560379028 seconds ---\n",
      "Optimization terminated successfully\n",
      "--- 40.63825535774231 seconds ---\n",
      "Optimization terminated successfully\n",
      "--- 41.99225425720215 seconds ---\n",
      "Optimization terminated successfully\n",
      "--- 42.516255140304565 seconds ---\n",
      "Optimization terminated successfully\n",
      "--- 43.244256019592285 seconds ---\n",
      "Optimization terminated successfully\n",
      "--- 43.89425468444824 seconds ---\n",
      "Optimization terminated successfully\n",
      "--- 44.404258251190186 seconds ---\n",
      "Optimization terminated successfully\n",
      "--- 45.118255376815796 seconds ---\n",
      "Optimization terminated successfully\n",
      "--- 45.67825722694397 seconds ---\n",
      "Optimization terminated successfully\n",
      "--- 46.31525754928589 seconds ---\n",
      "Optimization terminated successfully\n",
      "--- 46.97325396537781 seconds ---\n",
      "Optimization terminated successfully\n",
      "--- 47.47725486755371 seconds ---\n",
      "Optimization terminated successfully\n",
      "--- 48.10825514793396 seconds ---\n",
      "Optimization terminated successfully\n",
      "--- 48.743255376815796 seconds ---\n",
      "Optimization terminated successfully\n",
      "--- 49.38725399971008 seconds ---\n",
      "Optimization terminated successfully\n",
      "--- 50.0482542514801 seconds ---\n",
      "Optimization terminated successfully\n",
      "--- 50.684255599975586 seconds ---\n",
      "Optimization terminated successfully\n",
      "--- 51.3172550201416 seconds ---\n",
      "Optimization terminated successfully\n",
      "--- 51.81325387954712 seconds ---\n",
      "Optimization terminated successfully\n",
      "--- 52.321255683898926 seconds ---\n",
      "Optimization terminated successfully\n",
      "--- 52.902254581451416 seconds ---\n",
      "Optimization terminated successfully\n",
      "--- 53.40525460243225 seconds ---\n",
      "Optimization terminated successfully\n",
      "--- 53.97926998138428 seconds ---\n",
      "Optimization terminated successfully\n",
      "--- 54.34627604484558 seconds ---\n",
      "Optimization terminated successfully\n",
      "--- 54.564276933670044 seconds ---\n"
     ]
    }
   ],
   "source": [
    "best_weights_range = [np.random.random(size=(risks_count, len(profiles_options[p_]))) \n",
    "                      for p_ in range(len(profiles_names))]\n",
    "start_time = time.time()\n",
    "for p_ in range(len(profiles_names)):\n",
    "    print(\"Running Profile {}\".format(profiles_names[p_]))\n",
    "    get_return_local = make_get_return(profiles_options[p_], ticks)\n",
    "    get_risk_local = make_get_risk(profiles_options[p_], ticks)\n",
    "    for r in range(risks_count):\n",
    "        loss = lambda x: -get_return_local(x)\n",
    "        rts = minimize(\n",
    "              loss,\n",
    "              np.random.random(len(profiles_options[p_])),\n",
    "              constraints=[\n",
    "                {'type': 'eq', 'fun': lambda w: np.sum(w) - 1.},\n",
    "                {'type': 'ineq', 'fun': lambda w, risk=risks_bot[p_][r]: -(get_risk_local(w) - risk)},\n",
    "              ],\n",
    "              bounds=[(0., 1.) for i in range(len(profiles_options[p_]))]\n",
    "            )\n",
    "        best_weights_range[p_][r, :] = rts.x\n",
    "        print(rts.message)\n",
    "\n",
    "        print(\"--- %s seconds ---\" % (time.time() - start_time))\n",
    "#         print(rts)"
   ]
  },
  {
   "cell_type": "markdown",
   "metadata": {},
   "source": [
    "## Build Profiles"
   ]
  },
  {
   "cell_type": "code",
   "execution_count": 120,
   "metadata": {},
   "outputs": [
    {
     "name": "stdout",
     "output_type": "stream",
     "text": [
      "0.2 MAX\n",
      "0.2\n",
      "0.5 MAX\n",
      "0.5\n"
     ]
    }
   ],
   "source": [
    "profiles_constraints = []\n",
    "profiles_losses = []\n",
    "for target, options in zip(profiles_targets, profiles_options):\n",
    "    get_return_local = make_get_return(options, ticks)\n",
    "    get_risk_local =  make_get_risk(options, ticks)\n",
    "    get_sharpe_local = make_get_sharpe(options, ticks)\n",
    "    \n",
    "    if target is None:\n",
    "        profiles_constraints.append(None)\n",
    "        profiles_losses.append(None)\n",
    "    else:\n",
    "        risk_t, return_t = target\n",
    "        print(risk_t, return_t)\n",
    "        if (risk_t == MAX or risk_t == MIN) and (return_t == MAX or return_t == MIN):\n",
    "            profiles_constraints.append(None)\n",
    "            if (risk_t == MAX) and (return_t == MAX):\n",
    "                profiles_losses.append(lambda x,\n",
    "                                       get_return_local=get_return_local,\n",
    "                                       get_risk_local=get_risk_local,\n",
    "                                       get_sharpe_local=get_sharpe_local:-(get_return_local(x) * get_risk_local(x)))\n",
    "            elif (risk_t == MAX) and (return_t == MIN):\n",
    "                profiles_losses.append(lambda x, \n",
    "                                       get_return_local=get_return_local,\n",
    "                                       get_risk_local=get_risk_local,\n",
    "                                       get_sharpe_local=get_sharpe_local: get_sharpe_local(x))\n",
    "            elif (risk_t == MIN) and (return_t == MAX):\n",
    "                profiles_losses.append(lambda x, \n",
    "                                       get_return_local=get_return_local,\n",
    "                                       get_risk_local=get_risk_local,\n",
    "                                       get_sharpe_local=get_sharpe_local: -get_sharpe_local(x))\n",
    "            elif (risk_t == MIN) and (return_t == MIN):\n",
    "                profiles_losses.append(lambda x, \n",
    "                                       get_return_local=get_return_local,\n",
    "                                       get_risk_local=get_risk_local,\n",
    "                                       get_sharpe_local=get_sharpe_local: get_return_local(x) * get_risk_local(x))\n",
    "        elif (risk_t == MAX or risk_t == MIN):\n",
    "            print(return_t)\n",
    "            profiles_constraints.append({'type': 'eq', 'fun': lambda x, \n",
    "                                       get_return_local=get_return_local,\n",
    "                                       get_risk_local=get_risk_local,\n",
    "                                       get_sharpe_local=get_sharpe_local,\n",
    "                                       return_t=return_t: (get_return_local(x) - return_t)}),\n",
    "            if risk_t == MAX:\n",
    "                profiles_losses.append(lambda x,\n",
    "                                       get_return_local=get_return_local,\n",
    "                                       get_risk_local=get_risk_local,\n",
    "                                       get_sharpe_local=get_sharpe_local: -get_risk_local(x))\n",
    "            elif risk_t == MIN:\n",
    "                profiles_losses.append(lambda x, \n",
    "                                       get_return_local=get_return_local,\n",
    "                                       get_risk_local=get_risk_local,\n",
    "                                       get_sharpe_local=get_sharpe_local: get_risk_local(x))\n",
    "        elif (return_t == MAX or return_t == MIN):\n",
    "            print(risk_t)\n",
    "            profiles_constraints.append({'type': 'ineq', 'fun': lambda x, \n",
    "                                         get_return_local=get_return_local,\n",
    "                                         get_risk_local=get_risk_local,\n",
    "                                         get_sharpe_local=get_sharpe_local,\n",
    "                                         risk_t=risk_t: -(get_risk_local(x) - risk_t)}),\n",
    "            if return_t == MAX:\n",
    "                profiles_losses.append(lambda x, \n",
    "                                       get_return_local=get_return_local,\n",
    "                                       get_risk_local=get_risk_local,\n",
    "                                       get_sharpe_local=get_sharpe_local: -get_return_local(x))\n",
    "            elif return_t == MIN:\n",
    "                profiles_losses.append(lambda x, \n",
    "                                       get_return_local=get_return_local,\n",
    "                                       get_risk_local=get_risk_local,\n",
    "                                       get_sharpe_local=get_sharpe_local: get_return_local(x))   \n",
    "        else:\n",
    "            profiles_constraints.append(None)\n",
    "            profiles_losses.append(lambda x,\n",
    "                                   get_return_local=get_return_local,\n",
    "                                   get_risk_local=get_risk_local,\n",
    "                                   get_sharpe_local=get_sharpe_local,\n",
    "                                   return_t=return_t,\n",
    "                                   risk_t=risk_t: \n",
    "                                   np.abs(risk_t - get_risk_local(x)) * np.abs(return_t - get_return_local(x)))"
   ]
  },
  {
   "cell_type": "code",
   "execution_count": 121,
   "metadata": {
    "scrolled": false
   },
   "outputs": [
    {
     "name": "stdout",
     "output_type": "stream",
     "text": [
      "0\n",
      "{'type': 'ineq', 'fun': <function <lambda> at 0x000001C7AC892400>}\n",
      "True\n",
      "(5,)\n",
      "49\n",
      "0.1\n",
      "0.20000003333342703\n",
      "0.1151656808460293\n",
      "--- 0.019999027252197266 seconds ---\n",
      "1\n",
      "{'type': 'ineq', 'fun': <function <lambda> at 0x000001C7AC029598>}\n",
      "True\n",
      "(115,)\n",
      "49\n",
      "0.1\n",
      "0.42551600951176627\n",
      "0.5219375900211387\n",
      "--- 0.21899962425231934 seconds ---\n"
     ]
    }
   ],
   "source": [
    "b = 1000\n",
    "i = 1000\n",
    "lr = 0.015\n",
    "batch = [b]*len(profiles)\n",
    "iterations = [i]*len(profiles)\n",
    "LR=[lr]*len(profiles)\n",
    "\n",
    "# LR[2]=0.005\n",
    "target_weights = []\n",
    "\n",
    "for i in range(len(profiles)):\n",
    "    print(i)\n",
    "    if profiles_targets[i] is not None:\n",
    "        \n",
    "        loss = profiles_losses[i]\n",
    "        start_time = time.time()\n",
    "        print(profiles_constraints[i])\n",
    "        rts = minimize(\n",
    "              loss,\n",
    "              np.random.random(len(profiles_options[i])),\n",
    "              constraints=[\n",
    "                {'type': 'eq', 'fun': lambda w: np.sum(w) - 1.},\n",
    "                profiles_constraints[i],\n",
    "              ] if profiles_constraints[i] is not None else [\n",
    "                {'type': 'eq', 'fun': lambda w: np.sum(w) - 1.},],\n",
    "              bounds=[(0., 1.) for tick in range(len(profiles_options[i]))]\n",
    "            )\n",
    "\n",
    "        print(rts.success)\n",
    "        target_weights.append(rts.x,)\n",
    "        print(rts.x.shape)\n",
    "        print(r)\n",
    "        if profiles_constraints[i] is not None:\n",
    "            print(0.1)\n",
    "        print(get_risk(rts.x, profiles_options[i]))\n",
    "        print(get_return(rts.x, profiles_options[i]))\n",
    "\n",
    "        print(\"--- %s seconds ---\" % (time.time() - start_time))\n",
    "        \n",
    "    else:\n",
    "        \n",
    "        wts = profile_makeup.loc[profiles[i]].to_numpy()\n",
    "        target_weights.append(wts)\n"
   ]
  },
  {
   "cell_type": "code",
   "execution_count": 122,
   "metadata": {},
   "outputs": [],
   "source": [
    "target_weights = [convertWTS(target, option) for target, option in zip(target_weights, profiles_options)]"
   ]
  },
  {
   "cell_type": "code",
   "execution_count": 123,
   "metadata": {},
   "outputs": [],
   "source": [
    "# target_weights"
   ]
  },
  {
   "cell_type": "markdown",
   "metadata": {},
   "source": [
    "## Build Buys"
   ]
  },
  {
   "cell_type": "markdown",
   "metadata": {},
   "source": [
    "## Rebalancing"
   ]
  },
  {
   "cell_type": "code",
   "execution_count": 124,
   "metadata": {
    "scrolled": true
   },
   "outputs": [],
   "source": [
    "profile_changes = []\n",
    "for i in range(len(profiles)):\n",
    "    profile_sum = np.sum(profile_makeup.loc[profiles[i]].to_numpy())\n",
    "    target_sum = np.sum(target_weights[i])\n",
    "    changes = target_weights[i] * (profile_sum/target_sum) - profile_makeup.loc[profiles[i]].to_numpy()\n",
    "    profile_changes.append(changes)"
   ]
  },
  {
   "cell_type": "code",
   "execution_count": 125,
   "metadata": {},
   "outputs": [],
   "source": [
    "# profile_changes"
   ]
  },
  {
   "cell_type": "markdown",
   "metadata": {},
   "source": [
    "## Display Graphs"
   ]
  },
  {
   "cell_type": "code",
   "execution_count": 126,
   "metadata": {},
   "outputs": [],
   "source": [
    "SAT = 0.5\n",
    "LUM = 0.5"
   ]
  },
  {
   "cell_type": "code",
   "execution_count": 127,
   "metadata": {
    "pycharm": {
     "is_executing": true
    }
   },
   "outputs": [],
   "source": [
    "color_list = [colorsys.hls_to_rgb(h, LUM, SAT) for h in np.linspace(0.0, 1.0, len(ticks), endpoint=False)]\n",
    "color_list = [RGB(r*255,g*255,d*255) for r,g,d in color_list]\n",
    "color_list_accounts = [colorsys.hls_to_rgb(h, LUM, SAT) for h in np.linspace(0.0, 1.0, len(profiles), endpoint=False)]\n",
    "color_list_accounts = [RGB(r*255,g*255,d*255) for r,g,d in color_list_accounts]"
   ]
  },
  {
   "cell_type": "code",
   "execution_count": null,
   "metadata": {},
   "outputs": [],
   "source": []
  },
  {
   "cell_type": "markdown",
   "metadata": {},
   "source": [
    "## Filter Ticks"
   ]
  },
  {
   "cell_type": "code",
   "execution_count": 128,
   "metadata": {},
   "outputs": [],
   "source": [
    "tick_filter = np.zeros((len(ticks),))\n",
    "for i in range(len(profiles)):\n",
    "    tick_filter += profile_makeup.loc[profiles[i]].to_numpy()\n",
    "    tick_filter += target_weights[i]\n",
    "tick_filter = tick_filter > 0.001\n"
   ]
  },
  {
   "cell_type": "code",
   "execution_count": 129,
   "metadata": {},
   "outputs": [
    {
     "data": {
      "text/plain": [
       "[('A', False),\n",
       " ('AAPL', False),\n",
       " ('ABG', False),\n",
       " ('ABT', False),\n",
       " ('ACN', False),\n",
       " ('ADBE', False),\n",
       " ('AFG', False),\n",
       " ('ALTR', False),\n",
       " ('AMAT', False),\n",
       " ('AMD', False),\n",
       " ('AMP', False),\n",
       " ('AMT', False),\n",
       " ('ANET', False),\n",
       " ('APAM', False),\n",
       " ('ARE', False),\n",
       " ('ASGN', False),\n",
       " ('ASIX', False),\n",
       " ('ASML', False),\n",
       " ('AVY', False),\n",
       " ('BCO', False),\n",
       " ('BLL', False),\n",
       " ('CBT', False),\n",
       " ('CC', False),\n",
       " ('CCK', False),\n",
       " ('CDNS', False),\n",
       " ('CMG', False),\n",
       " ('CNHI', False),\n",
       " ('COST', False),\n",
       " ('CR', False),\n",
       " ('CRM', False),\n",
       " ('CSR', False),\n",
       " ('DAR', False),\n",
       " ('DE', False),\n",
       " ('DHR', False),\n",
       " ('DOV', False),\n",
       " ('EAGG', False),\n",
       " ('EBAY', False),\n",
       " ('ETN', False),\n",
       " ('EXPO', False),\n",
       " ('FB', False),\n",
       " ('FCOM', False),\n",
       " ('FITLX', True),\n",
       " ('FIVE', False),\n",
       " ('FLEX', False),\n",
       " ('FLSW', False),\n",
       " ('FN', False),\n",
       " ('FNDSX', True),\n",
       " ('FNIDX', False),\n",
       " ('FR', False),\n",
       " ('FSEBX', False),\n",
       " ('FTNT', True),\n",
       " ('FXAIX', False),\n",
       " ('GIL', False),\n",
       " ('GOOGL', False),\n",
       " ('GS', False),\n",
       " ('HOLX', False),\n",
       " ('HPE', False),\n",
       " ('IQSU', False),\n",
       " ('IT', False),\n",
       " ('JBHT', False),\n",
       " ('JBL', False),\n",
       " ('KEYS', False),\n",
       " ('KIM', False),\n",
       " ('LIN', False),\n",
       " ('LLY', False),\n",
       " ('LRCX', False),\n",
       " ('MAT', False),\n",
       " ('MATX', False),\n",
       " ('MC', False),\n",
       " ('MCB', False),\n",
       " ('MHK', False),\n",
       " ('MSFT', False),\n",
       " ('MSI', False),\n",
       " ('MT', False),\n",
       " ('NKE', False),\n",
       " ('NOG', False),\n",
       " ('NTAP', False),\n",
       " ('NVDA', False),\n",
       " ('OC', False),\n",
       " ('ON', False),\n",
       " ('ORCL', False),\n",
       " ('QCOM', False),\n",
       " ('QGEN', False),\n",
       " ('ROG', False),\n",
       " ('SHW', False),\n",
       " ('SMTC', False),\n",
       " ('SNPE', False),\n",
       " ('SPG', False),\n",
       " ('STLA', False),\n",
       " ('STLD', False),\n",
       " ('STM', False),\n",
       " ('SUI', False),\n",
       " ('SUSA', False),\n",
       " ('SUSB', False),\n",
       " ('SUSL', False),\n",
       " ('TEL', False),\n",
       " ('THRM', False),\n",
       " ('TMO', False),\n",
       " ('TSCO', False),\n",
       " ('TW', False),\n",
       " ('TX', False),\n",
       " ('TXN', False),\n",
       " ('TXT', False),\n",
       " ('USSG', False),\n",
       " ('VSTO', False),\n",
       " ('WCC', False),\n",
       " ('WDAY', False),\n",
       " ('WFG', False),\n",
       " ('WM', False),\n",
       " ('XLRE', False),\n",
       " ('XLV', False),\n",
       " ('XYL', False),\n",
       " ('YUM', False),\n",
       " ('ZTS', False),\n",
       " ('CASH', True)]"
      ]
     },
     "execution_count": 129,
     "metadata": {},
     "output_type": "execute_result"
    }
   ],
   "source": [
    "list(zip(ticks, tick_filter))"
   ]
  },
  {
   "cell_type": "markdown",
   "metadata": {},
   "source": [
    "# Plotting"
   ]
  },
  {
   "cell_type": "code",
   "execution_count": 130,
   "metadata": {},
   "outputs": [],
   "source": [
    "SAT = 0.5\n",
    "LUM = 0.5"
   ]
  },
  {
   "cell_type": "code",
   "execution_count": 131,
   "metadata": {},
   "outputs": [],
   "source": [
    "color_list = [colorsys.hls_to_rgb(h, LUM, SAT) for h in np.linspace(0.0, 1.0, len(ticks), endpoint=False)]\n",
    "color_list = [RGB(r*255,g*255,d*255) for r,g,d in color_list]\n",
    "color_list_accounts = [colorsys.hls_to_rgb(h, LUM, SAT) for h in np.linspace(0.0, 1.0, len(profiles), endpoint=False)]\n",
    "color_list_accounts = [RGB(r*255,g*255,d*255) for r,g,d in color_list_accounts]"
   ]
  },
  {
   "cell_type": "code",
   "execution_count": 135,
   "metadata": {
    "pycharm": {
     "is_executing": true
    },
    "scrolled": false
   },
   "outputs": [
    {
     "name": "stdout",
     "output_type": "stream",
     "text": [
      "9027.460000000001\n",
      "0.009999999999999995\n",
      "[Figure(id='6032', ...), Figure(id='6062', ...)]\n",
      "[Figure(id='6092', ...), Figure(id='6122', ...)]\n",
      "===== Render Existing Profile Pie Charts ====\n",
      "[0.         0.         0.         0.         0.         0.\n",
      " 0.         0.         0.         0.         0.         0.\n",
      " 0.         0.         0.         0.         0.         0.\n",
      " 0.         0.         0.         0.         0.         0.\n",
      " 0.         0.         0.         0.         0.         0.\n",
      " 0.         0.         0.         0.         0.         0.\n",
      " 0.         0.         0.         0.         0.         0.34655857\n",
      " 0.         0.         0.         0.         0.00743651 0.\n",
      " 0.         0.         0.         0.         0.         0.\n",
      " 0.         0.         0.         0.         0.         0.\n",
      " 0.         0.         0.         0.         0.         0.\n",
      " 0.         0.         0.         0.         0.         0.\n",
      " 0.         0.         0.         0.         0.         0.\n",
      " 0.         0.         0.         0.         0.         0.\n",
      " 0.         0.         0.         0.         0.         0.\n",
      " 0.         0.         0.         0.         0.         0.\n",
      " 0.         0.         0.         0.         0.         0.\n",
      " 0.         0.         0.         0.         0.         0.\n",
      " 0.         0.         0.         0.         0.         0.\n",
      " 0.64600491]\n",
      "[0. 0. 0. 0. 0. 0. 0. 0. 0. 0. 0. 0. 0. 0. 0. 0. 0. 0. 0. 0. 0. 0. 0. 0.\n",
      " 0. 0. 0. 0. 0. 0. 0. 0. 0. 0. 0. 0. 0. 0. 0. 0. 0. 0. 0. 0. 0. 0. 0. 0.\n",
      " 0. 0. 0. 0. 0. 0. 0. 0. 0. 0. 0. 0. 0. 0. 0. 0. 0. 0. 0. 0. 0. 0. 0. 0.\n",
      " 0. 0. 0. 0. 0. 0. 0. 0. 0. 0. 0. 0. 0. 0. 0. 0. 0. 0. 0. 0. 0. 0. 0. 0.\n",
      " 0. 0. 0. 0. 0. 0. 0. 0. 0. 0. 0. 0. 0. 0. 0. 0. 0. 0. 1.]\n",
      "[Figure(id='6263', ...), Figure(id='6321', ...)]\n",
      "funds [(0.20934954875046505, 0.12122133476984831), (0.04183800037419829, -0.010754445229537613), (0.42551600951177165, 0.5219375900211471), (0.0, 0.0)]\n"
     ]
    }
   ],
   "source": [
    "source = ColumnDataSource(price_data)\n",
    "# ===== Setup Plot ====\n",
    "p = figure(\n",
    "    sizing_mode = \"stretch_both\", \n",
    "    title=\"Efficient frontier.\",\n",
    "    tools='box_zoom,wheel_zoom,reset', \n",
    "    toolbar_location='right',\n",
    "    x_range=(-0.25,1.0)\n",
    ")\n",
    "p.add_tools(CrosshairTool(line_alpha=1, line_color='lightgray', line_width=1))\n",
    "p.add_tools(HoverTool(tooltips=None))\n",
    "\n",
    "p.xaxis.axis_label = 'Volatility, or risk (standard deviation)'\n",
    "p.yaxis.axis_label = 'Annual return'\n",
    "p.xaxis[0].formatter = NumeralTickFormatter(format=\"0.0%\")\n",
    "p.yaxis[0].formatter = NumeralTickFormatter(format=\"0.0%\")\n",
    "# ===== Render Boundries ====\n",
    "risk_boundry = Span(location=np.min([get_risk(min_risk_wts, options)for min_risk_wts, options in zip(min_risk_weights,profiles_options)]),\n",
    "                    dimension='height', line_color='#3A5311',\n",
    "                    line_width=1)\n",
    "return_boundry = Span(location=np.max([get_return(max_return_wts, options)for max_return_wts, options in zip(max_return_weights,profiles_options)]), \n",
    "                      dimension='width', line_color='#3A5311',\n",
    "                      line_width=1)\n",
    "current_inf_boundry = Span(location=current_inflation, \n",
    "                      dimension='width', line_color='#03C04A',\n",
    "                           line_width=1)\n",
    "average_inf_boundry = Span(location=avg_inflation, \n",
    "                      dimension='width', line_color='#607D3B',\n",
    "                           line_width=1)\n",
    "p.renderers.extend([risk_boundry, return_boundry, current_inf_boundry, average_inf_boundry])\n",
    "# ===== Render Best Sharpe Line ====\n",
    "for p_ in range(len(profiles_names)):\n",
    "#     if p_ == 1: continue\n",
    "    boundry = best_weights_range[p_]\n",
    "\n",
    "    l = p.line(\n",
    "        get_risk_v(boundry, profiles_options[p_]),\n",
    "        get_return_v(boundry, profiles_options[p_]), \n",
    "        color=\"purple\",\n",
    "    #     legend_label=\"Max Sharpe Line?\",\n",
    "        line_width=1)\n",
    "\n",
    "    p.add_tools(HoverTool(renderers=[l], tooltips=[\n",
    "        ('Name', \"Max Sharpe Line {}\".format(profiles_names[p_]))\n",
    "    ]))\n",
    "# ===== Render Sharpe Lines ====\n",
    "max_ret = np.max([get_return(max_return_wts, options)for max_return_wts, options in zip(max_return_weights,profiles_options)])\n",
    "p.line([0,max_ret],\n",
    "       [0,max_ret],\n",
    "#        legend_label=\"Sharpe Of 1\",\n",
    "       color=\"#00B7EB\",line_width=1)\n",
    "p.line([0,0.5*max_ret],\n",
    "       [0,max_ret],\n",
    "#        legend_label=\"Sharpe Of 2\",\n",
    "       color=\"#6495ED\",line_width=1)\n",
    "p.line([0,(1.0/3.0)*max_ret],\n",
    "       [0,max_ret],\n",
    "#        legend_label=\"Sharpe Of 3\",\n",
    "       color=\"#007FFF\",line_width=1)\n",
    "# ====== Render Prices ======\n",
    "t = figure(\n",
    "    sizing_mode = \"stretch_both\", \n",
    "    title=\"Distance from Mean Over Time\",\n",
    "    tools='box_zoom,wheel_zoom,reset', \n",
    "    toolbar_location='right',\n",
    "    x_axis_type='datetime'\n",
    "#     x_range=(-0.25,1.0)\n",
    ")\n",
    "# timestamp_start = (datetime.combine(datepicker_start.value, datetime.min.time())\n",
    "#                         - datetime(1970, 1, 1)) / timedelta(seconds=1)\n",
    "# timestamp_end = (datetime.combine(datepicker_end.value, datetime.min.time())\n",
    "#                     - datetime(1970, 1, 1)) / timedelta(seconds=1)\n",
    "visible_range=30\n",
    "range_ = 365*1\n",
    "t.x_range.start = (datetime.now().timestamp() - visible_range*24*60*60) * 1000  # Multiply by 1e3 as JS timestamp is in milliseconds\n",
    "t.x_range.end   = datetime.now().timestamp() * 1000  # Multiply by 1e3 as JS timestamp is in milliseconds\n",
    "adjusted_prices = (price_data-price_data[-range_:].mean())/price_data[-range_:].std()\n",
    "t.y_range.start = adjusted_prices[-visible_range:].min().min() \n",
    "t.y_range.end = adjusted_prices[-visible_range:].max().max()\n",
    "\n",
    "t.add_tools(CrosshairTool(line_alpha=1, line_color='lightgray', line_width=1))\n",
    "t.add_tools(HoverTool(tooltips=None))\n",
    "\n",
    "t.xaxis.axis_label = 'Date'\n",
    "t.yaxis.axis_label = 'STD'\n",
    "t.xaxis[0].formatter = DatetimeTickFormatter(days=[\"%b %d, %Y\"])\n",
    "t.yaxis[0].formatter = NumeralTickFormatter(format=\"0.0\")\n",
    "\n",
    "# ===== Plot prices =====\n",
    "\n",
    "source = ColumnDataSource(adjusted_prices)\n",
    "# source = ColumnDataSource((price_data))\n",
    "renderers=[]\n",
    "tooltips = []\n",
    "for i in range(len(ticks)):\n",
    "    if tick_filter[i]:\n",
    "        l = t.line(x = \"Date\", y=ticks[i],\n",
    "                 source=source,\n",
    "                 legend_label=ticks[i], \n",
    "                 name=ticks[i], \n",
    "                 color=color_list[i])\n",
    "        renderers.append(l)        \n",
    "tooltips.append(('Ticker', \"$name\"))\n",
    "t.add_tools(HoverTool(renderers=renderers, tooltips=tooltips))\n",
    "\n",
    "# ===== Render Rebalance Buy Charts ====\n",
    "fidelity_buy_values = []\n",
    "fidelity_buy_pies = []\n",
    "for i in range(len(profiles)):\n",
    "    \n",
    "    if profiles_targets[i] is not None:\n",
    "        wts = get_weights(profile_changes[i] * (profile_changes[i] > 0))\n",
    "        cash = np.sum(profile_changes[i] * (profile_changes[i] > 0))\n",
    "    else:\n",
    "        wts = get_weights(profile_makeup.loc[profiles[i]].to_numpy())\n",
    "        cash = np.sum(profile_makeup.loc[profiles[i]].to_numpy())\n",
    "    if CASH_OVERIDE is not None:\n",
    "        print(cash)\n",
    "        cash = min(cash, CASH_OVERIDE)\n",
    "\n",
    "    fidelity_buy_pies.append(\n",
    "        plot_portfolio_composition(ticks,\n",
    "                                   wts,\n",
    "                                   profiles_names[i] + \" Buy $%d\"%(cash),\n",
    "                                   color_list,\n",
    "                                   cash = cash))\n",
    "    fidelity_buy_values.append(wts * cash)\n",
    "\n",
    "print(fidelity_buy_pies)\n",
    "# ===== Render Rebalance Sell Pie Charts ====\n",
    "fidelity_sell_values = []\n",
    "fidelity_sell_pies = []\n",
    "for i in range(len(profiles)):\n",
    "    \n",
    "    if profiles_targets[i] is not None:\n",
    "        wts = get_weights(-profile_changes[i] * (profile_changes[i] < 0))\n",
    "        cash = np.sum(-profile_changes[i] * (profile_changes[i] < 0))\n",
    "        \n",
    "    else:\n",
    "        wts = get_weights(profile_makeup.loc[profiles[i]].to_numpy())\n",
    "        cash = np.sum(profile_makeup.loc[profiles[i]].to_numpy())\n",
    "    if CASH_OVERIDE is not None:\n",
    "        cash = min(cash, CASH_OVERIDE)\n",
    "    \n",
    "\n",
    "                            \n",
    "    fidelity_sell_pies.append(\n",
    "        plot_portfolio_composition(ticks,\n",
    "                                   wts,\n",
    "                                   profiles_names[i] + \" Sell $%d\"%(cash),\n",
    "                                   color_list,\n",
    "                                   cash = cash))\n",
    "    fidelity_sell_values.append(wts * cash)\n",
    "\n",
    "print(fidelity_sell_pies)\n",
    "# ===== Render Target Profile Pie Charts ====\n",
    "fidelity_targets = []\n",
    "renderers = []\n",
    "\n",
    "for i in range(len(target_weights)):\n",
    "    fidelity_targets.append(\n",
    "        plot_portfolio_composition(\n",
    "            (ticks if len(target_weights[i]) > len(ticks) else ticks),\n",
    "            get_weights(target_weights[i]),\n",
    "            profiles_names[i] + \" Target\",\n",
    "            color_list\n",
    "        ))\n",
    "    if np.sum(target_weights[i]) != 0.0:\n",
    "        c = p.circle(get_risk(get_weights(target_weights[i]), set(ticks)),\n",
    "                     get_return(get_weights(target_weights[i]), set(ticks)),\n",
    "                     color=color_list_accounts[i],\n",
    "                     alpha=0.6,\n",
    "                     name=profiles_names[i] + \" Target\",\n",
    "                     legend_label=profiles_names[i] + \" Target\",\n",
    "                     size=15)\n",
    "        renderers.append(c)\n",
    "# ===== Render Existing Profile Pie Charts ====\n",
    "print(\"===== Render Existing Profile Pie Charts ====\")\n",
    "fidelity_pies = []\n",
    "tooltips = []\n",
    "for i in range(len(profiles)):\n",
    "    wts = get_weights(profile_makeup.loc[profiles[i]].to_numpy())\n",
    "    print(wts)\n",
    "\n",
    "    fidelity_pies.append(\n",
    "        plot_portfolio_composition(ticks,\n",
    "                                   wts,\n",
    "                                   profiles_names[i],\n",
    "                                   color_list))\n",
    "    if np.sum(wts) != 0.0:\n",
    "        c = p.circle(get_risk(wts, set(ticks)), \n",
    "                     get_return(wts, set(ticks)), \n",
    "                     color=color_list_accounts[i], \n",
    "                     name=profiles_names[i],\n",
    "                     legend_label=profiles_names[i],\n",
    "                     size=15)\n",
    "        renderers.append(c)        \n",
    "print(fidelity_pies)\n",
    "tooltips.append(('Profile', \"$name\"))\n",
    "p.add_tools(HoverTool(renderers=renderers, tooltips=tooltips))\n",
    "# ===== Render Funds ====\n",
    "wts = np.eye(len(ticks))\n",
    "risks_ = get_risk_v(wts, ticks)\n",
    "returns_ = get_return_v(wts, ticks)\n",
    "colors = color_list\n",
    "print(\"funds\", list(zip(list(itertools.compress(risks_,tick_filter)), list(itertools.compress(returns_,tick_filter)))))\n",
    "funds_source = ColumnDataSource(dict(\n",
    "    risks=list(itertools.compress(risks_,tick_filter)),\n",
    "    returns=list(itertools.compress(returns_,tick_filter)),\n",
    "    color=list(itertools.compress(color_list,tick_filter)),\n",
    "    ticks=list(itertools.compress(ticks,tick_filter)),\n",
    "    tick_names=list(itertools.compress(tick_names,tick_filter)) \n",
    "))\n",
    "renderers = []\n",
    "\n",
    "renderers.append(p.circle( x='risks', y='returns', color='color', name='ticks', legend_field='ticks', size=10, alpha=0.8, source=funds_source))\n",
    "p.add_tools(HoverTool(renderers=renderers, tooltips=[\n",
    "    ('Tick', \"@ticks\"),('Tick Name', \"@tick_names\")\n",
    "]))\n",
    "\n",
    "# ===== Adjusting Legend ====\n",
    "p.legend.location = \"top_left\"\n",
    "# p.legend.visible = False\n",
    "p.legend.click_policy=\"hide\"\n",
    "p.legend.__setattr__('label_text_font_size', '8pt')\n",
    "\n",
    "\n",
    "t.legend.location = \"top_left\"\n",
    "# t.legend.visible = False\n",
    "t.legend.click_policy=\"hide\"\n",
    "t.legend.__setattr__('label_text_font_size', '8pt')\n",
    "# ===== Create dashboard and open new window to show results ====\n",
    "names = [name + \" Sell\" for name in profiles_names]+[name + \" Buy\" for name in profiles_names]\n",
    "names_alt = [None]*(2*len(profiles_names))\n",
    "names_alt[::2] = [name + \" Sell\" for name in profiles_names]\n",
    "names_alt[1::2] = [name + \" Buy\" for name in profiles_names]\n",
    "DF = pd.DataFrame({\n",
    "    name:[round(val, 2) for val in vals] \n",
    "    for name,vals in zip(names,fidelity_sell_values+fidelity_buy_values)\n",
    "}, index=ticks)\n",
    "DF = DF[DF.sum(axis=1) > 0]\n",
    "cols = list(DF[DF.sum(axis=1) > 0].columns)\n",
    "buy_sells_table = {col:list(DF[col]) for col in cols}\n",
    "buy_sells_table[\"Ticks\"] = list(DF.index)\n",
    "\n",
    "buy_self_source = ColumnDataSource(buy_sells_table)\n",
    "layout_ = row([ \n",
    "        column([\n",
    "            p,\n",
    "            t,\n",
    "        ], sizing_mode = \"stretch_both\"),\n",
    "    column([\n",
    "        row(fidelity_pies,\n",
    "               sizing_mode = \"stretch_height\"), \n",
    "        row(fidelity_targets\n",
    "               , sizing_mode = \"stretch_height\"),\n",
    "        \n",
    "        DataTable(columns=[TableColumn(title=\"Ticks\", field=\"Ticks\")] + [TableColumn(title=name, field=name) for name in names_alt], \n",
    "                  index_position=None,\n",
    "                  source=buy_self_source,\n",
    "                  editable=True,\n",
    "                  \n",
    "                  sizing_mode = \"stretch_both\")\n",
    "    ])\n",
    "    ],\n",
    "#     width=1500,\n",
    "    sizing_mode = \"stretch_both\")\n",
    "    \n",
    "show(layout_)"
   ]
  },
  {
   "cell_type": "code",
   "execution_count": null,
   "metadata": {},
   "outputs": [],
   "source": []
  },
  {
   "cell_type": "code",
   "execution_count": null,
   "metadata": {},
   "outputs": [],
   "source": []
  }
 ],
 "metadata": {
  "kernelspec": {
   "display_name": "Python 3",
   "language": "python",
   "name": "python3"
  },
  "language_info": {
   "codemirror_mode": {
    "name": "ipython",
    "version": 3
   },
   "file_extension": ".py",
   "mimetype": "text/x-python",
   "name": "python",
   "nbconvert_exporter": "python",
   "pygments_lexer": "ipython3",
   "version": "3.6.6"
  }
 },
 "nbformat": 4,
 "nbformat_minor": 4
}

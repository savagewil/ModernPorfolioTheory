{
 "cells": [
  {
   "cell_type": "code",
   "execution_count": null,
   "id": "capable-alert",
   "metadata": {},
   "outputs": [],
   "source": [
    "from bokeh.client import push_session\n",
    "from bokeh.io import curdoc\n",
    "from bokeh.layouts import row\n",
    "from bokeh.models import ColumnDataSource\n",
    "from bokeh.models.widgets import DataTable, TableColumn\n",
    "curdoc().clear()\n",
    "#replaced `sin(x)` with `x+2`\n",
    "x=[i for i in range(10)]\n",
    "def update_y(x):\n",
    "      y=[]\n",
    "      for i in x:\n",
    "            y.append(int(i)+2)\n",
    "      return y\n",
    "\n",
    "def update_table(x):\n",
    "      y=update_y(x)\n",
    "      data=dict(x=x,y=y)\n",
    "      source=ColumnDataSource(data)\n",
    "      columns=[TableColumn(field='x',title='x'),TableColumn(field='y',title='y')]\n",
    "      data_table=DataTable(source=source,columns=columns,width=500,height=500,editable=True)\n",
    "      curdoc().clear()\n",
    "      curdoc().add_root(row(data_table))\n",
    "      source.on_change('data',update)\n",
    "def update(attr,old,new):\n",
    "      update_table(new['x'])\n",
    "\n",
    "ses=push_session(curdoc())\n",
    "update_table(x)  \n",
    "ses.show()\n",
    "ses.loop_until_closed()"
   ]
  },
  {
   "cell_type": "code",
   "execution_count": null,
   "id": "renewable-virginia",
   "metadata": {},
   "outputs": [],
   "source": []
  }
 ],
 "metadata": {
  "kernelspec": {
   "display_name": "Python 3",
   "language": "python",
   "name": "python2"
  },
  "language_info": {
   "codemirror_mode": {
    "name": "ipython",
    "version": 3
   },
   "file_extension": ".py",
   "mimetype": "text/x-python",
   "name": "python",
   "nbconvert_exporter": "python",
   "pygments_lexer": "ipython3",
   "version": "3.7.6"
  }
 },
 "nbformat": 4,
 "nbformat_minor": 5
}
